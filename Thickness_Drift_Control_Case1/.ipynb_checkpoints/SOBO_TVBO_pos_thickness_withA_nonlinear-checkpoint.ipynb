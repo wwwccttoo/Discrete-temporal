{
 "cells": [
  {
   "cell_type": "code",
   "execution_count": 1,
   "metadata": {},
   "outputs": [],
   "source": [
    "import botorch\n",
    "import torch\n",
    "import matlab.engine\n",
    "import io\n",
    "import os\n",
    "import numpy as np\n",
    "import math\n",
    "\n",
    "eng = matlab.engine.start_matlab()\n",
    "eng.cd(r'./MPC_BO_Thickness_ver5.0_CASE2_nonlinear_Varying_Thickness_Temp_s', nargout=0)"
   ]
  },
  {
   "cell_type": "code",
   "execution_count": 2,
   "metadata": {},
   "outputs": [],
   "source": [
    "# Now, the second return is 1 if succeed, 0 otherwise\n",
    "def problem_wrapper(dA=1.5):\n",
    "    def problem(Tref, Iref, Aref1, Aref2, Aref3):\n",
    "        res = eng.RT_control_return(Tref, Iref, matlab.double([[Aref1],[Aref2],[Aref3]]), dA, stdout=io.StringIO())\n",
    "        return torch.from_numpy(np.asarray(res))\n",
    "    return problem"
   ]
  },
  {
   "cell_type": "code",
   "execution_count": 3,
   "metadata": {},
   "outputs": [],
   "source": [
    "tkwargs = {\n",
    "    \"dtype\": torch.double,\n",
    "    \"device\": torch.device(\"cuda\" if torch.cuda.is_available() else \"cpu\"),\n",
    "}\n",
    "SMOKE_TEST = os.environ.get(\"SMOKE_TEST\")"
   ]
  },
  {
   "cell_type": "code",
   "execution_count": 4,
   "metadata": {},
   "outputs": [],
   "source": [
    "from botorch.models.gp_regression import FixedNoiseGP\n",
    "from botorch.models.model_list_gp_regression import ModelListGP\n",
    "from botorch.models.transforms.outcome import Standardize\n",
    "from botorch.utils.sampling import draw_sobol_samples\n",
    "from botorch.utils.transforms import normalize, unnormalize\n",
    "from gpytorch.mlls.sum_marginal_log_likelihood import SumMarginalLogLikelihood, ExactMarginalLogLikelihood"
   ]
  },
  {
   "cell_type": "code",
   "execution_count": 5,
   "metadata": {},
   "outputs": [],
   "source": [
    "from botorch.acquisition.multi_objective.monte_carlo import (\n",
    "    qNoisyExpectedHypervolumeImprovement,\n",
    ")\n",
    "from botorch.acquisition.monte_carlo import qNoisyExpectedImprovement\n",
    "from botorch.acquisition.objective import GenericMCObjective, MCAcquisitionObjective\n",
    "from botorch.optim.optimize import optimize_acqf, optimize_acqf_list\n",
    "from botorch.utils.multi_objective.box_decompositions.non_dominated import FastNondominatedPartitioning\n",
    "from botorch.utils.multi_objective.scalarization import get_chebyshev_scalarization\n",
    "from botorch.acquisition.multi_objective.objective import MCMultiOutputObjective\n",
    "from botorch.utils.sampling import sample_simplex\n",
    "\n",
    "BATCH_SIZE = 1\n",
    "NUM_RESTARTS = 256 if not SMOKE_TEST else 2\n",
    "RAW_SAMPLES = 512 if not SMOKE_TEST else 4\n",
    "\n",
    "bounds = torch.tensor([[35, 1500, 1.4016/2., -14.4395*2., 12.5570/2.],\n",
    "                       [65, 3000, 1.4016*2., -14.4395/2., 12.5570*2.]]).to(**tkwargs)\n",
    "#bounds = torch.tensor([[35, 1500, 1.4016*1.0, -14.4395*1.5, 12.5570*1.0],\n",
    "#                       [65, 3000, 1.4016*1.5, -14.4395*1.0, 12.5570*1.5]]).to(**tkwargs)\n",
    "standard_bounds = torch.zeros(2, bounds.shape[1], **tkwargs)\n",
    "standard_bounds[1] = 1\n",
    "# need to also include the bounds for the run idx\n",
    "# though this is fixed during AF optimization\n",
    "bounds = torch.cat((bounds, torch.tensor([[0],[100]]).to(**tkwargs)), dim=-1)\n",
    "bounds[1, -1] = 1.\n",
    "# we do not normalized the time (index)\n",
    "standard_bounds = torch.cat((standard_bounds, torch.tensor([[0],[100]]).to(**tkwargs)), dim=-1)\n",
    "# extra bounds for time (index) to make the AF optimization happy\n"
   ]
  },
  {
   "cell_type": "code",
   "execution_count": 6,
   "metadata": {},
   "outputs": [],
   "source": [
    "from torch import Tensor\n",
    "from typing import Optional\n",
    "from botorch.models.transforms.input import InputTransform\n",
    "from gpytorch import Module as GPyTorchModule\n",
    "from botorch.models.transforms.utils import subset_transform\n",
    "from torch.distributions import MultivariateNormal\n",
    "from gpytorch.constraints import Interval\n",
    "import math\n",
    "\n",
    "class PosEncode(InputTransform, GPyTorchModule):\n",
    "    r\"\"\"A transform that uses learned input warping functions.\n",
    "    \"\"\"\n",
    "\n",
    "    def __init__(\n",
    "        self,\n",
    "        positional_emb_dim: int,\n",
    "        reduce_to_one: bool = False,\n",
    "        transform_on_train: bool = True,\n",
    "        transform_on_eval: bool = True,\n",
    "        transform_on_fantasize: bool = True,\n",
    "        batch_shape: Optional[torch.Size] = None,\n",
    "    ) -> None:\n",
    "        r\"\"\"Initialize transform.\n",
    "\n",
    "        Args:\n",
    "            positional_emb_dim: Int, the positional embedding dimension, must be an even number.\n",
    "            reduce_to_one: Bool, if we project the positional embedding to one variable (using NN like layer).\n",
    "            transform_on_train: A boolean indicating whether to apply the\n",
    "                transforms in train() mode. Default: True.\n",
    "            transform_on_eval: A boolean indicating whether to apply the\n",
    "                transform in eval() mode. Default: True.\n",
    "            transform_on_fantasize: A boolean indicating whether to apply the\n",
    "                transform when called from within a `fantasize` call. Default: True.\n",
    "            batch_shape: The batch shape.\n",
    "        \"\"\"\n",
    "        super().__init__()\n",
    "        self.positional_emb_dim = positional_emb_dim\n",
    "        self.reduce_to_one = reduce_to_one\n",
    "        self.transform_on_train = transform_on_train\n",
    "        self.transform_on_eval = transform_on_eval\n",
    "        self.transform_on_fantasize = transform_on_fantasize\n",
    "        self.batch_shape = batch_shape or torch.Size([])\n",
    "        if len(self.batch_shape) > 0:\n",
    "            # Note: this follows the gpytorch shape convention for lengthscales\n",
    "            # There is ongoing discussion about the extra `1`.\n",
    "            # TODO: update to follow new gpytorch convention resulting from\n",
    "            # https://github.com/cornellius-gp/gpytorch/issues/1317\n",
    "            batch_shape = self.batch_shape + torch.Size([1])\n",
    "        else:\n",
    "            batch_shape = self.batch_shape\n",
    "        if self.reduce_to_one:\n",
    "            # register weights\n",
    "            self.register_parameter('linear_W', torch.nn.Parameter(torch.zeros((positional_emb_dim, 1)).to(**tkwargs)))\n",
    "            torch.nn.init.kaiming_normal_(self.linear_W)\n",
    "            # register bias\n",
    "            self.register_parameter('linear_B', torch.nn.Parameter(torch.zeros((1,1)).to(**tkwargs)))\n",
    "            torch.nn.init.kaiming_normal_(self.linear_B)\n",
    "        self.register_parameter('positive_increase_scaler', torch.nn.Parameter(5*torch.ones((1,1)).to(**tkwargs)))\n",
    "        self.register_constraint('positive_increase_scaler', Interval(0, 10))\n",
    "\n",
    "    def get_positional_encoding(self, positional_emb_dim, idx_list):\n",
    "        position = idx_list.reshape(-1).unsqueeze(1)\n",
    "        div_term = torch.exp(torch.arange(0, positional_emb_dim, 2) * (-math.log(10000.0) / positional_emb_dim)).to(**tkwargs)\n",
    "        # Introduce a learnable scaling factor that increases with positional index\n",
    "        scaling_factor = torch.log(1+position*self.positive_increase_scaler)\n",
    "        pe = torch.zeros(len(position), 1, positional_emb_dim).to(**tkwargs)\n",
    "        pe[:, 0, 0::2] = torch.sin(position * div_term) * scaling_factor\n",
    "        pe[:, 0, 1::2] = torch.cos(position * div_term) * scaling_factor\n",
    "        return pe.squeeze(1) # (len, dim)\n",
    "\n",
    "    @subset_transform\n",
    "    def transform(self, X: Tensor) -> Tensor:\n",
    "        r\"\"\"Warp the inputs.\n",
    "\n",
    "        Args:\n",
    "            X: A `input_batch_shape x (batch_shape) x n x d`-dim tensor of inputs.\n",
    "                batch_shape here can either be self.batch_shape or 1's such that\n",
    "                it is broadcastable with self.batch_shape if self.batch_shape is set.\n",
    "\n",
    "        Returns:\n",
    "            A `input_batch_shape x (batch_shape) x n x d`-dim tensor of transformed\n",
    "                inputs.\n",
    "        \"\"\"\n",
    "        positions = X.reshape(-1, X.shape[-1])[..., -1]\n",
    "        PEs = self.get_positional_encoding(self.positional_emb_dim, positions)\n",
    "        if self.reduce_to_one:\n",
    "            # maybe need to pull the distribution back?\n",
    "            # apply abs and a scaler factor, (almost) making sure the scalar is increasing\n",
    "            # as the index increases\n",
    "            PEs = PEs.abs()@torch.abs(self.linear_W)/math.sqrt(PEs.shape[-1]) + torch.abs(self.linear_B)\n",
    "            PEs = torch.nn.functional.gelu(PEs).reshape(X.shape[:-1]+(1, ))\n",
    "        else:\n",
    "            PEs = PEs.reshape(X.shape[:-1]+(self.positional_emb_dim,))\n",
    "        \n",
    "        return torch.cat((X[...,:-1], PEs), dim=-1)\n",
    "    \n",
    "    @property\n",
    "    def _k(self) -> MultivariateNormal:\n",
    "        \"\"\"Returns a MultivariateNormal distribution.\"\"\"\n",
    "        return MultivariateNormal(\n",
    "            loc=torch.zeros((self.positional_emb_dim+1)),\n",
    "            covariance_matrix=torch.eye((self.positional_emb_dim+1)),\n",
    "        )"
   ]
  },
  {
   "cell_type": "code",
   "execution_count": 7,
   "metadata": {},
   "outputs": [],
   "source": [
    "from covar_module import get_spatio_temp_kernel\n",
    "NOISE_SE = torch.tensor([0.0] * 1, **tkwargs)\n",
    "\n",
    "def generate_initial_data(problem, n=6):\n",
    "    # generate training data\n",
    "    train_x = draw_sobol_samples(bounds=bounds[:,:-1], n=n, q=1).squeeze(1)\n",
    "    train_obj_true = torch.cat([problem(*_.tolist()).reshape(1,-1) for _ in train_x], dim=0)\n",
    "    train_obj = train_obj_true + torch.randn_like(train_obj_true) * NOISE_SE\n",
    "    return train_x, train_obj, train_obj_true\n",
    "\n",
    "\n",
    "def initialize_model(train_x, \n",
    "                     train_obj, \n",
    "                     input_trans=None, \n",
    "                     input_trans_args=None,\n",
    "                     type_of_forgetting='UI',\n",
    "                     forgetting_factor=0.03):\n",
    "    # define models for objective and constraint\n",
    "    train_x = normalize(train_x, bounds)\n",
    "    models = []\n",
    "    for i in range(train_obj.shape[-1]):\n",
    "        train_y = train_obj[..., i : i + 1]\n",
    "        train_yvar = torch.full_like(train_y, NOISE_SE[i] ** 2)\n",
    "        covar = get_spatio_temp_kernel(train_x,\n",
    "                                       train_y, \n",
    "                                       type_of_forgetting=type_of_forgetting,\n",
    "                                       forgetting_factor=forgetting_factor)\n",
    "        if input_trans is not None:\n",
    "            models.append(FixedNoiseGP(train_x,\n",
    "                                       train_y, \n",
    "                                       train_yvar, \n",
    "                                       covar_module=covar,\n",
    "                                       outcome_transform=Standardize(m=1), \n",
    "                                       input_transform=input_trans(**input_trans_args)))\n",
    "        else:         \n",
    "            models.append(FixedNoiseGP(train_x, \n",
    "                                       train_y, \n",
    "                                       train_yvar,\n",
    "                                       covar_module=covar, \n",
    "                                       outcome_transform=Standardize(m=1)))\n",
    "    model = models[0] # in this case it is single objective!!!\n",
    "    mll = ExactMarginalLogLikelihood(model.likelihood, model)\n",
    "    return mll, model"
   ]
  },
  {
   "cell_type": "code",
   "execution_count": 8,
   "metadata": {},
   "outputs": [],
   "source": [
    "# define a MCMultiOutputObjective convert thickness and time to\n",
    "# (thickness-ref_thickness)**2 and (time-ref_time)**2\n",
    "\n",
    "class obj_convert(MCAcquisitionObjective):\n",
    "    def __init__(self):\n",
    "        super().__init__()\n",
    "    \n",
    "    def forward(self, samples, X = None):\n",
    "        ans = -(samples-1.)**2\n",
    "        if ans.shape[-1] == 1:\n",
    "            ans = ans.squeeze(-1)\n",
    "        return ans # just the thickness\n",
    "\n",
    "\n",
    "def optimize_qnehvi_and_get_observation(model, train_x, train_obj, sampler, problem, run_num):\n",
    "    \"\"\"Optimizes the qNEI acquisition function, and returns a new candidate and observation.\"\"\"\n",
    "    batch = BATCH_SIZE\n",
    "    # build the casadi optimization for MPC retry here\n",
    "    final_new_x = torch.zeros((0, train_x.shape[-1])).to(train_x)\n",
    "    final_new_obj = torch.zeros((0, train_obj.shape[-1])).to(train_obj)\n",
    "    final_new_obj_true = torch.zeros((0, train_obj.shape[-1])).to(train_obj)\n",
    "\n",
    "    # check how many recalculation we did....\n",
    "    retry_count = 0\n",
    "    while batch and retry_count <= BATCH_SIZE*10:\n",
    "        retry_count += batch\n",
    "        # partition non-dominated space into disjoint rectangles\n",
    "        acq_func = qNoisyExpectedImprovement(\n",
    "            model=model,\n",
    "            objective=obj_convert(),\n",
    "            X_baseline=normalize(train_x, bounds),\n",
    "            prune_baseline=True,  # prune baseline points that have estimated zero probability of being Pareto optimal\n",
    "            sampler=sampler,\n",
    "        )\n",
    "        # optimize\n",
    "        candidates, _ = optimize_acqf(\n",
    "            acq_function=acq_func,\n",
    "            bounds=standard_bounds,\n",
    "            fixed_features={bounds.shape[-1]-1: float(run_num)},\n",
    "            q=batch,\n",
    "            num_restarts=NUM_RESTARTS,\n",
    "            raw_samples=RAW_SAMPLES,  # used for intialization heuristic\n",
    "            options={\"batch_limit\": 5, \"maxiter\": 1000},\n",
    "            sequential=True,\n",
    "        )\n",
    "        # observe new values\n",
    "        new_x = unnormalize(candidates[...,:-1].detach(), bounds=bounds[:,:-1])\n",
    "        new_obj_true = torch.cat([problem(*_.tolist()).reshape(1,-1) for _ in new_x], dim=0)\n",
    "        #print(new_obj_true)\n",
    "        # check solution status\n",
    "        succeed = new_obj_true[:, -1] == 1.\n",
    "        #print(succeed)\n",
    "        new_x = new_x[succeed.reshape(-1), :]\n",
    "        #print(new_x.shape)\n",
    "        candidates = candidates[succeed.reshape(-1), :]\n",
    "        # chop donw the final dimension, which is just the MPC optimization succeed status\n",
    "        new_obj_true = new_obj_true[succeed.reshape(-1), :-1]\n",
    "        new_obj = new_obj_true + torch.randn_like(new_obj_true) * NOISE_SE\n",
    "        new_x = torch.cat((new_x, candidates[...,-1].detach().unsqueeze(-1)), dim=-1)\n",
    "\n",
    "        final_new_x = torch.cat([final_new_x, new_x], dim=0)\n",
    "        final_new_obj = torch.cat([final_new_obj, new_obj], dim=0)\n",
    "        final_new_obj_true = torch.cat([final_new_obj_true, new_obj_true], dim=0)\n",
    "\n",
    "        # check if we need more calculation...\n",
    "        batch = batch - new_x.shape[0]\n",
    "\n",
    "    return final_new_x, final_new_obj, final_new_obj_true, retry_count <= BATCH_SIZE*10"
   ]
  },
  {
   "cell_type": "code",
   "execution_count": 9,
   "metadata": {},
   "outputs": [],
   "source": [
    "\n",
    "import pickle\n",
    "with open('single_Pos_8_TVBO_UI_0.03.pkl', 'rb') as fp:\n",
    "    old_res = pickle.load(fp)\n"
   ]
  },
  {
   "cell_type": "code",
   "execution_count": 10,
   "metadata": {},
   "outputs": [],
   "source": [
    "def same_init(n=5):\n",
    "    cur_problem = problem_wrapper(1.0)\n",
    "    #train_init = generate_initial_data(cur_problem, n=n)\n",
    "    train_init = (old_res['outcome_X'][:10,:-1], old_res['outcome_Y'][:10,:], old_res['outcome_Y'][:10,:])\n",
    "    def BO_wrapper_with_same_init(embed_dim,\n",
    "                                  reduce_to_one, \n",
    "                                  batch_num,\n",
    "                                  type_of_forgetting='UI',\n",
    "                                  forgetting_factor=0.03):\n",
    "        import time\n",
    "        import warnings\n",
    "\n",
    "        from botorch.exceptions import BadInitialCandidatesWarning\n",
    "        from botorch.fit import fit_gpytorch_model\n",
    "        from botorch.sampling import SobolQMCNormalSampler\n",
    "\n",
    "        warnings.filterwarnings(\"ignore\", category=BadInitialCandidatesWarning)\n",
    "        warnings.filterwarnings(\"ignore\", category=RuntimeWarning)\n",
    "\n",
    "        N_BATCH = batch_num if not SMOKE_TEST else 10        \n",
    "        MC_SAMPLES = 512 if not SMOKE_TEST else 16\n",
    "\n",
    "        verbose = True\n",
    "\n",
    "        while True:\n",
    "            # call helper functions to generate initial training data and initialize model\n",
    "            res = {}\n",
    "            train_x_qnehvi, train_obj_qnehvi, train_obj_true_qnehvi = train_init\n",
    "            # need to assign index of 0, indicating we have data of the un-drifted model\n",
    "            train_x_qnehvi = torch.cat((train_x_qnehvi, torch.zeros((train_x_qnehvi.shape[0], 1)).to(**tkwargs)), dim=-1)\n",
    "            if embed_dim is not None:\n",
    "                mll_qnehvi, model_qnehvi = initialize_model(train_x_qnehvi, train_obj_qnehvi, \n",
    "                                                            PosEncode, {\"positional_emb_dim\": embed_dim, \"reduce_to_one\": reduce_to_one},\n",
    "                                                            type_of_forgetting=type_of_forgetting, forgetting_factor=forgetting_factor)\n",
    "            else:\n",
    "                mll_qnehvi, model_qnehvi = initialize_model(train_x_qnehvi, train_obj_qnehvi,\n",
    "                                                            type_of_forgetting=type_of_forgetting, forgetting_factor=forgetting_factor)\n",
    "\n",
    "            # run N_BATCH rounds of BayesOpt after the initial random batch\n",
    "            for iteration in range(2, N_BATCH + 1):\n",
    "\n",
    "                t0 = time.monotonic()\n",
    "\n",
    "                # fit the models\n",
    "                #for name, _ in mll_qnehvi.named_parameters():\n",
    "                #    print(name, _)\n",
    "                fit_gpytorch_model(mll_qnehvi)\n",
    "                #for name, _ in mll_qnehvi.named_parameters():\n",
    "                #    print(name, _)\n",
    "\n",
    "                # define the qEI and qNEI acquisition modules using a QMC sampler\n",
    "                qnehvi_sampler = SobolQMCNormalSampler(MC_SAMPLES)\n",
    "                #if iteration > 20:\n",
    "                #    run_num = 20 - 1\n",
    "                #else:\n",
    "                #    run_num = iteration-1\n",
    "                #dA_init = 1.0\n",
    "                #dA_final = 1.5\n",
    "                #No_run_max = 20\n",
    "                #dA = dA_init - (dA_init - dA_final)/(No_run_max-1)*(run_num)\n",
    "                \n",
    "                run_num = iteration-1\n",
    "                #dA = 0.5 /(1 + math.exp(-0.15*(run_num-50-1)))+1            \n",
    "                dA = 0.5 /(1 + math.exp(-0.10*(run_num-50-1)))+1            \n",
    "                print('\\n', dA)\n",
    "                cur_problem = problem_wrapper(dA)\n",
    "\n",
    "                # optimize acquisition functions and get new observations\n",
    "                (\n",
    "                    new_x_qnehvi,\n",
    "                    new_obj_qnehvi,\n",
    "                    new_obj_true_qnehvi,\n",
    "                    exit_status,\n",
    "                ) = optimize_qnehvi_and_get_observation(model_qnehvi, train_x_qnehvi, train_obj_qnehvi, qnehvi_sampler, cur_problem, run_num)\n",
    "\n",
    "                # if we failed to optimize several times (currently BATCH_SIZE*10), we just dump this trajectory!\n",
    "                if not exit_status and new_x_qnehvi.shape[0] != BATCH_SIZE:\n",
    "                    continue\n",
    "                # update training points\n",
    "                train_x_qnehvi = torch.cat([train_x_qnehvi, new_x_qnehvi])\n",
    "                train_obj_qnehvi = torch.cat([train_obj_qnehvi, new_obj_qnehvi])\n",
    "                train_obj_true_qnehvi = torch.cat([train_obj_true_qnehvi, new_obj_true_qnehvi])\n",
    "\n",
    "                # reinitialize the models so they are ready for fitting on next iteration\n",
    "                # Note: we find improved performance from not warm starting the model hyperparameters\n",
    "                # using the hyperparameters from the previous iteration\n",
    "                if embed_dim is not None:\n",
    "                    mll_qnehvi, model_qnehvi = initialize_model(train_x_qnehvi, train_obj_qnehvi, \n",
    "                                                                PosEncode, {\"positional_emb_dim\": embed_dim, \"reduce_to_one\": reduce_to_one})\n",
    "                else:\n",
    "                    mll_qnehvi, model_qnehvi = initialize_model(train_x_qnehvi, train_obj_qnehvi)\n",
    "\n",
    "                t1 = time.monotonic()\n",
    "\n",
    "                if verbose:\n",
    "                    print(\n",
    "                        f\"\\nBatch {iteration:>2}: \"\n",
    "                        f\"time = {t1-t0:>4.2f}\",\n",
    "                        end=\"\",\n",
    "                    )\n",
    "                else:\n",
    "                    print(\".\", end=\"\")\n",
    "            res[\"outcome_X\"] = train_x_qnehvi\n",
    "            res[\"outcome_Y\"] = train_obj_qnehvi\n",
    "            return res\n",
    "    return BO_wrapper_with_same_init"
   ]
  },
  {
   "cell_type": "code",
   "execution_count": 11,
   "metadata": {},
   "outputs": [],
   "source": [
    "run_drift = same_init(10)"
   ]
  },
  {
   "cell_type": "code",
   "execution_count": 12,
   "metadata": {},
   "outputs": [
    {
     "name": "stderr",
     "output_type": "stream",
     "text": [
      "C:\\Users\\khcho\\anaconda3\\lib\\site-packages\\torch\\functional.py:504: UserWarning: torch.meshgrid: in an upcoming release, it will be required to pass the indexing argument. (Triggered internally at C:\\actions-runner\\_work\\pytorch\\pytorch\\builder\\windows\\pytorch\\aten\\src\\ATen\\native\\TensorShape.cpp:3484.)\n",
      "  return _VF.meshgrid(tensors, **kwargs)  # type: ignore[attr-defined]\n"
     ]
    },
    {
     "name": "stdout",
     "output_type": "stream",
     "text": [
      "\n",
      " 1.0002763893184619\n"
     ]
    },
    {
     "name": "stderr",
     "output_type": "stream",
     "text": [
      "C:\\Users\\khcho\\AppData\\Local\\Temp\\ipykernel_12148\\1066255433.py:5: UserWarning: The given NumPy array is not writable, and PyTorch does not support non-writable tensors. This means writing to this tensor will result in undefined behavior. You may want to copy the array to protect its data or make it writable before converting it to a tensor. This type of warning will be suppressed for the rest of this program. (Triggered internally at C:\\actions-runner\\_work\\pytorch\\pytorch\\builder\\windows\\pytorch\\torch\\csrc\\utils\\tensor_numpy.cpp:212.)\n",
      "  return torch.from_numpy(np.asarray(res))\n"
     ]
    },
    {
     "name": "stdout",
     "output_type": "stream",
     "text": [
      "\n",
      "Batch  2: time = 19.70\n",
      " 1.000321089850293\n"
     ]
    },
    {
     "name": "stderr",
     "output_type": "stream",
     "text": [
      "C:\\Users\\khcho\\anaconda3\\lib\\site-packages\\botorch\\models\\utils\\assorted.py:173: InputDataWarning: Input data is not contained to the unit cube. Please consider min-max scaling the input data.\n",
      "  warnings.warn(msg, InputDataWarning)\n"
     ]
    },
    {
     "name": "stdout",
     "output_type": "stream",
     "text": [
      "\n",
      "Batch  3: time = 111.75\n",
      " 1.0003730144169183\n"
     ]
    },
    {
     "name": "stderr",
     "output_type": "stream",
     "text": [
      "C:\\Users\\khcho\\anaconda3\\lib\\site-packages\\botorch\\models\\utils\\assorted.py:173: InputDataWarning: Input data is not contained to the unit cube. Please consider min-max scaling the input data.\n",
      "  warnings.warn(msg, InputDataWarning)\n"
     ]
    },
    {
     "name": "stdout",
     "output_type": "stream",
     "text": [
      "\n",
      "Batch  4: time = 7.31\n",
      " 1.0004333286055396\n"
     ]
    },
    {
     "name": "stderr",
     "output_type": "stream",
     "text": [
      "C:\\Users\\khcho\\anaconda3\\lib\\site-packages\\botorch\\models\\utils\\assorted.py:173: InputDataWarning: Input data is not contained to the unit cube. Please consider min-max scaling the input data.\n",
      "  warnings.warn(msg, InputDataWarning)\n"
     ]
    },
    {
     "name": "stdout",
     "output_type": "stream",
     "text": [
      "\n",
      "Batch  5: time = 8.08\n",
      " 1.000503385410043\n"
     ]
    },
    {
     "name": "stderr",
     "output_type": "stream",
     "text": [
      "C:\\Users\\khcho\\anaconda3\\lib\\site-packages\\botorch\\models\\utils\\assorted.py:173: InputDataWarning: Input data is not contained to the unit cube. Please consider min-max scaling the input data.\n",
      "  warnings.warn(msg, InputDataWarning)\n"
     ]
    },
    {
     "name": "stdout",
     "output_type": "stream",
     "text": [
      "\n",
      "Batch  6: time = 6.88\n",
      " 1.0005847551325278\n"
     ]
    },
    {
     "name": "stderr",
     "output_type": "stream",
     "text": [
      "C:\\Users\\khcho\\anaconda3\\lib\\site-packages\\botorch\\models\\utils\\assorted.py:173: InputDataWarning: Input data is not contained to the unit cube. Please consider min-max scaling the input data.\n",
      "  warnings.warn(msg, InputDataWarning)\n"
     ]
    },
    {
     "name": "stdout",
     "output_type": "stream",
     "text": [
      "\n",
      "Batch  7: time = 7.86\n",
      " 1.0006792599752146\n"
     ]
    },
    {
     "name": "stderr",
     "output_type": "stream",
     "text": [
      "C:\\Users\\khcho\\anaconda3\\lib\\site-packages\\botorch\\models\\utils\\assorted.py:173: InputDataWarning: Input data is not contained to the unit cube. Please consider min-max scaling the input data.\n",
      "  warnings.warn(msg, InputDataWarning)\n"
     ]
    },
    {
     "name": "stdout",
     "output_type": "stream",
     "text": [
      "\n",
      "Batch  8: time = 7.16\n",
      " 1.000789014030202\n"
     ]
    },
    {
     "name": "stderr",
     "output_type": "stream",
     "text": [
      "C:\\Users\\khcho\\anaconda3\\lib\\site-packages\\botorch\\models\\utils\\assorted.py:173: InputDataWarning: Input data is not contained to the unit cube. Please consider min-max scaling the input data.\n",
      "  warnings.warn(msg, InputDataWarning)\n"
     ]
    },
    {
     "name": "stdout",
     "output_type": "stream",
     "text": [
      "\n",
      "Batch  9: time = 7.41\n",
      " 1.0009164694712465\n"
     ]
    },
    {
     "name": "stderr",
     "output_type": "stream",
     "text": [
      "C:\\Users\\khcho\\anaconda3\\lib\\site-packages\\botorch\\models\\utils\\assorted.py:173: InputDataWarning: Input data is not contained to the unit cube. Please consider min-max scaling the input data.\n",
      "  warnings.warn(msg, InputDataWarning)\n"
     ]
    },
    {
     "name": "stdout",
     "output_type": "stream",
     "text": [
      "\n",
      "Batch 10: time = 7.50\n",
      " 1.001064469857982\n"
     ]
    },
    {
     "name": "stderr",
     "output_type": "stream",
     "text": [
      "C:\\Users\\khcho\\anaconda3\\lib\\site-packages\\botorch\\models\\utils\\assorted.py:173: InputDataWarning: Input data is not contained to the unit cube. Please consider min-max scaling the input data.\n",
      "  warnings.warn(msg, InputDataWarning)\n"
     ]
    },
    {
     "name": "stdout",
     "output_type": "stream",
     "text": [
      "\n",
      "Batch 11: time = 7.09\n",
      " 1.0012363115783174\n"
     ]
    },
    {
     "name": "stderr",
     "output_type": "stream",
     "text": [
      "C:\\Users\\khcho\\anaconda3\\lib\\site-packages\\botorch\\models\\utils\\assorted.py:173: InputDataWarning: Input data is not contained to the unit cube. Please consider min-max scaling the input data.\n",
      "  warnings.warn(msg, InputDataWarning)\n"
     ]
    },
    {
     "name": "stdout",
     "output_type": "stream",
     "text": [
      "\n",
      "Batch 12: time = 7.80\n",
      " 1.0014358145778501\n"
     ]
    },
    {
     "name": "stderr",
     "output_type": "stream",
     "text": [
      "C:\\Users\\khcho\\anaconda3\\lib\\site-packages\\botorch\\models\\utils\\assorted.py:173: InputDataWarning: Input data is not contained to the unit cube. Please consider min-max scaling the input data.\n",
      "  warnings.warn(msg, InputDataWarning)\n"
     ]
    },
    {
     "name": "stdout",
     "output_type": "stream",
     "text": [
      "\n",
      "Batch 13: time = 6.81\n",
      " 1.0016674036537068\n"
     ]
    },
    {
     "name": "stderr",
     "output_type": "stream",
     "text": [
      "C:\\Users\\khcho\\anaconda3\\lib\\site-packages\\botorch\\models\\utils\\assorted.py:173: InputDataWarning: Input data is not contained to the unit cube. Please consider min-max scaling the input data.\n",
      "  warnings.warn(msg, InputDataWarning)\n"
     ]
    },
    {
     "name": "stdout",
     "output_type": "stream",
     "text": [
      "\n",
      "Batch 14: time = 5.14\n",
      " 1.0019362017203355\n"
     ]
    },
    {
     "name": "stderr",
     "output_type": "stream",
     "text": [
      "C:\\Users\\khcho\\anaconda3\\lib\\site-packages\\botorch\\models\\utils\\assorted.py:173: InputDataWarning: Input data is not contained to the unit cube. Please consider min-max scaling the input data.\n",
      "  warnings.warn(msg, InputDataWarning)\n"
     ]
    },
    {
     "name": "stdout",
     "output_type": "stream",
     "text": [
      "\n",
      "Batch 15: time = 5.78\n",
      " 1.0022481365804705\n"
     ]
    },
    {
     "name": "stderr",
     "output_type": "stream",
     "text": [
      "C:\\Users\\khcho\\anaconda3\\lib\\site-packages\\botorch\\models\\utils\\assorted.py:173: InputDataWarning: Input data is not contained to the unit cube. Please consider min-max scaling the input data.\n",
      "  warnings.warn(msg, InputDataWarning)\n"
     ]
    },
    {
     "name": "stdout",
     "output_type": "stream",
     "text": [
      "\n",
      "Batch 16: time = 4.94\n",
      " 1.0026100628467791\n"
     ]
    },
    {
     "name": "stderr",
     "output_type": "stream",
     "text": [
      "C:\\Users\\khcho\\anaconda3\\lib\\site-packages\\botorch\\models\\utils\\assorted.py:173: InputDataWarning: Input data is not contained to the unit cube. Please consider min-max scaling the input data.\n",
      "  warnings.warn(msg, InputDataWarning)\n"
     ]
    },
    {
     "name": "stdout",
     "output_type": "stream",
     "text": [
      "\n",
      "Batch 17: time = 26.81\n",
      " 1.0030299007457921\n"
     ]
    },
    {
     "name": "stderr",
     "output_type": "stream",
     "text": [
      "C:\\Users\\khcho\\anaconda3\\lib\\site-packages\\botorch\\models\\utils\\assorted.py:173: InputDataWarning: Input data is not contained to the unit cube. Please consider min-max scaling the input data.\n",
      "  warnings.warn(msg, InputDataWarning)\n"
     ]
    },
    {
     "name": "stdout",
     "output_type": "stream",
     "text": [
      "\n",
      "Batch 18: time = 5.27\n",
      " 1.0035167935774976\n"
     ]
    },
    {
     "name": "stderr",
     "output_type": "stream",
     "text": [
      "C:\\Users\\khcho\\anaconda3\\lib\\site-packages\\botorch\\models\\utils\\assorted.py:173: InputDataWarning: Input data is not contained to the unit cube. Please consider min-max scaling the input data.\n",
      "  warnings.warn(msg, InputDataWarning)\n"
     ]
    },
    {
     "name": "stdout",
     "output_type": "stream",
     "text": [
      "\n",
      "Batch 19: time = 31.20\n",
      " 1.00408128557658\n"
     ]
    },
    {
     "name": "stderr",
     "output_type": "stream",
     "text": [
      "C:\\Users\\khcho\\anaconda3\\lib\\site-packages\\botorch\\models\\utils\\assorted.py:173: InputDataWarning: Input data is not contained to the unit cube. Please consider min-max scaling the input data.\n",
      "  warnings.warn(msg, InputDataWarning)\n"
     ]
    },
    {
     "name": "stdout",
     "output_type": "stream",
     "text": [
      "\n",
      "Batch 20: time = 5.86\n",
      " 1.004735521790973\n"
     ]
    },
    {
     "name": "stderr",
     "output_type": "stream",
     "text": [
      "C:\\Users\\khcho\\anaconda3\\lib\\site-packages\\botorch\\models\\utils\\assorted.py:173: InputDataWarning: Input data is not contained to the unit cube. Please consider min-max scaling the input data.\n",
      "  warnings.warn(msg, InputDataWarning)\n"
     ]
    },
    {
     "name": "stdout",
     "output_type": "stream",
     "text": [
      "\n",
      "Batch 21: time = 5.83\n",
      " 1.0054934713152965\n"
     ]
    },
    {
     "name": "stderr",
     "output_type": "stream",
     "text": [
      "C:\\Users\\khcho\\anaconda3\\lib\\site-packages\\botorch\\models\\utils\\assorted.py:173: InputDataWarning: Input data is not contained to the unit cube. Please consider min-max scaling the input data.\n",
      "  warnings.warn(msg, InputDataWarning)\n"
     ]
    },
    {
     "name": "stdout",
     "output_type": "stream",
     "text": [
      "\n",
      "Batch 22: time = 5.59\n",
      " 1.0063711747320558\n"
     ]
    },
    {
     "name": "stderr",
     "output_type": "stream",
     "text": [
      "C:\\Users\\khcho\\anaconda3\\lib\\site-packages\\botorch\\models\\utils\\assorted.py:173: InputDataWarning: Input data is not contained to the unit cube. Please consider min-max scaling the input data.\n",
      "  warnings.warn(msg, InputDataWarning)\n"
     ]
    },
    {
     "name": "stdout",
     "output_type": "stream",
     "text": [
      "\n",
      "Batch 23: time = 4.91\n",
      " 1.0073870158466365\n"
     ]
    },
    {
     "name": "stderr",
     "output_type": "stream",
     "text": [
      "C:\\Users\\khcho\\anaconda3\\lib\\site-packages\\botorch\\models\\utils\\assorted.py:173: InputDataWarning: Input data is not contained to the unit cube. Please consider min-max scaling the input data.\n",
      "  warnings.warn(msg, InputDataWarning)\n"
     ]
    },
    {
     "name": "stdout",
     "output_type": "stream",
     "text": [
      "\n",
      "Batch 24: time = 4.80\n",
      " 1.008562016657864\n"
     ]
    },
    {
     "name": "stderr",
     "output_type": "stream",
     "text": [
      "C:\\Users\\khcho\\anaconda3\\lib\\site-packages\\botorch\\models\\utils\\assorted.py:173: InputDataWarning: Input data is not contained to the unit cube. Please consider min-max scaling the input data.\n",
      "  warnings.warn(msg, InputDataWarning)\n"
     ]
    },
    {
     "name": "stdout",
     "output_type": "stream",
     "text": [
      "\n",
      "Batch 25: time = 62.14\n",
      " 1.0099201528670387\n"
     ]
    },
    {
     "name": "stderr",
     "output_type": "stream",
     "text": [
      "C:\\Users\\khcho\\anaconda3\\lib\\site-packages\\botorch\\models\\utils\\assorted.py:173: InputDataWarning: Input data is not contained to the unit cube. Please consider min-max scaling the input data.\n",
      "  warnings.warn(msg, InputDataWarning)\n"
     ]
    },
    {
     "name": "stdout",
     "output_type": "stream",
     "text": [
      "\n",
      "Batch 26: time = 5.05\n",
      " 1.0114886849550129\n"
     ]
    },
    {
     "name": "stderr",
     "output_type": "stream",
     "text": [
      "C:\\Users\\khcho\\anaconda3\\lib\\site-packages\\botorch\\models\\utils\\assorted.py:173: InputDataWarning: Input data is not contained to the unit cube. Please consider min-max scaling the input data.\n",
      "  warnings.warn(msg, InputDataWarning)\n"
     ]
    },
    {
     "name": "stdout",
     "output_type": "stream",
     "text": [
      "\n",
      "Batch 27: time = 56.73\n",
      " 1.0132984967884329\n"
     ]
    },
    {
     "name": "stderr",
     "output_type": "stream",
     "text": [
      "C:\\Users\\khcho\\anaconda3\\lib\\site-packages\\botorch\\models\\utils\\assorted.py:173: InputDataWarning: Input data is not contained to the unit cube. Please consider min-max scaling the input data.\n",
      "  warnings.warn(msg, InputDataWarning)\n"
     ]
    },
    {
     "name": "stdout",
     "output_type": "stream",
     "text": [
      "\n",
      "Batch 28: time = 24.86\n",
      " 1.0153844296785741\n"
     ]
    },
    {
     "name": "stderr",
     "output_type": "stream",
     "text": [
      "C:\\Users\\khcho\\anaconda3\\lib\\site-packages\\botorch\\models\\utils\\assorted.py:173: InputDataWarning: Input data is not contained to the unit cube. Please consider min-max scaling the input data.\n",
      "  warnings.warn(msg, InputDataWarning)\n"
     ]
    },
    {
     "name": "stdout",
     "output_type": "stream",
     "text": [
      "\n",
      "Batch 29: time = 5.24\n",
      " 1.0177855946363181\n"
     ]
    },
    {
     "name": "stderr",
     "output_type": "stream",
     "text": [
      "C:\\Users\\khcho\\anaconda3\\lib\\site-packages\\botorch\\models\\utils\\assorted.py:173: InputDataWarning: Input data is not contained to the unit cube. Please consider min-max scaling the input data.\n",
      "  warnings.warn(msg, InputDataWarning)\n"
     ]
    },
    {
     "name": "stdout",
     "output_type": "stream",
     "text": [
      "\n",
      "Batch 30: time = 5.72\n",
      " 1.0205456391002325\n"
     ]
    },
    {
     "name": "stderr",
     "output_type": "stream",
     "text": [
      "C:\\Users\\khcho\\anaconda3\\lib\\site-packages\\botorch\\models\\utils\\assorted.py:173: InputDataWarning: Input data is not contained to the unit cube. Please consider min-max scaling the input data.\n",
      "  warnings.warn(msg, InputDataWarning)\n"
     ]
    },
    {
     "name": "stdout",
     "output_type": "stream",
     "text": [
      "\n",
      "Batch 31: time = 4.50\n",
      " 1.0237129365887834\n"
     ]
    },
    {
     "name": "stderr",
     "output_type": "stream",
     "text": [
      "C:\\Users\\khcho\\anaconda3\\lib\\site-packages\\botorch\\models\\utils\\assorted.py:173: InputDataWarning: Input data is not contained to the unit cube. Please consider min-max scaling the input data.\n",
      "  warnings.warn(msg, InputDataWarning)\n"
     ]
    },
    {
     "name": "stdout",
     "output_type": "stream",
     "text": [
      "\n",
      "Batch 32: time = 5.23\n",
      " 1.0273406586079703\n"
     ]
    },
    {
     "name": "stderr",
     "output_type": "stream",
     "text": [
      "C:\\Users\\khcho\\anaconda3\\lib\\site-packages\\botorch\\models\\utils\\assorted.py:173: InputDataWarning: Input data is not contained to the unit cube. Please consider min-max scaling the input data.\n",
      "  warnings.warn(msg, InputDataWarning)\n"
     ]
    },
    {
     "name": "stdout",
     "output_type": "stream",
     "text": [
      "\n",
      "Batch 33: time = 34.03\n",
      " 1.0314866780284984\n"
     ]
    },
    {
     "name": "stderr",
     "output_type": "stream",
     "text": [
      "C:\\Users\\khcho\\anaconda3\\lib\\site-packages\\botorch\\models\\utils\\assorted.py:173: InputDataWarning: Input data is not contained to the unit cube. Please consider min-max scaling the input data.\n",
      "  warnings.warn(msg, InputDataWarning)\n"
     ]
    },
    {
     "name": "stdout",
     "output_type": "stream",
     "text": [
      "\n",
      "Batch 34: time = 56.80\n",
      " 1.0362132426807589\n"
     ]
    },
    {
     "name": "stderr",
     "output_type": "stream",
     "text": [
      "C:\\Users\\khcho\\anaconda3\\lib\\site-packages\\botorch\\models\\utils\\assorted.py:173: InputDataWarning: Input data is not contained to the unit cube. Please consider min-max scaling the input data.\n",
      "  warnings.warn(msg, InputDataWarning)\n"
     ]
    },
    {
     "name": "stdout",
     "output_type": "stream",
     "text": [
      "\n",
      "Batch 35: time = 4.84\n",
      " 1.0415863482469612\n"
     ]
    },
    {
     "name": "stderr",
     "output_type": "stream",
     "text": [
      "C:\\Users\\khcho\\anaconda3\\lib\\site-packages\\botorch\\models\\utils\\assorted.py:173: InputDataWarning: Input data is not contained to the unit cube. Please consider min-max scaling the input data.\n",
      "  warnings.warn(msg, InputDataWarning)\n"
     ]
    },
    {
     "name": "stdout",
     "output_type": "stream",
     "text": [
      "\n",
      "Batch 36: time = 4.95\n",
      " 1.0476747324495548\n"
     ]
    },
    {
     "name": "stderr",
     "output_type": "stream",
     "text": [
      "C:\\Users\\khcho\\anaconda3\\lib\\site-packages\\botorch\\models\\utils\\assorted.py:173: InputDataWarning: Input data is not contained to the unit cube. Please consider min-max scaling the input data.\n",
      "  warnings.warn(msg, InputDataWarning)\n"
     ]
    },
    {
     "name": "stdout",
     "output_type": "stream",
     "text": [
      "\n",
      "Batch 37: time = 4.75\n",
      " 1.0545484105978065\n"
     ]
    },
    {
     "name": "stderr",
     "output_type": "stream",
     "text": [
      "C:\\Users\\khcho\\anaconda3\\lib\\site-packages\\botorch\\models\\utils\\assorted.py:173: InputDataWarning: Input data is not contained to the unit cube. Please consider min-max scaling the input data.\n",
      "  warnings.warn(msg, InputDataWarning)\n"
     ]
    },
    {
     "name": "stdout",
     "output_type": "stream",
     "text": [
      "\n",
      "Batch 38: time = 5.92\n",
      " 1.0622766790937082\n"
     ]
    },
    {
     "name": "stderr",
     "output_type": "stream",
     "text": [
      "C:\\Users\\khcho\\anaconda3\\lib\\site-packages\\botorch\\models\\utils\\assorted.py:173: InputDataWarning: Input data is not contained to the unit cube. Please consider min-max scaling the input data.\n",
      "  warnings.warn(msg, InputDataWarning)\n"
     ]
    },
    {
     "name": "stdout",
     "output_type": "stream",
     "text": [
      "\n",
      "Batch 39: time = 5.39\n",
      " 1.0709255324502438\n"
     ]
    },
    {
     "name": "stderr",
     "output_type": "stream",
     "text": [
      "C:\\Users\\khcho\\anaconda3\\lib\\site-packages\\botorch\\models\\utils\\assorted.py:173: InputDataWarning: Input data is not contained to the unit cube. Please consider min-max scaling the input data.\n",
      "  warnings.warn(msg, InputDataWarning)\n"
     ]
    },
    {
     "name": "stdout",
     "output_type": "stream",
     "text": [
      "\n",
      "Batch 40: time = 4.97\n",
      " 1.0805544747882927\n"
     ]
    },
    {
     "name": "stderr",
     "output_type": "stream",
     "text": [
      "C:\\Users\\khcho\\anaconda3\\lib\\site-packages\\botorch\\models\\utils\\assorted.py:173: InputDataWarning: Input data is not contained to the unit cube. Please consider min-max scaling the input data.\n",
      "  warnings.warn(msg, InputDataWarning)\n"
     ]
    },
    {
     "name": "stdout",
     "output_type": "stream",
     "text": [
      "\n",
      "Batch 41: time = 5.08\n",
      " 1.0912127619031782\n"
     ]
    },
    {
     "name": "stderr",
     "output_type": "stream",
     "text": [
      "C:\\Users\\khcho\\anaconda3\\lib\\site-packages\\botorch\\models\\utils\\assorted.py:173: InputDataWarning: Input data is not contained to the unit cube. Please consider min-max scaling the input data.\n",
      "  warnings.warn(msg, InputDataWarning)\n"
     ]
    },
    {
     "name": "stdout",
     "output_type": "stream",
     "text": [
      "\n",
      "Batch 42: time = 31.78\n",
      " 1.1029351859004737\n"
     ]
    },
    {
     "name": "stderr",
     "output_type": "stream",
     "text": [
      "C:\\Users\\khcho\\anaconda3\\lib\\site-packages\\botorch\\models\\utils\\assorted.py:173: InputDataWarning: Input data is not contained to the unit cube. Please consider min-max scaling the input data.\n",
      "  warnings.warn(msg, InputDataWarning)\n"
     ]
    },
    {
     "name": "stdout",
     "output_type": "stream",
     "text": [
      "\n",
      "Batch 43: time = 27.44\n",
      " 1.1157376082504913\n"
     ]
    },
    {
     "name": "stderr",
     "output_type": "stream",
     "text": [
      "C:\\Users\\khcho\\anaconda3\\lib\\site-packages\\botorch\\models\\utils\\assorted.py:173: InputDataWarning: Input data is not contained to the unit cube. Please consider min-max scaling the input data.\n",
      "  warnings.warn(msg, InputDataWarning)\n"
     ]
    },
    {
     "name": "stdout",
     "output_type": "stream",
     "text": [
      "\n",
      "Batch 44: time = 6.06\n",
      " 1.129612550408923\n"
     ]
    },
    {
     "name": "stderr",
     "output_type": "stream",
     "text": [
      "C:\\Users\\khcho\\anaconda3\\lib\\site-packages\\botorch\\models\\utils\\assorted.py:173: InputDataWarning: Input data is not contained to the unit cube. Please consider min-max scaling the input data.\n",
      "  warnings.warn(msg, InputDataWarning)\n"
     ]
    },
    {
     "name": "stdout",
     "output_type": "stream",
     "text": [
      "\n",
      "Batch 45: time = 5.73\n",
      " 1.144525248687498\n"
     ]
    },
    {
     "name": "stderr",
     "output_type": "stream",
     "text": [
      "C:\\Users\\khcho\\anaconda3\\lib\\site-packages\\botorch\\models\\utils\\assorted.py:173: InputDataWarning: Input data is not contained to the unit cube. Please consider min-max scaling the input data.\n",
      "  warnings.warn(msg, InputDataWarning)\n"
     ]
    },
    {
     "name": "stdout",
     "output_type": "stream",
     "text": [
      "\n",
      "Batch 46: time = 5.72\n",
      " 1.1604106504123035\n"
     ]
    },
    {
     "name": "stderr",
     "output_type": "stream",
     "text": [
      "C:\\Users\\khcho\\anaconda3\\lib\\site-packages\\botorch\\models\\utils\\assorted.py:173: InputDataWarning: Input data is not contained to the unit cube. Please consider min-max scaling the input data.\n",
      "  warnings.warn(msg, InputDataWarning)\n"
     ]
    },
    {
     "name": "stdout",
     "output_type": "stream",
     "text": [
      "\n",
      "Batch 47: time = 4.89\n",
      " 1.1771718468871022\n"
     ]
    },
    {
     "name": "stderr",
     "output_type": "stream",
     "text": [
      "C:\\Users\\khcho\\anaconda3\\lib\\site-packages\\botorch\\models\\utils\\assorted.py:173: InputDataWarning: Input data is not contained to the unit cube. Please consider min-max scaling the input data.\n",
      "  warnings.warn(msg, InputDataWarning)\n"
     ]
    },
    {
     "name": "stdout",
     "output_type": "stream",
     "text": [
      "\n",
      "Batch 48: time = 14.92\n",
      " 1.194680383025389\n"
     ]
    },
    {
     "name": "stderr",
     "output_type": "stream",
     "text": [
      "C:\\Users\\khcho\\anaconda3\\lib\\site-packages\\botorch\\models\\utils\\assorted.py:173: InputDataWarning: Input data is not contained to the unit cube. Please consider min-max scaling the input data.\n",
      "  warnings.warn(msg, InputDataWarning)\n"
     ]
    },
    {
     "name": "stdout",
     "output_type": "stream",
     "text": [
      "\n",
      "Batch 49: time = 5.75\n",
      " 1.2127787415941704\n"
     ]
    },
    {
     "name": "stderr",
     "output_type": "stream",
     "text": [
      "C:\\Users\\khcho\\anaconda3\\lib\\site-packages\\botorch\\models\\utils\\assorted.py:173: InputDataWarning: Input data is not contained to the unit cube. Please consider min-max scaling the input data.\n",
      "  warnings.warn(msg, InputDataWarning)\n"
     ]
    },
    {
     "name": "stdout",
     "output_type": "stream",
     "text": [
      "\n",
      "Batch 50: time = 5.53\n",
      " 1.2312850773281252\n"
     ]
    },
    {
     "name": "stderr",
     "output_type": "stream",
     "text": [
      "C:\\Users\\khcho\\anaconda3\\lib\\site-packages\\botorch\\models\\utils\\assorted.py:173: InputDataWarning: Input data is not contained to the unit cube. Please consider min-max scaling the input data.\n",
      "  warnings.warn(msg, InputDataWarning)\n"
     ]
    },
    {
     "name": "stdout",
     "output_type": "stream",
     "text": [
      "\n",
      "Batch 51: time = 30.49\n",
      " 1.25\n"
     ]
    },
    {
     "name": "stderr",
     "output_type": "stream",
     "text": [
      "C:\\Users\\khcho\\anaconda3\\lib\\site-packages\\botorch\\models\\utils\\assorted.py:173: InputDataWarning: Input data is not contained to the unit cube. Please consider min-max scaling the input data.\n",
      "  warnings.warn(msg, InputDataWarning)\n"
     ]
    },
    {
     "name": "stdout",
     "output_type": "stream",
     "text": [
      "\n",
      "Batch 52: time = 5.16\n",
      " 1.2687149226718748\n"
     ]
    },
    {
     "name": "stderr",
     "output_type": "stream",
     "text": [
      "C:\\Users\\khcho\\anaconda3\\lib\\site-packages\\botorch\\models\\utils\\assorted.py:173: InputDataWarning: Input data is not contained to the unit cube. Please consider min-max scaling the input data.\n",
      "  warnings.warn(msg, InputDataWarning)\n"
     ]
    },
    {
     "name": "stdout",
     "output_type": "stream",
     "text": [
      "\n",
      "Batch 53: time = 5.50\n",
      " 1.2872212584058296\n"
     ]
    },
    {
     "name": "stderr",
     "output_type": "stream",
     "text": [
      "C:\\Users\\khcho\\anaconda3\\lib\\site-packages\\botorch\\models\\utils\\assorted.py:173: InputDataWarning: Input data is not contained to the unit cube. Please consider min-max scaling the input data.\n",
      "  warnings.warn(msg, InputDataWarning)\n"
     ]
    },
    {
     "name": "stdout",
     "output_type": "stream",
     "text": [
      "\n",
      "Batch 54: time = 5.78\n",
      " 1.305319616974611\n"
     ]
    },
    {
     "name": "stderr",
     "output_type": "stream",
     "text": [
      "C:\\Users\\khcho\\anaconda3\\lib\\site-packages\\botorch\\models\\utils\\assorted.py:173: InputDataWarning: Input data is not contained to the unit cube. Please consider min-max scaling the input data.\n",
      "  warnings.warn(msg, InputDataWarning)\n"
     ]
    },
    {
     "name": "stdout",
     "output_type": "stream",
     "text": [
      "\n",
      "Batch 55: time = 5.11\n",
      " 1.3228281531128978\n"
     ]
    },
    {
     "name": "stderr",
     "output_type": "stream",
     "text": [
      "C:\\Users\\khcho\\anaconda3\\lib\\site-packages\\botorch\\models\\utils\\assorted.py:173: InputDataWarning: Input data is not contained to the unit cube. Please consider min-max scaling the input data.\n",
      "  warnings.warn(msg, InputDataWarning)\n"
     ]
    },
    {
     "name": "stdout",
     "output_type": "stream",
     "text": [
      "\n",
      "Batch 56: time = 5.61\n",
      " 1.3395893495876965\n"
     ]
    },
    {
     "name": "stderr",
     "output_type": "stream",
     "text": [
      "C:\\Users\\khcho\\anaconda3\\lib\\site-packages\\botorch\\models\\utils\\assorted.py:173: InputDataWarning: Input data is not contained to the unit cube. Please consider min-max scaling the input data.\n",
      "  warnings.warn(msg, InputDataWarning)\n"
     ]
    },
    {
     "name": "stdout",
     "output_type": "stream",
     "text": [
      "\n",
      "Batch 57: time = 5.56\n",
      " 1.355474751312502\n"
     ]
    },
    {
     "name": "stderr",
     "output_type": "stream",
     "text": [
      "C:\\Users\\khcho\\anaconda3\\lib\\site-packages\\botorch\\models\\utils\\assorted.py:173: InputDataWarning: Input data is not contained to the unit cube. Please consider min-max scaling the input data.\n",
      "  warnings.warn(msg, InputDataWarning)\n"
     ]
    },
    {
     "name": "stdout",
     "output_type": "stream",
     "text": [
      "\n",
      "Batch 58: time = 5.05\n",
      " 1.370387449591077\n"
     ]
    },
    {
     "name": "stderr",
     "output_type": "stream",
     "text": [
      "C:\\Users\\khcho\\anaconda3\\lib\\site-packages\\botorch\\models\\utils\\assorted.py:173: InputDataWarning: Input data is not contained to the unit cube. Please consider min-max scaling the input data.\n",
      "  warnings.warn(msg, InputDataWarning)\n"
     ]
    },
    {
     "name": "stdout",
     "output_type": "stream",
     "text": [
      "\n",
      "Batch 59: time = 6.53\n",
      " 1.3842623917495087\n"
     ]
    },
    {
     "name": "stderr",
     "output_type": "stream",
     "text": [
      "C:\\Users\\khcho\\anaconda3\\lib\\site-packages\\botorch\\models\\utils\\assorted.py:173: InputDataWarning: Input data is not contained to the unit cube. Please consider min-max scaling the input data.\n",
      "  warnings.warn(msg, InputDataWarning)\n"
     ]
    },
    {
     "name": "stdout",
     "output_type": "stream",
     "text": [
      "\n",
      "Batch 60: time = 4.92\n",
      " 1.3970648140995263\n"
     ]
    },
    {
     "name": "stderr",
     "output_type": "stream",
     "text": [
      "C:\\Users\\khcho\\anaconda3\\lib\\site-packages\\botorch\\models\\utils\\assorted.py:173: InputDataWarning: Input data is not contained to the unit cube. Please consider min-max scaling the input data.\n",
      "  warnings.warn(msg, InputDataWarning)\n"
     ]
    },
    {
     "name": "stdout",
     "output_type": "stream",
     "text": [
      "\n",
      "Batch 61: time = 6.20\n",
      " 1.4087872380968218\n"
     ]
    },
    {
     "name": "stderr",
     "output_type": "stream",
     "text": [
      "C:\\Users\\khcho\\anaconda3\\lib\\site-packages\\botorch\\models\\utils\\assorted.py:173: InputDataWarning: Input data is not contained to the unit cube. Please consider min-max scaling the input data.\n",
      "  warnings.warn(msg, InputDataWarning)\n"
     ]
    },
    {
     "name": "stdout",
     "output_type": "stream",
     "text": [
      "\n",
      "Batch 62: time = 5.80\n",
      " 1.4194455252117073\n"
     ]
    },
    {
     "name": "stderr",
     "output_type": "stream",
     "text": [
      "C:\\Users\\khcho\\anaconda3\\lib\\site-packages\\botorch\\models\\utils\\assorted.py:173: InputDataWarning: Input data is not contained to the unit cube. Please consider min-max scaling the input data.\n",
      "  warnings.warn(msg, InputDataWarning)\n"
     ]
    },
    {
     "name": "stdout",
     "output_type": "stream",
     "text": [
      "\n",
      "Batch 63: time = 5.00\n",
      " 1.4290744675497562\n"
     ]
    },
    {
     "name": "stderr",
     "output_type": "stream",
     "text": [
      "C:\\Users\\khcho\\anaconda3\\lib\\site-packages\\botorch\\models\\utils\\assorted.py:173: InputDataWarning: Input data is not contained to the unit cube. Please consider min-max scaling the input data.\n",
      "  warnings.warn(msg, InputDataWarning)\n"
     ]
    },
    {
     "name": "stdout",
     "output_type": "stream",
     "text": [
      "\n",
      "Batch 64: time = 79.78\n",
      " 1.4377233209062918\n"
     ]
    },
    {
     "name": "stderr",
     "output_type": "stream",
     "text": [
      "C:\\Users\\khcho\\anaconda3\\lib\\site-packages\\botorch\\models\\utils\\assorted.py:173: InputDataWarning: Input data is not contained to the unit cube. Please consider min-max scaling the input data.\n",
      "  warnings.warn(msg, InputDataWarning)\n"
     ]
    },
    {
     "name": "stdout",
     "output_type": "stream",
     "text": [
      "\n",
      "Batch 65: time = 6.17\n",
      " 1.4454515894021935\n"
     ]
    },
    {
     "name": "stderr",
     "output_type": "stream",
     "text": [
      "C:\\Users\\khcho\\anaconda3\\lib\\site-packages\\botorch\\models\\utils\\assorted.py:173: InputDataWarning: Input data is not contained to the unit cube. Please consider min-max scaling the input data.\n",
      "  warnings.warn(msg, InputDataWarning)\n"
     ]
    },
    {
     "name": "stdout",
     "output_type": "stream",
     "text": [
      "\n",
      "Batch 66: time = 4.92\n",
      " 1.4523252675504452\n"
     ]
    },
    {
     "name": "stderr",
     "output_type": "stream",
     "text": [
      "C:\\Users\\khcho\\anaconda3\\lib\\site-packages\\botorch\\models\\utils\\assorted.py:173: InputDataWarning: Input data is not contained to the unit cube. Please consider min-max scaling the input data.\n",
      "  warnings.warn(msg, InputDataWarning)\n"
     ]
    },
    {
     "name": "stdout",
     "output_type": "stream",
     "text": [
      "\n",
      "Batch 67: time = 5.44\n",
      " 1.4584136517530388\n"
     ]
    },
    {
     "name": "stderr",
     "output_type": "stream",
     "text": [
      "C:\\Users\\khcho\\anaconda3\\lib\\site-packages\\botorch\\models\\utils\\assorted.py:173: InputDataWarning: Input data is not contained to the unit cube. Please consider min-max scaling the input data.\n",
      "  warnings.warn(msg, InputDataWarning)\n"
     ]
    },
    {
     "name": "stdout",
     "output_type": "stream",
     "text": [
      "\n",
      "Batch 68: time = 5.05\n",
      " 1.4637867573192411\n"
     ]
    },
    {
     "name": "stderr",
     "output_type": "stream",
     "text": [
      "C:\\Users\\khcho\\anaconda3\\lib\\site-packages\\botorch\\models\\utils\\assorted.py:173: InputDataWarning: Input data is not contained to the unit cube. Please consider min-max scaling the input data.\n",
      "  warnings.warn(msg, InputDataWarning)\n"
     ]
    },
    {
     "name": "stdout",
     "output_type": "stream",
     "text": [
      "\n",
      "Batch 69: time = 5.12\n",
      " 1.4685133219715016\n"
     ]
    },
    {
     "name": "stderr",
     "output_type": "stream",
     "text": [
      "C:\\Users\\khcho\\anaconda3\\lib\\site-packages\\botorch\\models\\utils\\assorted.py:173: InputDataWarning: Input data is not contained to the unit cube. Please consider min-max scaling the input data.\n",
      "  warnings.warn(msg, InputDataWarning)\n"
     ]
    },
    {
     "name": "stdout",
     "output_type": "stream",
     "text": [
      "\n",
      "Batch 70: time = 5.61\n",
      " 1.4726593413920295\n"
     ]
    },
    {
     "name": "stderr",
     "output_type": "stream",
     "text": [
      "C:\\Users\\khcho\\anaconda3\\lib\\site-packages\\botorch\\models\\utils\\assorted.py:173: InputDataWarning: Input data is not contained to the unit cube. Please consider min-max scaling the input data.\n",
      "  warnings.warn(msg, InputDataWarning)\n"
     ]
    },
    {
     "name": "stdout",
     "output_type": "stream",
     "text": [
      "\n",
      "Batch 71: time = 5.30\n",
      " 1.4762870634112166\n"
     ]
    },
    {
     "name": "stderr",
     "output_type": "stream",
     "text": [
      "C:\\Users\\khcho\\anaconda3\\lib\\site-packages\\botorch\\models\\utils\\assorted.py:173: InputDataWarning: Input data is not contained to the unit cube. Please consider min-max scaling the input data.\n",
      "  warnings.warn(msg, InputDataWarning)\n"
     ]
    },
    {
     "name": "stdout",
     "output_type": "stream",
     "text": [
      "\n",
      "Batch 72: time = 110.64\n",
      " 1.4794543608997675\n"
     ]
    },
    {
     "name": "stderr",
     "output_type": "stream",
     "text": [
      "C:\\Users\\khcho\\anaconda3\\lib\\site-packages\\botorch\\models\\utils\\assorted.py:173: InputDataWarning: Input data is not contained to the unit cube. Please consider min-max scaling the input data.\n",
      "  warnings.warn(msg, InputDataWarning)\n"
     ]
    },
    {
     "name": "stdout",
     "output_type": "stream",
     "text": [
      "\n",
      "Batch 73: time = 4.89\n",
      " 1.4822144053636819\n"
     ]
    },
    {
     "name": "stderr",
     "output_type": "stream",
     "text": [
      "C:\\Users\\khcho\\anaconda3\\lib\\site-packages\\botorch\\models\\utils\\assorted.py:173: InputDataWarning: Input data is not contained to the unit cube. Please consider min-max scaling the input data.\n",
      "  warnings.warn(msg, InputDataWarning)\n"
     ]
    },
    {
     "name": "stdout",
     "output_type": "stream",
     "text": [
      "\n",
      "Batch 74: time = 4.94\n",
      " 1.4846155703214259\n"
     ]
    },
    {
     "name": "stderr",
     "output_type": "stream",
     "text": [
      "C:\\Users\\khcho\\anaconda3\\lib\\site-packages\\botorch\\models\\utils\\assorted.py:173: InputDataWarning: Input data is not contained to the unit cube. Please consider min-max scaling the input data.\n",
      "  warnings.warn(msg, InputDataWarning)\n"
     ]
    },
    {
     "name": "stdout",
     "output_type": "stream",
     "text": [
      "\n",
      "Batch 75: time = 5.01\n",
      " 1.4867015032115671\n"
     ]
    },
    {
     "name": "stderr",
     "output_type": "stream",
     "text": [
      "C:\\Users\\khcho\\anaconda3\\lib\\site-packages\\botorch\\models\\utils\\assorted.py:173: InputDataWarning: Input data is not contained to the unit cube. Please consider min-max scaling the input data.\n",
      "  warnings.warn(msg, InputDataWarning)\n"
     ]
    },
    {
     "name": "stdout",
     "output_type": "stream",
     "text": [
      "\n",
      "Batch 76: time = 5.41\n",
      " 1.4885113150449871\n"
     ]
    },
    {
     "name": "stderr",
     "output_type": "stream",
     "text": [
      "C:\\Users\\khcho\\anaconda3\\lib\\site-packages\\botorch\\models\\utils\\assorted.py:173: InputDataWarning: Input data is not contained to the unit cube. Please consider min-max scaling the input data.\n",
      "  warnings.warn(msg, InputDataWarning)\n"
     ]
    },
    {
     "name": "stdout",
     "output_type": "stream",
     "text": [
      "\n",
      "Batch 77: time = 4.80\n",
      " 1.4900798471329613\n"
     ]
    },
    {
     "name": "stderr",
     "output_type": "stream",
     "text": [
      "C:\\Users\\khcho\\anaconda3\\lib\\site-packages\\botorch\\models\\utils\\assorted.py:173: InputDataWarning: Input data is not contained to the unit cube. Please consider min-max scaling the input data.\n",
      "  warnings.warn(msg, InputDataWarning)\n"
     ]
    },
    {
     "name": "stdout",
     "output_type": "stream",
     "text": [
      "\n",
      "Batch 78: time = 4.86\n",
      " 1.491437983342136\n"
     ]
    },
    {
     "name": "stderr",
     "output_type": "stream",
     "text": [
      "C:\\Users\\khcho\\anaconda3\\lib\\site-packages\\botorch\\models\\utils\\assorted.py:173: InputDataWarning: Input data is not contained to the unit cube. Please consider min-max scaling the input data.\n",
      "  warnings.warn(msg, InputDataWarning)\n"
     ]
    },
    {
     "name": "stdout",
     "output_type": "stream",
     "text": [
      "\n",
      "Batch 79: time = 4.97\n",
      " 1.4926129841533635\n"
     ]
    },
    {
     "name": "stderr",
     "output_type": "stream",
     "text": [
      "C:\\Users\\khcho\\anaconda3\\lib\\site-packages\\botorch\\models\\utils\\assorted.py:173: InputDataWarning: Input data is not contained to the unit cube. Please consider min-max scaling the input data.\n",
      "  warnings.warn(msg, InputDataWarning)\n"
     ]
    },
    {
     "name": "stdout",
     "output_type": "stream",
     "text": [
      "\n",
      "Batch 80: time = 5.09\n",
      " 1.4936288252679442\n"
     ]
    },
    {
     "name": "stderr",
     "output_type": "stream",
     "text": [
      "C:\\Users\\khcho\\anaconda3\\lib\\site-packages\\botorch\\models\\utils\\assorted.py:173: InputDataWarning: Input data is not contained to the unit cube. Please consider min-max scaling the input data.\n",
      "  warnings.warn(msg, InputDataWarning)\n"
     ]
    },
    {
     "name": "stdout",
     "output_type": "stream",
     "text": [
      "\n",
      "Batch 81: time = 5.14\n",
      " 1.4945065286847035\n"
     ]
    },
    {
     "name": "stderr",
     "output_type": "stream",
     "text": [
      "C:\\Users\\khcho\\anaconda3\\lib\\site-packages\\botorch\\models\\utils\\assorted.py:173: InputDataWarning: Input data is not contained to the unit cube. Please consider min-max scaling the input data.\n",
      "  warnings.warn(msg, InputDataWarning)\n"
     ]
    },
    {
     "name": "stdout",
     "output_type": "stream",
     "text": [
      "\n",
      "Batch 82: time = 4.89\n",
      " 1.495264478209027\n"
     ]
    },
    {
     "name": "stderr",
     "output_type": "stream",
     "text": [
      "C:\\Users\\khcho\\anaconda3\\lib\\site-packages\\botorch\\models\\utils\\assorted.py:173: InputDataWarning: Input data is not contained to the unit cube. Please consider min-max scaling the input data.\n",
      "  warnings.warn(msg, InputDataWarning)\n"
     ]
    },
    {
     "name": "stdout",
     "output_type": "stream",
     "text": [
      "\n",
      "Batch 83: time = 8.58\n",
      " 1.49591871442342\n"
     ]
    },
    {
     "name": "stderr",
     "output_type": "stream",
     "text": [
      "C:\\Users\\khcho\\anaconda3\\lib\\site-packages\\botorch\\models\\utils\\assorted.py:173: InputDataWarning: Input data is not contained to the unit cube. Please consider min-max scaling the input data.\n",
      "  warnings.warn(msg, InputDataWarning)\n"
     ]
    },
    {
     "name": "stdout",
     "output_type": "stream",
     "text": [
      "\n",
      "Batch 84: time = 5.31\n",
      " 1.4964832064225024\n"
     ]
    },
    {
     "name": "stderr",
     "output_type": "stream",
     "text": [
      "C:\\Users\\khcho\\anaconda3\\lib\\site-packages\\botorch\\models\\utils\\assorted.py:173: InputDataWarning: Input data is not contained to the unit cube. Please consider min-max scaling the input data.\n",
      "  warnings.warn(msg, InputDataWarning)\n"
     ]
    },
    {
     "name": "stdout",
     "output_type": "stream",
     "text": [
      "\n",
      "Batch 85: time = 4.64\n",
      " 1.4969700992542079\n"
     ]
    },
    {
     "name": "stderr",
     "output_type": "stream",
     "text": [
      "C:\\Users\\khcho\\anaconda3\\lib\\site-packages\\botorch\\models\\utils\\assorted.py:173: InputDataWarning: Input data is not contained to the unit cube. Please consider min-max scaling the input data.\n",
      "  warnings.warn(msg, InputDataWarning)\n"
     ]
    },
    {
     "name": "stdout",
     "output_type": "stream",
     "text": [
      "\n",
      "Batch 86: time = 4.86\n",
      " 1.4973899371532209\n"
     ]
    },
    {
     "name": "stderr",
     "output_type": "stream",
     "text": [
      "C:\\Users\\khcho\\anaconda3\\lib\\site-packages\\botorch\\models\\utils\\assorted.py:173: InputDataWarning: Input data is not contained to the unit cube. Please consider min-max scaling the input data.\n",
      "  warnings.warn(msg, InputDataWarning)\n"
     ]
    },
    {
     "name": "stdout",
     "output_type": "stream",
     "text": [
      "\n",
      "Batch 87: time = 182.19\n",
      " 1.4977518634195295\n"
     ]
    },
    {
     "name": "stderr",
     "output_type": "stream",
     "text": [
      "C:\\Users\\khcho\\anaconda3\\lib\\site-packages\\botorch\\models\\utils\\assorted.py:173: InputDataWarning: Input data is not contained to the unit cube. Please consider min-max scaling the input data.\n",
      "  warnings.warn(msg, InputDataWarning)\n"
     ]
    },
    {
     "name": "stdout",
     "output_type": "stream",
     "text": [
      "\n",
      "Batch 88: time = 5.69\n",
      " 1.4980637982796645\n"
     ]
    },
    {
     "name": "stderr",
     "output_type": "stream",
     "text": [
      "C:\\Users\\khcho\\anaconda3\\lib\\site-packages\\botorch\\models\\utils\\assorted.py:173: InputDataWarning: Input data is not contained to the unit cube. Please consider min-max scaling the input data.\n",
      "  warnings.warn(msg, InputDataWarning)\n"
     ]
    },
    {
     "name": "stdout",
     "output_type": "stream",
     "text": [
      "\n",
      "Batch 89: time = 5.06\n",
      " 1.4983325963462932\n"
     ]
    },
    {
     "name": "stderr",
     "output_type": "stream",
     "text": [
      "C:\\Users\\khcho\\anaconda3\\lib\\site-packages\\botorch\\models\\utils\\assorted.py:173: InputDataWarning: Input data is not contained to the unit cube. Please consider min-max scaling the input data.\n",
      "  warnings.warn(msg, InputDataWarning)\n"
     ]
    },
    {
     "name": "stdout",
     "output_type": "stream",
     "text": [
      "\n",
      "Batch 90: time = 5.66\n",
      " 1.4985641854221496\n"
     ]
    },
    {
     "name": "stderr",
     "output_type": "stream",
     "text": [
      "C:\\Users\\khcho\\anaconda3\\lib\\site-packages\\botorch\\models\\utils\\assorted.py:173: InputDataWarning: Input data is not contained to the unit cube. Please consider min-max scaling the input data.\n",
      "  warnings.warn(msg, InputDataWarning)\n"
     ]
    },
    {
     "name": "stdout",
     "output_type": "stream",
     "text": [
      "\n",
      "Batch 91: time = 5.66\n",
      " 1.4987636884216826\n"
     ]
    },
    {
     "name": "stderr",
     "output_type": "stream",
     "text": [
      "C:\\Users\\khcho\\anaconda3\\lib\\site-packages\\botorch\\models\\utils\\assorted.py:173: InputDataWarning: Input data is not contained to the unit cube. Please consider min-max scaling the input data.\n",
      "  warnings.warn(msg, InputDataWarning)\n"
     ]
    },
    {
     "name": "stdout",
     "output_type": "stream",
     "text": [
      "\n",
      "Batch 92: time = 5.50\n",
      " 1.4989355301420177\n"
     ]
    },
    {
     "name": "stderr",
     "output_type": "stream",
     "text": [
      "C:\\Users\\khcho\\anaconda3\\lib\\site-packages\\botorch\\models\\utils\\assorted.py:173: InputDataWarning: Input data is not contained to the unit cube. Please consider min-max scaling the input data.\n",
      "  warnings.warn(msg, InputDataWarning)\n"
     ]
    },
    {
     "name": "stdout",
     "output_type": "stream",
     "text": [
      "\n",
      "Batch 93: time = 5.06\n",
      " 1.4990835305287535\n"
     ]
    },
    {
     "name": "stderr",
     "output_type": "stream",
     "text": [
      "C:\\Users\\khcho\\anaconda3\\lib\\site-packages\\botorch\\models\\utils\\assorted.py:173: InputDataWarning: Input data is not contained to the unit cube. Please consider min-max scaling the input data.\n",
      "  warnings.warn(msg, InputDataWarning)\n"
     ]
    },
    {
     "name": "stdout",
     "output_type": "stream",
     "text": [
      "\n",
      "Batch 94: time = 5.08\n",
      " 1.499210985969798\n"
     ]
    },
    {
     "name": "stderr",
     "output_type": "stream",
     "text": [
      "C:\\Users\\khcho\\anaconda3\\lib\\site-packages\\botorch\\models\\utils\\assorted.py:173: InputDataWarning: Input data is not contained to the unit cube. Please consider min-max scaling the input data.\n",
      "  warnings.warn(msg, InputDataWarning)\n"
     ]
    },
    {
     "name": "stdout",
     "output_type": "stream",
     "text": [
      "\n",
      "Batch 95: time = 5.33\n",
      " 1.4993207400247854\n"
     ]
    },
    {
     "name": "stderr",
     "output_type": "stream",
     "text": [
      "C:\\Users\\khcho\\anaconda3\\lib\\site-packages\\botorch\\models\\utils\\assorted.py:173: InputDataWarning: Input data is not contained to the unit cube. Please consider min-max scaling the input data.\n",
      "  warnings.warn(msg, InputDataWarning)\n"
     ]
    },
    {
     "name": "stdout",
     "output_type": "stream",
     "text": [
      "\n",
      "Batch 96: time = 5.20\n",
      " 1.4994152448674722\n"
     ]
    },
    {
     "name": "stderr",
     "output_type": "stream",
     "text": [
      "C:\\Users\\khcho\\anaconda3\\lib\\site-packages\\botorch\\models\\utils\\assorted.py:173: InputDataWarning: Input data is not contained to the unit cube. Please consider min-max scaling the input data.\n",
      "  warnings.warn(msg, InputDataWarning)\n"
     ]
    },
    {
     "name": "stdout",
     "output_type": "stream",
     "text": [
      "\n",
      "Batch 97: time = 40.81\n",
      " 1.4994966145899573\n"
     ]
    },
    {
     "name": "stderr",
     "output_type": "stream",
     "text": [
      "C:\\Users\\khcho\\anaconda3\\lib\\site-packages\\botorch\\models\\utils\\assorted.py:173: InputDataWarning: Input data is not contained to the unit cube. Please consider min-max scaling the input data.\n",
      "  warnings.warn(msg, InputDataWarning)\n"
     ]
    },
    {
     "name": "stdout",
     "output_type": "stream",
     "text": [
      "\n",
      "Batch 98: time = 5.69\n",
      " 1.4995666713944604\n"
     ]
    },
    {
     "name": "stderr",
     "output_type": "stream",
     "text": [
      "C:\\Users\\khcho\\anaconda3\\lib\\site-packages\\botorch\\models\\utils\\assorted.py:173: InputDataWarning: Input data is not contained to the unit cube. Please consider min-max scaling the input data.\n",
      "  warnings.warn(msg, InputDataWarning)\n"
     ]
    },
    {
     "name": "stdout",
     "output_type": "stream",
     "text": [
      "\n",
      "Batch 99: time = 98.14\n",
      " 1.4996269855830817\n"
     ]
    },
    {
     "name": "stderr",
     "output_type": "stream",
     "text": [
      "C:\\Users\\khcho\\anaconda3\\lib\\site-packages\\botorch\\models\\utils\\assorted.py:173: InputDataWarning: Input data is not contained to the unit cube. Please consider min-max scaling the input data.\n",
      "  warnings.warn(msg, InputDataWarning)\n"
     ]
    },
    {
     "name": "stdout",
     "output_type": "stream",
     "text": [
      "\n",
      "Batch 100: time = 5.31\n",
      " 1.0002763893184619\n",
      "\n",
      "Batch  2: time = 6.89\n",
      " 1.000321089850293\n"
     ]
    },
    {
     "name": "stderr",
     "output_type": "stream",
     "text": [
      "C:\\Users\\khcho\\anaconda3\\lib\\site-packages\\botorch\\models\\utils\\assorted.py:173: InputDataWarning: Input data is not contained to the unit cube. Please consider min-max scaling the input data.\n",
      "  warnings.warn(msg, InputDataWarning)\n"
     ]
    },
    {
     "name": "stdout",
     "output_type": "stream",
     "text": [
      "\n",
      "Batch  3: time = 7.61\n",
      " 1.0003730144169183\n"
     ]
    },
    {
     "name": "stderr",
     "output_type": "stream",
     "text": [
      "C:\\Users\\khcho\\anaconda3\\lib\\site-packages\\botorch\\models\\utils\\assorted.py:173: InputDataWarning: Input data is not contained to the unit cube. Please consider min-max scaling the input data.\n",
      "  warnings.warn(msg, InputDataWarning)\n"
     ]
    },
    {
     "name": "stdout",
     "output_type": "stream",
     "text": [
      "\n",
      "Batch  4: time = 7.45\n",
      " 1.0004333286055396\n"
     ]
    },
    {
     "name": "stderr",
     "output_type": "stream",
     "text": [
      "C:\\Users\\khcho\\anaconda3\\lib\\site-packages\\botorch\\models\\utils\\assorted.py:173: InputDataWarning: Input data is not contained to the unit cube. Please consider min-max scaling the input data.\n",
      "  warnings.warn(msg, InputDataWarning)\n"
     ]
    },
    {
     "name": "stdout",
     "output_type": "stream",
     "text": [
      "\n",
      "Batch  5: time = 6.27\n",
      " 1.000503385410043\n"
     ]
    },
    {
     "name": "stderr",
     "output_type": "stream",
     "text": [
      "C:\\Users\\khcho\\anaconda3\\lib\\site-packages\\botorch\\models\\utils\\assorted.py:173: InputDataWarning: Input data is not contained to the unit cube. Please consider min-max scaling the input data.\n",
      "  warnings.warn(msg, InputDataWarning)\n"
     ]
    },
    {
     "name": "stdout",
     "output_type": "stream",
     "text": [
      "\n",
      "Batch  6: time = 6.16\n",
      " 1.0005847551325278\n"
     ]
    },
    {
     "name": "stderr",
     "output_type": "stream",
     "text": [
      "C:\\Users\\khcho\\anaconda3\\lib\\site-packages\\botorch\\models\\utils\\assorted.py:173: InputDataWarning: Input data is not contained to the unit cube. Please consider min-max scaling the input data.\n",
      "  warnings.warn(msg, InputDataWarning)\n"
     ]
    },
    {
     "name": "stdout",
     "output_type": "stream",
     "text": [
      "\n",
      "Batch  7: time = 31.00\n",
      " 1.0006792599752146\n"
     ]
    },
    {
     "name": "stderr",
     "output_type": "stream",
     "text": [
      "C:\\Users\\khcho\\anaconda3\\lib\\site-packages\\botorch\\models\\utils\\assorted.py:173: InputDataWarning: Input data is not contained to the unit cube. Please consider min-max scaling the input data.\n",
      "  warnings.warn(msg, InputDataWarning)\n"
     ]
    },
    {
     "name": "stdout",
     "output_type": "stream",
     "text": [
      "\n",
      "Batch  8: time = 6.16\n",
      " 1.000789014030202\n"
     ]
    },
    {
     "name": "stderr",
     "output_type": "stream",
     "text": [
      "C:\\Users\\khcho\\anaconda3\\lib\\site-packages\\botorch\\models\\utils\\assorted.py:173: InputDataWarning: Input data is not contained to the unit cube. Please consider min-max scaling the input data.\n",
      "  warnings.warn(msg, InputDataWarning)\n"
     ]
    },
    {
     "name": "stdout",
     "output_type": "stream",
     "text": [
      "\n",
      "Batch  9: time = 5.89\n",
      " 1.0009164694712465\n"
     ]
    },
    {
     "name": "stderr",
     "output_type": "stream",
     "text": [
      "C:\\Users\\khcho\\anaconda3\\lib\\site-packages\\botorch\\models\\utils\\assorted.py:173: InputDataWarning: Input data is not contained to the unit cube. Please consider min-max scaling the input data.\n",
      "  warnings.warn(msg, InputDataWarning)\n"
     ]
    },
    {
     "name": "stdout",
     "output_type": "stream",
     "text": [
      "\n",
      "Batch 10: time = 5.39\n",
      " 1.001064469857982\n"
     ]
    },
    {
     "name": "stderr",
     "output_type": "stream",
     "text": [
      "C:\\Users\\khcho\\anaconda3\\lib\\site-packages\\botorch\\models\\utils\\assorted.py:173: InputDataWarning: Input data is not contained to the unit cube. Please consider min-max scaling the input data.\n",
      "  warnings.warn(msg, InputDataWarning)\n"
     ]
    },
    {
     "name": "stdout",
     "output_type": "stream",
     "text": [
      "\n",
      "Batch 11: time = 5.36\n",
      " 1.0012363115783174\n"
     ]
    },
    {
     "name": "stderr",
     "output_type": "stream",
     "text": [
      "C:\\Users\\khcho\\anaconda3\\lib\\site-packages\\botorch\\models\\utils\\assorted.py:173: InputDataWarning: Input data is not contained to the unit cube. Please consider min-max scaling the input data.\n",
      "  warnings.warn(msg, InputDataWarning)\n"
     ]
    },
    {
     "name": "stdout",
     "output_type": "stream",
     "text": [
      "\n",
      "Batch 12: time = 5.75\n",
      " 1.0014358145778501\n"
     ]
    },
    {
     "name": "stderr",
     "output_type": "stream",
     "text": [
      "C:\\Users\\khcho\\anaconda3\\lib\\site-packages\\botorch\\models\\utils\\assorted.py:173: InputDataWarning: Input data is not contained to the unit cube. Please consider min-max scaling the input data.\n",
      "  warnings.warn(msg, InputDataWarning)\n"
     ]
    },
    {
     "name": "stdout",
     "output_type": "stream",
     "text": [
      "\n",
      "Batch 13: time = 5.34\n",
      " 1.0016674036537068\n"
     ]
    },
    {
     "name": "stderr",
     "output_type": "stream",
     "text": [
      "C:\\Users\\khcho\\anaconda3\\lib\\site-packages\\botorch\\models\\utils\\assorted.py:173: InputDataWarning: Input data is not contained to the unit cube. Please consider min-max scaling the input data.\n",
      "  warnings.warn(msg, InputDataWarning)\n"
     ]
    },
    {
     "name": "stdout",
     "output_type": "stream",
     "text": [
      "\n",
      "Batch 14: time = 5.34\n",
      " 1.0019362017203355\n"
     ]
    },
    {
     "name": "stderr",
     "output_type": "stream",
     "text": [
      "C:\\Users\\khcho\\anaconda3\\lib\\site-packages\\botorch\\models\\utils\\assorted.py:173: InputDataWarning: Input data is not contained to the unit cube. Please consider min-max scaling the input data.\n",
      "  warnings.warn(msg, InputDataWarning)\n"
     ]
    },
    {
     "name": "stdout",
     "output_type": "stream",
     "text": [
      "\n",
      "Batch 15: time = 5.20\n",
      " 1.0022481365804705\n"
     ]
    },
    {
     "name": "stderr",
     "output_type": "stream",
     "text": [
      "C:\\Users\\khcho\\anaconda3\\lib\\site-packages\\botorch\\models\\utils\\assorted.py:173: InputDataWarning: Input data is not contained to the unit cube. Please consider min-max scaling the input data.\n",
      "  warnings.warn(msg, InputDataWarning)\n"
     ]
    },
    {
     "name": "stdout",
     "output_type": "stream",
     "text": [
      "\n",
      "Batch 16: time = 5.73\n",
      " 1.0026100628467791\n"
     ]
    },
    {
     "name": "stderr",
     "output_type": "stream",
     "text": [
      "C:\\Users\\khcho\\anaconda3\\lib\\site-packages\\botorch\\models\\utils\\assorted.py:173: InputDataWarning: Input data is not contained to the unit cube. Please consider min-max scaling the input data.\n",
      "  warnings.warn(msg, InputDataWarning)\n"
     ]
    },
    {
     "name": "stdout",
     "output_type": "stream",
     "text": [
      "\n",
      "Batch 17: time = 5.98\n",
      " 1.0030299007457921\n"
     ]
    },
    {
     "name": "stderr",
     "output_type": "stream",
     "text": [
      "C:\\Users\\khcho\\anaconda3\\lib\\site-packages\\botorch\\models\\utils\\assorted.py:173: InputDataWarning: Input data is not contained to the unit cube. Please consider min-max scaling the input data.\n",
      "  warnings.warn(msg, InputDataWarning)\n"
     ]
    },
    {
     "name": "stdout",
     "output_type": "stream",
     "text": [
      "\n",
      "Batch 18: time = 5.47\n",
      " 1.0035167935774976\n"
     ]
    },
    {
     "name": "stderr",
     "output_type": "stream",
     "text": [
      "C:\\Users\\khcho\\anaconda3\\lib\\site-packages\\botorch\\models\\utils\\assorted.py:173: InputDataWarning: Input data is not contained to the unit cube. Please consider min-max scaling the input data.\n",
      "  warnings.warn(msg, InputDataWarning)\n"
     ]
    },
    {
     "name": "stdout",
     "output_type": "stream",
     "text": [
      "\n",
      "Batch 19: time = 5.70\n",
      " 1.00408128557658\n"
     ]
    },
    {
     "name": "stderr",
     "output_type": "stream",
     "text": [
      "C:\\Users\\khcho\\anaconda3\\lib\\site-packages\\botorch\\models\\utils\\assorted.py:173: InputDataWarning: Input data is not contained to the unit cube. Please consider min-max scaling the input data.\n",
      "  warnings.warn(msg, InputDataWarning)\n"
     ]
    },
    {
     "name": "stdout",
     "output_type": "stream",
     "text": [
      "\n",
      "Batch 20: time = 5.36\n",
      " 1.004735521790973\n"
     ]
    },
    {
     "name": "stderr",
     "output_type": "stream",
     "text": [
      "C:\\Users\\khcho\\anaconda3\\lib\\site-packages\\botorch\\models\\utils\\assorted.py:173: InputDataWarning: Input data is not contained to the unit cube. Please consider min-max scaling the input data.\n",
      "  warnings.warn(msg, InputDataWarning)\n"
     ]
    },
    {
     "name": "stdout",
     "output_type": "stream",
     "text": [
      "\n",
      "Batch 21: time = 5.42\n",
      " 1.0054934713152965\n"
     ]
    },
    {
     "name": "stderr",
     "output_type": "stream",
     "text": [
      "C:\\Users\\khcho\\anaconda3\\lib\\site-packages\\botorch\\models\\utils\\assorted.py:173: InputDataWarning: Input data is not contained to the unit cube. Please consider min-max scaling the input data.\n",
      "  warnings.warn(msg, InputDataWarning)\n"
     ]
    },
    {
     "name": "stdout",
     "output_type": "stream",
     "text": [
      "\n",
      "Batch 22: time = 5.67\n",
      " 1.0063711747320558\n"
     ]
    },
    {
     "name": "stderr",
     "output_type": "stream",
     "text": [
      "C:\\Users\\khcho\\anaconda3\\lib\\site-packages\\botorch\\models\\utils\\assorted.py:173: InputDataWarning: Input data is not contained to the unit cube. Please consider min-max scaling the input data.\n",
      "  warnings.warn(msg, InputDataWarning)\n"
     ]
    },
    {
     "name": "stdout",
     "output_type": "stream",
     "text": [
      "\n",
      "Batch 23: time = 5.05\n",
      " 1.0073870158466365\n"
     ]
    },
    {
     "name": "stderr",
     "output_type": "stream",
     "text": [
      "C:\\Users\\khcho\\anaconda3\\lib\\site-packages\\botorch\\models\\utils\\assorted.py:173: InputDataWarning: Input data is not contained to the unit cube. Please consider min-max scaling the input data.\n",
      "  warnings.warn(msg, InputDataWarning)\n"
     ]
    },
    {
     "name": "stdout",
     "output_type": "stream",
     "text": [
      "\n",
      "Batch 24: time = 5.55\n",
      " 1.008562016657864\n"
     ]
    },
    {
     "name": "stderr",
     "output_type": "stream",
     "text": [
      "C:\\Users\\khcho\\anaconda3\\lib\\site-packages\\botorch\\models\\utils\\assorted.py:173: InputDataWarning: Input data is not contained to the unit cube. Please consider min-max scaling the input data.\n",
      "  warnings.warn(msg, InputDataWarning)\n"
     ]
    },
    {
     "name": "stdout",
     "output_type": "stream",
     "text": [
      "\n",
      "Batch 25: time = 5.27\n",
      " 1.0099201528670387\n"
     ]
    },
    {
     "name": "stderr",
     "output_type": "stream",
     "text": [
      "C:\\Users\\khcho\\anaconda3\\lib\\site-packages\\botorch\\models\\utils\\assorted.py:173: InputDataWarning: Input data is not contained to the unit cube. Please consider min-max scaling the input data.\n",
      "  warnings.warn(msg, InputDataWarning)\n"
     ]
    },
    {
     "name": "stdout",
     "output_type": "stream",
     "text": [
      "\n",
      "Batch 26: time = 5.67\n",
      " 1.0114886849550129\n"
     ]
    },
    {
     "name": "stderr",
     "output_type": "stream",
     "text": [
      "C:\\Users\\khcho\\anaconda3\\lib\\site-packages\\botorch\\models\\utils\\assorted.py:173: InputDataWarning: Input data is not contained to the unit cube. Please consider min-max scaling the input data.\n",
      "  warnings.warn(msg, InputDataWarning)\n"
     ]
    },
    {
     "name": "stdout",
     "output_type": "stream",
     "text": [
      "\n",
      "Batch 27: time = 5.03\n",
      " 1.0132984967884329\n"
     ]
    },
    {
     "name": "stderr",
     "output_type": "stream",
     "text": [
      "C:\\Users\\khcho\\anaconda3\\lib\\site-packages\\botorch\\models\\utils\\assorted.py:173: InputDataWarning: Input data is not contained to the unit cube. Please consider min-max scaling the input data.\n",
      "  warnings.warn(msg, InputDataWarning)\n"
     ]
    },
    {
     "name": "stdout",
     "output_type": "stream",
     "text": [
      "\n",
      "Batch 28: time = 5.56\n",
      " 1.0153844296785741\n"
     ]
    },
    {
     "name": "stderr",
     "output_type": "stream",
     "text": [
      "C:\\Users\\khcho\\anaconda3\\lib\\site-packages\\botorch\\models\\utils\\assorted.py:173: InputDataWarning: Input data is not contained to the unit cube. Please consider min-max scaling the input data.\n",
      "  warnings.warn(msg, InputDataWarning)\n"
     ]
    },
    {
     "name": "stdout",
     "output_type": "stream",
     "text": [
      "\n",
      "Batch 29: time = 5.59\n",
      " 1.0177855946363181\n"
     ]
    },
    {
     "name": "stderr",
     "output_type": "stream",
     "text": [
      "C:\\Users\\khcho\\anaconda3\\lib\\site-packages\\botorch\\models\\utils\\assorted.py:173: InputDataWarning: Input data is not contained to the unit cube. Please consider min-max scaling the input data.\n",
      "  warnings.warn(msg, InputDataWarning)\n"
     ]
    },
    {
     "name": "stdout",
     "output_type": "stream",
     "text": [
      "\n",
      "Batch 30: time = 5.77\n",
      " 1.0205456391002325\n"
     ]
    },
    {
     "name": "stderr",
     "output_type": "stream",
     "text": [
      "C:\\Users\\khcho\\anaconda3\\lib\\site-packages\\botorch\\models\\utils\\assorted.py:173: InputDataWarning: Input data is not contained to the unit cube. Please consider min-max scaling the input data.\n",
      "  warnings.warn(msg, InputDataWarning)\n"
     ]
    },
    {
     "name": "stdout",
     "output_type": "stream",
     "text": [
      "\n",
      "Batch 31: time = 5.36\n",
      " 1.0237129365887834\n"
     ]
    },
    {
     "name": "stderr",
     "output_type": "stream",
     "text": [
      "C:\\Users\\khcho\\anaconda3\\lib\\site-packages\\botorch\\models\\utils\\assorted.py:173: InputDataWarning: Input data is not contained to the unit cube. Please consider min-max scaling the input data.\n",
      "  warnings.warn(msg, InputDataWarning)\n"
     ]
    },
    {
     "name": "stdout",
     "output_type": "stream",
     "text": [
      "\n",
      "Batch 32: time = 5.58\n",
      " 1.0273406586079703\n"
     ]
    },
    {
     "name": "stderr",
     "output_type": "stream",
     "text": [
      "C:\\Users\\khcho\\anaconda3\\lib\\site-packages\\botorch\\models\\utils\\assorted.py:173: InputDataWarning: Input data is not contained to the unit cube. Please consider min-max scaling the input data.\n",
      "  warnings.warn(msg, InputDataWarning)\n"
     ]
    },
    {
     "name": "stdout",
     "output_type": "stream",
     "text": [
      "\n",
      "Batch 33: time = 5.74\n",
      " 1.0314866780284984\n"
     ]
    },
    {
     "name": "stderr",
     "output_type": "stream",
     "text": [
      "C:\\Users\\khcho\\anaconda3\\lib\\site-packages\\botorch\\models\\utils\\assorted.py:173: InputDataWarning: Input data is not contained to the unit cube. Please consider min-max scaling the input data.\n",
      "  warnings.warn(msg, InputDataWarning)\n"
     ]
    },
    {
     "name": "stdout",
     "output_type": "stream",
     "text": [
      "\n",
      "Batch 34: time = 5.69\n",
      " 1.0362132426807589\n"
     ]
    },
    {
     "name": "stderr",
     "output_type": "stream",
     "text": [
      "C:\\Users\\khcho\\anaconda3\\lib\\site-packages\\botorch\\models\\utils\\assorted.py:173: InputDataWarning: Input data is not contained to the unit cube. Please consider min-max scaling the input data.\n",
      "  warnings.warn(msg, InputDataWarning)\n"
     ]
    },
    {
     "name": "stdout",
     "output_type": "stream",
     "text": [
      "\n",
      "Batch 35: time = 6.12\n",
      " 1.0415863482469612\n"
     ]
    },
    {
     "name": "stderr",
     "output_type": "stream",
     "text": [
      "C:\\Users\\khcho\\anaconda3\\lib\\site-packages\\botorch\\models\\utils\\assorted.py:173: InputDataWarning: Input data is not contained to the unit cube. Please consider min-max scaling the input data.\n",
      "  warnings.warn(msg, InputDataWarning)\n"
     ]
    },
    {
     "name": "stdout",
     "output_type": "stream",
     "text": [
      "\n",
      "Batch 36: time = 5.31\n",
      " 1.0476747324495548\n"
     ]
    },
    {
     "name": "stderr",
     "output_type": "stream",
     "text": [
      "C:\\Users\\khcho\\anaconda3\\lib\\site-packages\\botorch\\models\\utils\\assorted.py:173: InputDataWarning: Input data is not contained to the unit cube. Please consider min-max scaling the input data.\n",
      "  warnings.warn(msg, InputDataWarning)\n"
     ]
    },
    {
     "name": "stdout",
     "output_type": "stream",
     "text": [
      "\n",
      "Batch 37: time = 5.61\n",
      " 1.0545484105978065\n"
     ]
    },
    {
     "name": "stderr",
     "output_type": "stream",
     "text": [
      "C:\\Users\\khcho\\anaconda3\\lib\\site-packages\\botorch\\models\\utils\\assorted.py:173: InputDataWarning: Input data is not contained to the unit cube. Please consider min-max scaling the input data.\n",
      "  warnings.warn(msg, InputDataWarning)\n"
     ]
    },
    {
     "name": "stdout",
     "output_type": "stream",
     "text": [
      "\n",
      "Batch 38: time = 5.69\n",
      " 1.0622766790937082\n"
     ]
    },
    {
     "name": "stderr",
     "output_type": "stream",
     "text": [
      "C:\\Users\\khcho\\anaconda3\\lib\\site-packages\\botorch\\models\\utils\\assorted.py:173: InputDataWarning: Input data is not contained to the unit cube. Please consider min-max scaling the input data.\n",
      "  warnings.warn(msg, InputDataWarning)\n"
     ]
    },
    {
     "name": "stdout",
     "output_type": "stream",
     "text": [
      "\n",
      "Batch 39: time = 5.61\n",
      " 1.0709255324502438\n"
     ]
    },
    {
     "name": "stderr",
     "output_type": "stream",
     "text": [
      "C:\\Users\\khcho\\anaconda3\\lib\\site-packages\\botorch\\models\\utils\\assorted.py:173: InputDataWarning: Input data is not contained to the unit cube. Please consider min-max scaling the input data.\n",
      "  warnings.warn(msg, InputDataWarning)\n"
     ]
    },
    {
     "name": "stdout",
     "output_type": "stream",
     "text": [
      "\n",
      "Batch 40: time = 5.20\n",
      " 1.0805544747882927\n"
     ]
    },
    {
     "name": "stderr",
     "output_type": "stream",
     "text": [
      "C:\\Users\\khcho\\anaconda3\\lib\\site-packages\\botorch\\models\\utils\\assorted.py:173: InputDataWarning: Input data is not contained to the unit cube. Please consider min-max scaling the input data.\n",
      "  warnings.warn(msg, InputDataWarning)\n"
     ]
    },
    {
     "name": "stdout",
     "output_type": "stream",
     "text": [
      "\n",
      "Batch 41: time = 5.41\n",
      " 1.0912127619031782\n"
     ]
    },
    {
     "name": "stderr",
     "output_type": "stream",
     "text": [
      "C:\\Users\\khcho\\anaconda3\\lib\\site-packages\\botorch\\models\\utils\\assorted.py:173: InputDataWarning: Input data is not contained to the unit cube. Please consider min-max scaling the input data.\n",
      "  warnings.warn(msg, InputDataWarning)\n"
     ]
    },
    {
     "name": "stdout",
     "output_type": "stream",
     "text": [
      "\n",
      "Batch 42: time = 5.72\n",
      " 1.1029351859004737\n"
     ]
    },
    {
     "name": "stderr",
     "output_type": "stream",
     "text": [
      "C:\\Users\\khcho\\anaconda3\\lib\\site-packages\\botorch\\models\\utils\\assorted.py:173: InputDataWarning: Input data is not contained to the unit cube. Please consider min-max scaling the input data.\n",
      "  warnings.warn(msg, InputDataWarning)\n"
     ]
    },
    {
     "name": "stdout",
     "output_type": "stream",
     "text": [
      "\n",
      "Batch 43: time = 5.66\n",
      " 1.1157376082504913\n"
     ]
    },
    {
     "name": "stderr",
     "output_type": "stream",
     "text": [
      "C:\\Users\\khcho\\anaconda3\\lib\\site-packages\\botorch\\models\\utils\\assorted.py:173: InputDataWarning: Input data is not contained to the unit cube. Please consider min-max scaling the input data.\n",
      "  warnings.warn(msg, InputDataWarning)\n"
     ]
    },
    {
     "name": "stdout",
     "output_type": "stream",
     "text": [
      "\n",
      "Batch 44: time = 5.72\n",
      " 1.129612550408923\n"
     ]
    },
    {
     "name": "stderr",
     "output_type": "stream",
     "text": [
      "C:\\Users\\khcho\\anaconda3\\lib\\site-packages\\botorch\\models\\utils\\assorted.py:173: InputDataWarning: Input data is not contained to the unit cube. Please consider min-max scaling the input data.\n",
      "  warnings.warn(msg, InputDataWarning)\n"
     ]
    },
    {
     "name": "stdout",
     "output_type": "stream",
     "text": [
      "\n",
      "Batch 45: time = 5.80\n",
      " 1.144525248687498\n"
     ]
    },
    {
     "name": "stderr",
     "output_type": "stream",
     "text": [
      "C:\\Users\\khcho\\anaconda3\\lib\\site-packages\\botorch\\models\\utils\\assorted.py:173: InputDataWarning: Input data is not contained to the unit cube. Please consider min-max scaling the input data.\n",
      "  warnings.warn(msg, InputDataWarning)\n"
     ]
    },
    {
     "name": "stdout",
     "output_type": "stream",
     "text": [
      "\n",
      "Batch 46: time = 5.34\n",
      " 1.1604106504123035\n"
     ]
    },
    {
     "name": "stderr",
     "output_type": "stream",
     "text": [
      "C:\\Users\\khcho\\anaconda3\\lib\\site-packages\\botorch\\models\\utils\\assorted.py:173: InputDataWarning: Input data is not contained to the unit cube. Please consider min-max scaling the input data.\n",
      "  warnings.warn(msg, InputDataWarning)\n"
     ]
    },
    {
     "name": "stdout",
     "output_type": "stream",
     "text": [
      "\n",
      "Batch 47: time = 5.01\n",
      " 1.1771718468871022\n"
     ]
    },
    {
     "name": "stderr",
     "output_type": "stream",
     "text": [
      "C:\\Users\\khcho\\anaconda3\\lib\\site-packages\\botorch\\models\\utils\\assorted.py:173: InputDataWarning: Input data is not contained to the unit cube. Please consider min-max scaling the input data.\n",
      "  warnings.warn(msg, InputDataWarning)\n"
     ]
    },
    {
     "name": "stdout",
     "output_type": "stream",
     "text": [
      "\n",
      "Batch 48: time = 5.33\n",
      " 1.194680383025389\n"
     ]
    },
    {
     "name": "stderr",
     "output_type": "stream",
     "text": [
      "C:\\Users\\khcho\\anaconda3\\lib\\site-packages\\botorch\\models\\utils\\assorted.py:173: InputDataWarning: Input data is not contained to the unit cube. Please consider min-max scaling the input data.\n",
      "  warnings.warn(msg, InputDataWarning)\n"
     ]
    },
    {
     "name": "stdout",
     "output_type": "stream",
     "text": [
      "\n",
      "Batch 49: time = 5.12\n",
      " 1.2127787415941704\n"
     ]
    },
    {
     "name": "stderr",
     "output_type": "stream",
     "text": [
      "C:\\Users\\khcho\\anaconda3\\lib\\site-packages\\botorch\\models\\utils\\assorted.py:173: InputDataWarning: Input data is not contained to the unit cube. Please consider min-max scaling the input data.\n",
      "  warnings.warn(msg, InputDataWarning)\n"
     ]
    },
    {
     "name": "stdout",
     "output_type": "stream",
     "text": [
      "\n",
      "Batch 50: time = 5.36\n",
      " 1.2312850773281252\n"
     ]
    },
    {
     "name": "stderr",
     "output_type": "stream",
     "text": [
      "C:\\Users\\khcho\\anaconda3\\lib\\site-packages\\botorch\\models\\utils\\assorted.py:173: InputDataWarning: Input data is not contained to the unit cube. Please consider min-max scaling the input data.\n",
      "  warnings.warn(msg, InputDataWarning)\n"
     ]
    },
    {
     "name": "stdout",
     "output_type": "stream",
     "text": [
      "\n",
      "Batch 51: time = 5.09\n",
      " 1.25\n"
     ]
    },
    {
     "name": "stderr",
     "output_type": "stream",
     "text": [
      "C:\\Users\\khcho\\anaconda3\\lib\\site-packages\\botorch\\models\\utils\\assorted.py:173: InputDataWarning: Input data is not contained to the unit cube. Please consider min-max scaling the input data.\n",
      "  warnings.warn(msg, InputDataWarning)\n"
     ]
    },
    {
     "name": "stdout",
     "output_type": "stream",
     "text": [
      "\n",
      "Batch 52: time = 5.44\n",
      " 1.2687149226718748\n"
     ]
    },
    {
     "name": "stderr",
     "output_type": "stream",
     "text": [
      "C:\\Users\\khcho\\anaconda3\\lib\\site-packages\\botorch\\models\\utils\\assorted.py:173: InputDataWarning: Input data is not contained to the unit cube. Please consider min-max scaling the input data.\n",
      "  warnings.warn(msg, InputDataWarning)\n"
     ]
    },
    {
     "name": "stdout",
     "output_type": "stream",
     "text": [
      "\n",
      "Batch 53: time = 5.05\n",
      " 1.2872212584058296\n"
     ]
    },
    {
     "name": "stderr",
     "output_type": "stream",
     "text": [
      "C:\\Users\\khcho\\anaconda3\\lib\\site-packages\\botorch\\models\\utils\\assorted.py:173: InputDataWarning: Input data is not contained to the unit cube. Please consider min-max scaling the input data.\n",
      "  warnings.warn(msg, InputDataWarning)\n"
     ]
    },
    {
     "name": "stdout",
     "output_type": "stream",
     "text": [
      "\n",
      "Batch 54: time = 5.28\n",
      " 1.305319616974611\n"
     ]
    },
    {
     "name": "stderr",
     "output_type": "stream",
     "text": [
      "C:\\Users\\khcho\\anaconda3\\lib\\site-packages\\botorch\\models\\utils\\assorted.py:173: InputDataWarning: Input data is not contained to the unit cube. Please consider min-max scaling the input data.\n",
      "  warnings.warn(msg, InputDataWarning)\n"
     ]
    },
    {
     "name": "stdout",
     "output_type": "stream",
     "text": [
      "\n",
      "Batch 55: time = 5.92\n",
      " 1.3228281531128978\n"
     ]
    },
    {
     "name": "stderr",
     "output_type": "stream",
     "text": [
      "C:\\Users\\khcho\\anaconda3\\lib\\site-packages\\botorch\\models\\utils\\assorted.py:173: InputDataWarning: Input data is not contained to the unit cube. Please consider min-max scaling the input data.\n",
      "  warnings.warn(msg, InputDataWarning)\n"
     ]
    },
    {
     "name": "stdout",
     "output_type": "stream",
     "text": [
      "\n",
      "Batch 56: time = 5.45\n",
      " 1.3395893495876965\n"
     ]
    },
    {
     "name": "stderr",
     "output_type": "stream",
     "text": [
      "C:\\Users\\khcho\\anaconda3\\lib\\site-packages\\botorch\\models\\utils\\assorted.py:173: InputDataWarning: Input data is not contained to the unit cube. Please consider min-max scaling the input data.\n",
      "  warnings.warn(msg, InputDataWarning)\n"
     ]
    },
    {
     "name": "stdout",
     "output_type": "stream",
     "text": [
      "\n",
      "Batch 57: time = 5.19\n",
      " 1.355474751312502\n"
     ]
    },
    {
     "name": "stderr",
     "output_type": "stream",
     "text": [
      "C:\\Users\\khcho\\anaconda3\\lib\\site-packages\\botorch\\models\\utils\\assorted.py:173: InputDataWarning: Input data is not contained to the unit cube. Please consider min-max scaling the input data.\n",
      "  warnings.warn(msg, InputDataWarning)\n"
     ]
    },
    {
     "name": "stdout",
     "output_type": "stream",
     "text": [
      "\n",
      "Batch 58: time = 4.84\n",
      " 1.370387449591077\n"
     ]
    },
    {
     "name": "stderr",
     "output_type": "stream",
     "text": [
      "C:\\Users\\khcho\\anaconda3\\lib\\site-packages\\botorch\\models\\utils\\assorted.py:173: InputDataWarning: Input data is not contained to the unit cube. Please consider min-max scaling the input data.\n",
      "  warnings.warn(msg, InputDataWarning)\n"
     ]
    },
    {
     "name": "stdout",
     "output_type": "stream",
     "text": [
      "\n",
      "Batch 59: time = 5.14\n",
      " 1.3842623917495087\n"
     ]
    },
    {
     "name": "stderr",
     "output_type": "stream",
     "text": [
      "C:\\Users\\khcho\\anaconda3\\lib\\site-packages\\botorch\\models\\utils\\assorted.py:173: InputDataWarning: Input data is not contained to the unit cube. Please consider min-max scaling the input data.\n",
      "  warnings.warn(msg, InputDataWarning)\n"
     ]
    },
    {
     "name": "stdout",
     "output_type": "stream",
     "text": [
      "\n",
      "Batch 60: time = 4.95\n",
      " 1.3970648140995263\n"
     ]
    },
    {
     "name": "stderr",
     "output_type": "stream",
     "text": [
      "C:\\Users\\khcho\\anaconda3\\lib\\site-packages\\botorch\\models\\utils\\assorted.py:173: InputDataWarning: Input data is not contained to the unit cube. Please consider min-max scaling the input data.\n",
      "  warnings.warn(msg, InputDataWarning)\n"
     ]
    },
    {
     "name": "stdout",
     "output_type": "stream",
     "text": [
      "\n",
      "Batch 61: time = 4.94\n",
      " 1.4087872380968218\n"
     ]
    },
    {
     "name": "stderr",
     "output_type": "stream",
     "text": [
      "C:\\Users\\khcho\\anaconda3\\lib\\site-packages\\botorch\\models\\utils\\assorted.py:173: InputDataWarning: Input data is not contained to the unit cube. Please consider min-max scaling the input data.\n",
      "  warnings.warn(msg, InputDataWarning)\n"
     ]
    },
    {
     "name": "stdout",
     "output_type": "stream",
     "text": [
      "\n",
      "Batch 62: time = 4.80\n",
      " 1.4194455252117073\n"
     ]
    },
    {
     "name": "stderr",
     "output_type": "stream",
     "text": [
      "C:\\Users\\khcho\\anaconda3\\lib\\site-packages\\botorch\\models\\utils\\assorted.py:173: InputDataWarning: Input data is not contained to the unit cube. Please consider min-max scaling the input data.\n",
      "  warnings.warn(msg, InputDataWarning)\n"
     ]
    },
    {
     "name": "stdout",
     "output_type": "stream",
     "text": [
      "\n",
      "Batch 63: time = 5.14\n",
      " 1.4290744675497562\n"
     ]
    },
    {
     "name": "stderr",
     "output_type": "stream",
     "text": [
      "C:\\Users\\khcho\\anaconda3\\lib\\site-packages\\botorch\\models\\utils\\assorted.py:173: InputDataWarning: Input data is not contained to the unit cube. Please consider min-max scaling the input data.\n",
      "  warnings.warn(msg, InputDataWarning)\n"
     ]
    },
    {
     "name": "stdout",
     "output_type": "stream",
     "text": [
      "\n",
      "Batch 64: time = 4.88\n",
      " 1.4377233209062918\n"
     ]
    },
    {
     "name": "stderr",
     "output_type": "stream",
     "text": [
      "C:\\Users\\khcho\\anaconda3\\lib\\site-packages\\botorch\\models\\utils\\assorted.py:173: InputDataWarning: Input data is not contained to the unit cube. Please consider min-max scaling the input data.\n",
      "  warnings.warn(msg, InputDataWarning)\n"
     ]
    },
    {
     "name": "stdout",
     "output_type": "stream",
     "text": [
      "\n",
      "Batch 65: time = 5.11\n",
      " 1.4454515894021935\n"
     ]
    },
    {
     "name": "stderr",
     "output_type": "stream",
     "text": [
      "C:\\Users\\khcho\\anaconda3\\lib\\site-packages\\botorch\\models\\utils\\assorted.py:173: InputDataWarning: Input data is not contained to the unit cube. Please consider min-max scaling the input data.\n",
      "  warnings.warn(msg, InputDataWarning)\n"
     ]
    },
    {
     "name": "stdout",
     "output_type": "stream",
     "text": [
      "\n",
      "Batch 66: time = 5.50\n",
      " 1.4523252675504452\n"
     ]
    },
    {
     "name": "stderr",
     "output_type": "stream",
     "text": [
      "C:\\Users\\khcho\\anaconda3\\lib\\site-packages\\botorch\\models\\utils\\assorted.py:173: InputDataWarning: Input data is not contained to the unit cube. Please consider min-max scaling the input data.\n",
      "  warnings.warn(msg, InputDataWarning)\n"
     ]
    },
    {
     "name": "stdout",
     "output_type": "stream",
     "text": [
      "\n",
      "Batch 67: time = 5.05\n",
      " 1.4584136517530388\n"
     ]
    },
    {
     "name": "stderr",
     "output_type": "stream",
     "text": [
      "C:\\Users\\khcho\\anaconda3\\lib\\site-packages\\botorch\\models\\utils\\assorted.py:173: InputDataWarning: Input data is not contained to the unit cube. Please consider min-max scaling the input data.\n",
      "  warnings.warn(msg, InputDataWarning)\n"
     ]
    },
    {
     "name": "stdout",
     "output_type": "stream",
     "text": [
      "\n",
      "Batch 68: time = 4.88\n",
      " 1.4637867573192411\n"
     ]
    },
    {
     "name": "stderr",
     "output_type": "stream",
     "text": [
      "C:\\Users\\khcho\\anaconda3\\lib\\site-packages\\botorch\\models\\utils\\assorted.py:173: InputDataWarning: Input data is not contained to the unit cube. Please consider min-max scaling the input data.\n",
      "  warnings.warn(msg, InputDataWarning)\n"
     ]
    },
    {
     "name": "stdout",
     "output_type": "stream",
     "text": [
      "\n",
      "Batch 69: time = 5.28\n",
      " 1.4685133219715016\n"
     ]
    },
    {
     "name": "stderr",
     "output_type": "stream",
     "text": [
      "C:\\Users\\khcho\\anaconda3\\lib\\site-packages\\botorch\\models\\utils\\assorted.py:173: InputDataWarning: Input data is not contained to the unit cube. Please consider min-max scaling the input data.\n",
      "  warnings.warn(msg, InputDataWarning)\n"
     ]
    },
    {
     "name": "stdout",
     "output_type": "stream",
     "text": [
      "\n",
      "Batch 70: time = 5.16\n",
      " 1.4726593413920295\n"
     ]
    },
    {
     "name": "stderr",
     "output_type": "stream",
     "text": [
      "C:\\Users\\khcho\\anaconda3\\lib\\site-packages\\botorch\\models\\utils\\assorted.py:173: InputDataWarning: Input data is not contained to the unit cube. Please consider min-max scaling the input data.\n",
      "  warnings.warn(msg, InputDataWarning)\n"
     ]
    },
    {
     "name": "stdout",
     "output_type": "stream",
     "text": [
      "\n",
      "Batch 71: time = 5.25\n",
      " 1.4762870634112166\n"
     ]
    },
    {
     "name": "stderr",
     "output_type": "stream",
     "text": [
      "C:\\Users\\khcho\\anaconda3\\lib\\site-packages\\botorch\\models\\utils\\assorted.py:173: InputDataWarning: Input data is not contained to the unit cube. Please consider min-max scaling the input data.\n",
      "  warnings.warn(msg, InputDataWarning)\n"
     ]
    },
    {
     "name": "stdout",
     "output_type": "stream",
     "text": [
      "\n",
      "Batch 72: time = 5.56\n",
      " 1.4794543608997675\n"
     ]
    },
    {
     "name": "stderr",
     "output_type": "stream",
     "text": [
      "C:\\Users\\khcho\\anaconda3\\lib\\site-packages\\botorch\\models\\utils\\assorted.py:173: InputDataWarning: Input data is not contained to the unit cube. Please consider min-max scaling the input data.\n",
      "  warnings.warn(msg, InputDataWarning)\n"
     ]
    },
    {
     "name": "stdout",
     "output_type": "stream",
     "text": [
      "\n",
      "Batch 73: time = 5.44\n",
      " 1.4822144053636819\n"
     ]
    },
    {
     "name": "stderr",
     "output_type": "stream",
     "text": [
      "C:\\Users\\khcho\\anaconda3\\lib\\site-packages\\botorch\\models\\utils\\assorted.py:173: InputDataWarning: Input data is not contained to the unit cube. Please consider min-max scaling the input data.\n",
      "  warnings.warn(msg, InputDataWarning)\n"
     ]
    },
    {
     "name": "stdout",
     "output_type": "stream",
     "text": [
      "\n",
      "Batch 74: time = 5.22\n",
      " 1.4846155703214259\n"
     ]
    },
    {
     "name": "stderr",
     "output_type": "stream",
     "text": [
      "C:\\Users\\khcho\\anaconda3\\lib\\site-packages\\botorch\\models\\utils\\assorted.py:173: InputDataWarning: Input data is not contained to the unit cube. Please consider min-max scaling the input data.\n",
      "  warnings.warn(msg, InputDataWarning)\n"
     ]
    },
    {
     "name": "stdout",
     "output_type": "stream",
     "text": [
      "\n",
      "Batch 75: time = 5.52\n",
      " 1.4867015032115671\n"
     ]
    },
    {
     "name": "stderr",
     "output_type": "stream",
     "text": [
      "C:\\Users\\khcho\\anaconda3\\lib\\site-packages\\botorch\\models\\utils\\assorted.py:173: InputDataWarning: Input data is not contained to the unit cube. Please consider min-max scaling the input data.\n",
      "  warnings.warn(msg, InputDataWarning)\n"
     ]
    },
    {
     "name": "stdout",
     "output_type": "stream",
     "text": [
      "\n",
      "Batch 76: time = 4.92\n",
      " 1.4885113150449871\n"
     ]
    },
    {
     "name": "stderr",
     "output_type": "stream",
     "text": [
      "C:\\Users\\khcho\\anaconda3\\lib\\site-packages\\botorch\\models\\utils\\assorted.py:173: InputDataWarning: Input data is not contained to the unit cube. Please consider min-max scaling the input data.\n",
      "  warnings.warn(msg, InputDataWarning)\n"
     ]
    },
    {
     "name": "stdout",
     "output_type": "stream",
     "text": [
      "\n",
      "Batch 77: time = 5.06\n",
      " 1.4900798471329613\n"
     ]
    },
    {
     "name": "stderr",
     "output_type": "stream",
     "text": [
      "C:\\Users\\khcho\\anaconda3\\lib\\site-packages\\botorch\\models\\utils\\assorted.py:173: InputDataWarning: Input data is not contained to the unit cube. Please consider min-max scaling the input data.\n",
      "  warnings.warn(msg, InputDataWarning)\n"
     ]
    },
    {
     "name": "stdout",
     "output_type": "stream",
     "text": [
      "\n",
      "Batch 78: time = 5.53\n",
      " 1.491437983342136\n"
     ]
    },
    {
     "name": "stderr",
     "output_type": "stream",
     "text": [
      "C:\\Users\\khcho\\anaconda3\\lib\\site-packages\\botorch\\models\\utils\\assorted.py:173: InputDataWarning: Input data is not contained to the unit cube. Please consider min-max scaling the input data.\n",
      "  warnings.warn(msg, InputDataWarning)\n"
     ]
    },
    {
     "name": "stdout",
     "output_type": "stream",
     "text": [
      "\n",
      "Batch 79: time = 5.33\n",
      " 1.4926129841533635\n"
     ]
    },
    {
     "name": "stderr",
     "output_type": "stream",
     "text": [
      "C:\\Users\\khcho\\anaconda3\\lib\\site-packages\\botorch\\models\\utils\\assorted.py:173: InputDataWarning: Input data is not contained to the unit cube. Please consider min-max scaling the input data.\n",
      "  warnings.warn(msg, InputDataWarning)\n"
     ]
    },
    {
     "name": "stdout",
     "output_type": "stream",
     "text": [
      "\n",
      "Batch 80: time = 5.33\n",
      " 1.4936288252679442\n"
     ]
    },
    {
     "name": "stderr",
     "output_type": "stream",
     "text": [
      "C:\\Users\\khcho\\anaconda3\\lib\\site-packages\\botorch\\models\\utils\\assorted.py:173: InputDataWarning: Input data is not contained to the unit cube. Please consider min-max scaling the input data.\n",
      "  warnings.warn(msg, InputDataWarning)\n"
     ]
    },
    {
     "name": "stdout",
     "output_type": "stream",
     "text": [
      "\n",
      "Batch 81: time = 5.23\n",
      " 1.4945065286847035\n"
     ]
    },
    {
     "name": "stderr",
     "output_type": "stream",
     "text": [
      "C:\\Users\\khcho\\anaconda3\\lib\\site-packages\\botorch\\models\\utils\\assorted.py:173: InputDataWarning: Input data is not contained to the unit cube. Please consider min-max scaling the input data.\n",
      "  warnings.warn(msg, InputDataWarning)\n"
     ]
    },
    {
     "name": "stdout",
     "output_type": "stream",
     "text": [
      "\n",
      "Batch 82: time = 5.38\n",
      " 1.495264478209027\n"
     ]
    },
    {
     "name": "stderr",
     "output_type": "stream",
     "text": [
      "C:\\Users\\khcho\\anaconda3\\lib\\site-packages\\botorch\\models\\utils\\assorted.py:173: InputDataWarning: Input data is not contained to the unit cube. Please consider min-max scaling the input data.\n",
      "  warnings.warn(msg, InputDataWarning)\n"
     ]
    },
    {
     "name": "stdout",
     "output_type": "stream",
     "text": [
      "\n",
      "Batch 83: time = 5.34\n",
      " 1.49591871442342\n"
     ]
    },
    {
     "name": "stderr",
     "output_type": "stream",
     "text": [
      "C:\\Users\\khcho\\anaconda3\\lib\\site-packages\\botorch\\models\\utils\\assorted.py:173: InputDataWarning: Input data is not contained to the unit cube. Please consider min-max scaling the input data.\n",
      "  warnings.warn(msg, InputDataWarning)\n"
     ]
    },
    {
     "name": "stdout",
     "output_type": "stream",
     "text": [
      "\n",
      "Batch 84: time = 5.59\n",
      " 1.4964832064225024\n"
     ]
    },
    {
     "name": "stderr",
     "output_type": "stream",
     "text": [
      "C:\\Users\\khcho\\anaconda3\\lib\\site-packages\\botorch\\models\\utils\\assorted.py:173: InputDataWarning: Input data is not contained to the unit cube. Please consider min-max scaling the input data.\n",
      "  warnings.warn(msg, InputDataWarning)\n"
     ]
    },
    {
     "name": "stdout",
     "output_type": "stream",
     "text": [
      "\n",
      "Batch 85: time = 5.20\n",
      " 1.4969700992542079\n"
     ]
    },
    {
     "name": "stderr",
     "output_type": "stream",
     "text": [
      "C:\\Users\\khcho\\anaconda3\\lib\\site-packages\\botorch\\models\\utils\\assorted.py:173: InputDataWarning: Input data is not contained to the unit cube. Please consider min-max scaling the input data.\n",
      "  warnings.warn(msg, InputDataWarning)\n"
     ]
    },
    {
     "name": "stdout",
     "output_type": "stream",
     "text": [
      "\n",
      "Batch 86: time = 5.58\n",
      " 1.4973899371532209\n"
     ]
    },
    {
     "name": "stderr",
     "output_type": "stream",
     "text": [
      "C:\\Users\\khcho\\anaconda3\\lib\\site-packages\\botorch\\models\\utils\\assorted.py:173: InputDataWarning: Input data is not contained to the unit cube. Please consider min-max scaling the input data.\n",
      "  warnings.warn(msg, InputDataWarning)\n"
     ]
    },
    {
     "name": "stdout",
     "output_type": "stream",
     "text": [
      "\n",
      "Batch 87: time = 5.38\n",
      " 1.4977518634195295\n"
     ]
    },
    {
     "name": "stderr",
     "output_type": "stream",
     "text": [
      "C:\\Users\\khcho\\anaconda3\\lib\\site-packages\\botorch\\models\\utils\\assorted.py:173: InputDataWarning: Input data is not contained to the unit cube. Please consider min-max scaling the input data.\n",
      "  warnings.warn(msg, InputDataWarning)\n"
     ]
    },
    {
     "name": "stdout",
     "output_type": "stream",
     "text": [
      "\n",
      "Batch 88: time = 5.02\n",
      " 1.4980637982796645\n"
     ]
    },
    {
     "name": "stderr",
     "output_type": "stream",
     "text": [
      "C:\\Users\\khcho\\anaconda3\\lib\\site-packages\\botorch\\models\\utils\\assorted.py:173: InputDataWarning: Input data is not contained to the unit cube. Please consider min-max scaling the input data.\n",
      "  warnings.warn(msg, InputDataWarning)\n"
     ]
    },
    {
     "name": "stdout",
     "output_type": "stream",
     "text": [
      "\n",
      "Batch 89: time = 5.81\n",
      " 1.4983325963462932\n"
     ]
    },
    {
     "name": "stderr",
     "output_type": "stream",
     "text": [
      "C:\\Users\\khcho\\anaconda3\\lib\\site-packages\\botorch\\models\\utils\\assorted.py:173: InputDataWarning: Input data is not contained to the unit cube. Please consider min-max scaling the input data.\n",
      "  warnings.warn(msg, InputDataWarning)\n"
     ]
    },
    {
     "name": "stdout",
     "output_type": "stream",
     "text": [
      "\n",
      "Batch 90: time = 5.62\n",
      " 1.4985641854221496\n"
     ]
    },
    {
     "name": "stderr",
     "output_type": "stream",
     "text": [
      "C:\\Users\\khcho\\anaconda3\\lib\\site-packages\\botorch\\models\\utils\\assorted.py:173: InputDataWarning: Input data is not contained to the unit cube. Please consider min-max scaling the input data.\n",
      "  warnings.warn(msg, InputDataWarning)\n"
     ]
    },
    {
     "name": "stdout",
     "output_type": "stream",
     "text": [
      "\n",
      "Batch 91: time = 5.31\n",
      " 1.4987636884216826\n"
     ]
    },
    {
     "name": "stderr",
     "output_type": "stream",
     "text": [
      "C:\\Users\\khcho\\anaconda3\\lib\\site-packages\\botorch\\models\\utils\\assorted.py:173: InputDataWarning: Input data is not contained to the unit cube. Please consider min-max scaling the input data.\n",
      "  warnings.warn(msg, InputDataWarning)\n"
     ]
    },
    {
     "name": "stdout",
     "output_type": "stream",
     "text": [
      "\n",
      "Batch 92: time = 5.86\n",
      " 1.4989355301420177\n"
     ]
    },
    {
     "name": "stderr",
     "output_type": "stream",
     "text": [
      "C:\\Users\\khcho\\anaconda3\\lib\\site-packages\\botorch\\models\\utils\\assorted.py:173: InputDataWarning: Input data is not contained to the unit cube. Please consider min-max scaling the input data.\n",
      "  warnings.warn(msg, InputDataWarning)\n"
     ]
    },
    {
     "name": "stdout",
     "output_type": "stream",
     "text": [
      "\n",
      "Batch 93: time = 5.30\n",
      " 1.4990835305287535\n"
     ]
    },
    {
     "name": "stderr",
     "output_type": "stream",
     "text": [
      "C:\\Users\\khcho\\anaconda3\\lib\\site-packages\\botorch\\models\\utils\\assorted.py:173: InputDataWarning: Input data is not contained to the unit cube. Please consider min-max scaling the input data.\n",
      "  warnings.warn(msg, InputDataWarning)\n"
     ]
    },
    {
     "name": "stdout",
     "output_type": "stream",
     "text": [
      "\n",
      "Batch 94: time = 6.06\n",
      " 1.499210985969798\n"
     ]
    },
    {
     "name": "stderr",
     "output_type": "stream",
     "text": [
      "C:\\Users\\khcho\\anaconda3\\lib\\site-packages\\botorch\\models\\utils\\assorted.py:173: InputDataWarning: Input data is not contained to the unit cube. Please consider min-max scaling the input data.\n",
      "  warnings.warn(msg, InputDataWarning)\n"
     ]
    },
    {
     "name": "stdout",
     "output_type": "stream",
     "text": [
      "\n",
      "Batch 95: time = 5.86\n",
      " 1.4993207400247854\n"
     ]
    },
    {
     "name": "stderr",
     "output_type": "stream",
     "text": [
      "C:\\Users\\khcho\\anaconda3\\lib\\site-packages\\botorch\\models\\utils\\assorted.py:173: InputDataWarning: Input data is not contained to the unit cube. Please consider min-max scaling the input data.\n",
      "  warnings.warn(msg, InputDataWarning)\n"
     ]
    },
    {
     "name": "stdout",
     "output_type": "stream",
     "text": [
      "\n",
      "Batch 96: time = 5.25\n",
      " 1.4994152448674722\n"
     ]
    },
    {
     "name": "stderr",
     "output_type": "stream",
     "text": [
      "C:\\Users\\khcho\\anaconda3\\lib\\site-packages\\botorch\\models\\utils\\assorted.py:173: InputDataWarning: Input data is not contained to the unit cube. Please consider min-max scaling the input data.\n",
      "  warnings.warn(msg, InputDataWarning)\n"
     ]
    },
    {
     "name": "stdout",
     "output_type": "stream",
     "text": [
      "\n",
      "Batch 97: time = 5.00\n",
      " 1.4994966145899573\n"
     ]
    },
    {
     "name": "stderr",
     "output_type": "stream",
     "text": [
      "C:\\Users\\khcho\\anaconda3\\lib\\site-packages\\botorch\\models\\utils\\assorted.py:173: InputDataWarning: Input data is not contained to the unit cube. Please consider min-max scaling the input data.\n",
      "  warnings.warn(msg, InputDataWarning)\n"
     ]
    },
    {
     "name": "stdout",
     "output_type": "stream",
     "text": [
      "\n",
      "Batch 98: time = 83.51\n",
      " 1.4995666713944604\n"
     ]
    },
    {
     "name": "stderr",
     "output_type": "stream",
     "text": [
      "C:\\Users\\khcho\\anaconda3\\lib\\site-packages\\botorch\\models\\utils\\assorted.py:173: InputDataWarning: Input data is not contained to the unit cube. Please consider min-max scaling the input data.\n",
      "  warnings.warn(msg, InputDataWarning)\n"
     ]
    },
    {
     "name": "stdout",
     "output_type": "stream",
     "text": [
      "\n",
      "Batch 99: time = 5.12\n",
      " 1.4996269855830817\n"
     ]
    },
    {
     "name": "stderr",
     "output_type": "stream",
     "text": [
      "C:\\Users\\khcho\\anaconda3\\lib\\site-packages\\botorch\\models\\utils\\assorted.py:173: InputDataWarning: Input data is not contained to the unit cube. Please consider min-max scaling the input data.\n",
      "  warnings.warn(msg, InputDataWarning)\n"
     ]
    },
    {
     "name": "stdout",
     "output_type": "stream",
     "text": [
      "\n",
      "Batch 100: time = 5.49\n",
      " 1.0002763893184619\n",
      "\n",
      "Batch  2: time = 51.20\n",
      " 1.000321089850293\n"
     ]
    },
    {
     "name": "stderr",
     "output_type": "stream",
     "text": [
      "C:\\Users\\khcho\\anaconda3\\lib\\site-packages\\botorch\\models\\utils\\assorted.py:173: InputDataWarning: Input data is not contained to the unit cube. Please consider min-max scaling the input data.\n",
      "  warnings.warn(msg, InputDataWarning)\n"
     ]
    },
    {
     "name": "stdout",
     "output_type": "stream",
     "text": [
      "\n",
      "Batch  3: time = 7.86\n",
      " 1.0003730144169183\n"
     ]
    },
    {
     "name": "stderr",
     "output_type": "stream",
     "text": [
      "C:\\Users\\khcho\\anaconda3\\lib\\site-packages\\botorch\\models\\utils\\assorted.py:173: InputDataWarning: Input data is not contained to the unit cube. Please consider min-max scaling the input data.\n",
      "  warnings.warn(msg, InputDataWarning)\n"
     ]
    },
    {
     "name": "stdout",
     "output_type": "stream",
     "text": [
      "\n",
      "Batch  4: time = 33.03\n",
      " 1.0004333286055396\n"
     ]
    },
    {
     "name": "stderr",
     "output_type": "stream",
     "text": [
      "C:\\Users\\khcho\\anaconda3\\lib\\site-packages\\botorch\\models\\utils\\assorted.py:173: InputDataWarning: Input data is not contained to the unit cube. Please consider min-max scaling the input data.\n",
      "  warnings.warn(msg, InputDataWarning)\n"
     ]
    },
    {
     "name": "stdout",
     "output_type": "stream",
     "text": [
      "\n",
      "Batch  5: time = 6.73\n",
      " 1.000503385410043\n"
     ]
    },
    {
     "name": "stderr",
     "output_type": "stream",
     "text": [
      "C:\\Users\\khcho\\anaconda3\\lib\\site-packages\\botorch\\models\\utils\\assorted.py:173: InputDataWarning: Input data is not contained to the unit cube. Please consider min-max scaling the input data.\n",
      "  warnings.warn(msg, InputDataWarning)\n"
     ]
    },
    {
     "name": "stdout",
     "output_type": "stream",
     "text": [
      "\n",
      "Batch  6: time = 4.55\n",
      " 1.0005847551325278\n"
     ]
    },
    {
     "name": "stderr",
     "output_type": "stream",
     "text": [
      "C:\\Users\\khcho\\anaconda3\\lib\\site-packages\\botorch\\models\\utils\\assorted.py:173: InputDataWarning: Input data is not contained to the unit cube. Please consider min-max scaling the input data.\n",
      "  warnings.warn(msg, InputDataWarning)\n"
     ]
    },
    {
     "name": "stdout",
     "output_type": "stream",
     "text": [
      "\n",
      "Batch  7: time = 4.75\n",
      " 1.0006792599752146\n"
     ]
    },
    {
     "name": "stderr",
     "output_type": "stream",
     "text": [
      "C:\\Users\\khcho\\anaconda3\\lib\\site-packages\\botorch\\models\\utils\\assorted.py:173: InputDataWarning: Input data is not contained to the unit cube. Please consider min-max scaling the input data.\n",
      "  warnings.warn(msg, InputDataWarning)\n"
     ]
    },
    {
     "name": "stdout",
     "output_type": "stream",
     "text": [
      "\n",
      "Batch  8: time = 4.66\n",
      " 1.000789014030202\n",
      "\n",
      "Batch  9: time = 4.69\n",
      " 1.0009164694712465\n"
     ]
    },
    {
     "name": "stderr",
     "output_type": "stream",
     "text": [
      "C:\\Users\\khcho\\anaconda3\\lib\\site-packages\\botorch\\models\\utils\\assorted.py:173: InputDataWarning: Input data is not contained to the unit cube. Please consider min-max scaling the input data.\n",
      "  warnings.warn(msg, InputDataWarning)\n",
      "C:\\Users\\khcho\\anaconda3\\lib\\site-packages\\botorch\\models\\utils\\assorted.py:173: InputDataWarning: Input data is not contained to the unit cube. Please consider min-max scaling the input data.\n",
      "  warnings.warn(msg, InputDataWarning)\n"
     ]
    },
    {
     "name": "stdout",
     "output_type": "stream",
     "text": [
      "\n",
      "Batch 10: time = 4.76\n",
      " 1.001064469857982\n"
     ]
    },
    {
     "name": "stderr",
     "output_type": "stream",
     "text": [
      "C:\\Users\\khcho\\anaconda3\\lib\\site-packages\\botorch\\models\\utils\\assorted.py:173: InputDataWarning: Input data is not contained to the unit cube. Please consider min-max scaling the input data.\n",
      "  warnings.warn(msg, InputDataWarning)\n"
     ]
    },
    {
     "name": "stdout",
     "output_type": "stream",
     "text": [
      "\n",
      "Batch 11: time = 4.49\n",
      " 1.0012363115783174\n"
     ]
    },
    {
     "name": "stderr",
     "output_type": "stream",
     "text": [
      "C:\\Users\\khcho\\anaconda3\\lib\\site-packages\\botorch\\models\\utils\\assorted.py:173: InputDataWarning: Input data is not contained to the unit cube. Please consider min-max scaling the input data.\n",
      "  warnings.warn(msg, InputDataWarning)\n"
     ]
    },
    {
     "name": "stdout",
     "output_type": "stream",
     "text": [
      "\n",
      "Batch 12: time = 4.97\n",
      " 1.0014358145778501\n"
     ]
    },
    {
     "name": "stderr",
     "output_type": "stream",
     "text": [
      "C:\\Users\\khcho\\anaconda3\\lib\\site-packages\\botorch\\models\\utils\\assorted.py:173: InputDataWarning: Input data is not contained to the unit cube. Please consider min-max scaling the input data.\n",
      "  warnings.warn(msg, InputDataWarning)\n"
     ]
    },
    {
     "name": "stdout",
     "output_type": "stream",
     "text": [
      "\n",
      "Batch 13: time = 4.61\n",
      " 1.0016674036537068\n"
     ]
    },
    {
     "name": "stderr",
     "output_type": "stream",
     "text": [
      "C:\\Users\\khcho\\anaconda3\\lib\\site-packages\\botorch\\models\\utils\\assorted.py:173: InputDataWarning: Input data is not contained to the unit cube. Please consider min-max scaling the input data.\n",
      "  warnings.warn(msg, InputDataWarning)\n"
     ]
    },
    {
     "name": "stdout",
     "output_type": "stream",
     "text": [
      "\n",
      "Batch 14: time = 4.73\n",
      " 1.0019362017203355\n"
     ]
    },
    {
     "name": "stderr",
     "output_type": "stream",
     "text": [
      "C:\\Users\\khcho\\anaconda3\\lib\\site-packages\\botorch\\models\\utils\\assorted.py:173: InputDataWarning: Input data is not contained to the unit cube. Please consider min-max scaling the input data.\n",
      "  warnings.warn(msg, InputDataWarning)\n"
     ]
    },
    {
     "name": "stdout",
     "output_type": "stream",
     "text": [
      "\n",
      "Batch 15: time = 4.80\n",
      " 1.0022481365804705\n"
     ]
    },
    {
     "name": "stderr",
     "output_type": "stream",
     "text": [
      "C:\\Users\\khcho\\anaconda3\\lib\\site-packages\\botorch\\models\\utils\\assorted.py:173: InputDataWarning: Input data is not contained to the unit cube. Please consider min-max scaling the input data.\n",
      "  warnings.warn(msg, InputDataWarning)\n"
     ]
    },
    {
     "name": "stdout",
     "output_type": "stream",
     "text": [
      "\n",
      "Batch 16: time = 4.92\n",
      " 1.0026100628467791\n"
     ]
    },
    {
     "name": "stderr",
     "output_type": "stream",
     "text": [
      "C:\\Users\\khcho\\anaconda3\\lib\\site-packages\\botorch\\models\\utils\\assorted.py:173: InputDataWarning: Input data is not contained to the unit cube. Please consider min-max scaling the input data.\n",
      "  warnings.warn(msg, InputDataWarning)\n"
     ]
    },
    {
     "name": "stdout",
     "output_type": "stream",
     "text": [
      "\n",
      "Batch 17: time = 5.41\n",
      " 1.0030299007457921\n"
     ]
    },
    {
     "name": "stderr",
     "output_type": "stream",
     "text": [
      "C:\\Users\\khcho\\anaconda3\\lib\\site-packages\\botorch\\models\\utils\\assorted.py:173: InputDataWarning: Input data is not contained to the unit cube. Please consider min-max scaling the input data.\n",
      "  warnings.warn(msg, InputDataWarning)\n"
     ]
    },
    {
     "name": "stdout",
     "output_type": "stream",
     "text": [
      "\n",
      "Batch 18: time = 5.03\n",
      " 1.0035167935774976\n"
     ]
    },
    {
     "name": "stderr",
     "output_type": "stream",
     "text": [
      "C:\\Users\\khcho\\anaconda3\\lib\\site-packages\\botorch\\models\\utils\\assorted.py:173: InputDataWarning: Input data is not contained to the unit cube. Please consider min-max scaling the input data.\n",
      "  warnings.warn(msg, InputDataWarning)\n"
     ]
    },
    {
     "name": "stdout",
     "output_type": "stream",
     "text": [
      "\n",
      "Batch 19: time = 30.45\n",
      " 1.00408128557658\n"
     ]
    },
    {
     "name": "stderr",
     "output_type": "stream",
     "text": [
      "C:\\Users\\khcho\\anaconda3\\lib\\site-packages\\botorch\\models\\utils\\assorted.py:173: InputDataWarning: Input data is not contained to the unit cube. Please consider min-max scaling the input data.\n",
      "  warnings.warn(msg, InputDataWarning)\n"
     ]
    },
    {
     "name": "stdout",
     "output_type": "stream",
     "text": [
      "\n",
      "Batch 20: time = 4.84\n",
      " 1.004735521790973\n"
     ]
    },
    {
     "name": "stderr",
     "output_type": "stream",
     "text": [
      "C:\\Users\\khcho\\anaconda3\\lib\\site-packages\\botorch\\models\\utils\\assorted.py:173: InputDataWarning: Input data is not contained to the unit cube. Please consider min-max scaling the input data.\n",
      "  warnings.warn(msg, InputDataWarning)\n"
     ]
    },
    {
     "name": "stdout",
     "output_type": "stream",
     "text": [
      "\n",
      "Batch 21: time = 4.95\n",
      " 1.0054934713152965\n"
     ]
    },
    {
     "name": "stderr",
     "output_type": "stream",
     "text": [
      "C:\\Users\\khcho\\anaconda3\\lib\\site-packages\\botorch\\models\\utils\\assorted.py:173: InputDataWarning: Input data is not contained to the unit cube. Please consider min-max scaling the input data.\n",
      "  warnings.warn(msg, InputDataWarning)\n"
     ]
    },
    {
     "name": "stdout",
     "output_type": "stream",
     "text": [
      "\n",
      "Batch 22: time = 4.62\n",
      " 1.0063711747320558\n"
     ]
    },
    {
     "name": "stderr",
     "output_type": "stream",
     "text": [
      "C:\\Users\\khcho\\anaconda3\\lib\\site-packages\\botorch\\models\\utils\\assorted.py:173: InputDataWarning: Input data is not contained to the unit cube. Please consider min-max scaling the input data.\n",
      "  warnings.warn(msg, InputDataWarning)\n"
     ]
    },
    {
     "name": "stdout",
     "output_type": "stream",
     "text": [
      "\n",
      "Batch 23: time = 10.52\n",
      " 1.0073870158466365\n"
     ]
    },
    {
     "name": "stderr",
     "output_type": "stream",
     "text": [
      "C:\\Users\\khcho\\anaconda3\\lib\\site-packages\\botorch\\models\\utils\\assorted.py:173: InputDataWarning: Input data is not contained to the unit cube. Please consider min-max scaling the input data.\n",
      "  warnings.warn(msg, InputDataWarning)\n"
     ]
    },
    {
     "name": "stdout",
     "output_type": "stream",
     "text": [
      "\n",
      "Batch 24: time = 4.83\n",
      " 1.008562016657864\n"
     ]
    },
    {
     "name": "stderr",
     "output_type": "stream",
     "text": [
      "C:\\Users\\khcho\\anaconda3\\lib\\site-packages\\botorch\\models\\utils\\assorted.py:173: InputDataWarning: Input data is not contained to the unit cube. Please consider min-max scaling the input data.\n",
      "  warnings.warn(msg, InputDataWarning)\n"
     ]
    },
    {
     "name": "stdout",
     "output_type": "stream",
     "text": [
      "\n",
      "Batch 25: time = 22.81\n",
      " 1.0099201528670387\n"
     ]
    },
    {
     "name": "stderr",
     "output_type": "stream",
     "text": [
      "C:\\Users\\khcho\\anaconda3\\lib\\site-packages\\botorch\\models\\utils\\assorted.py:173: InputDataWarning: Input data is not contained to the unit cube. Please consider min-max scaling the input data.\n",
      "  warnings.warn(msg, InputDataWarning)\n"
     ]
    },
    {
     "name": "stdout",
     "output_type": "stream",
     "text": [
      "\n",
      "Batch 26: time = 30.23\n",
      " 1.0114886849550129\n"
     ]
    },
    {
     "name": "stderr",
     "output_type": "stream",
     "text": [
      "C:\\Users\\khcho\\anaconda3\\lib\\site-packages\\botorch\\models\\utils\\assorted.py:173: InputDataWarning: Input data is not contained to the unit cube. Please consider min-max scaling the input data.\n",
      "  warnings.warn(msg, InputDataWarning)\n"
     ]
    },
    {
     "name": "stdout",
     "output_type": "stream",
     "text": [
      "\n",
      "Batch 27: time = 5.17\n",
      " 1.0132984967884329\n"
     ]
    },
    {
     "name": "stderr",
     "output_type": "stream",
     "text": [
      "C:\\Users\\khcho\\anaconda3\\lib\\site-packages\\botorch\\models\\utils\\assorted.py:173: InputDataWarning: Input data is not contained to the unit cube. Please consider min-max scaling the input data.\n",
      "  warnings.warn(msg, InputDataWarning)\n"
     ]
    },
    {
     "name": "stdout",
     "output_type": "stream",
     "text": [
      "\n",
      "Batch 28: time = 5.59\n",
      " 1.0153844296785741\n"
     ]
    },
    {
     "name": "stderr",
     "output_type": "stream",
     "text": [
      "C:\\Users\\khcho\\anaconda3\\lib\\site-packages\\botorch\\models\\utils\\assorted.py:173: InputDataWarning: Input data is not contained to the unit cube. Please consider min-max scaling the input data.\n",
      "  warnings.warn(msg, InputDataWarning)\n"
     ]
    },
    {
     "name": "stdout",
     "output_type": "stream",
     "text": [
      "\n",
      "Batch 29: time = 28.48\n",
      " 1.0177855946363181\n"
     ]
    },
    {
     "name": "stderr",
     "output_type": "stream",
     "text": [
      "C:\\Users\\khcho\\anaconda3\\lib\\site-packages\\botorch\\models\\utils\\assorted.py:173: InputDataWarning: Input data is not contained to the unit cube. Please consider min-max scaling the input data.\n",
      "  warnings.warn(msg, InputDataWarning)\n"
     ]
    },
    {
     "name": "stdout",
     "output_type": "stream",
     "text": [
      "\n",
      "Batch 30: time = 4.70\n",
      " 1.0205456391002325\n"
     ]
    },
    {
     "name": "stderr",
     "output_type": "stream",
     "text": [
      "C:\\Users\\khcho\\anaconda3\\lib\\site-packages\\botorch\\models\\utils\\assorted.py:173: InputDataWarning: Input data is not contained to the unit cube. Please consider min-max scaling the input data.\n",
      "  warnings.warn(msg, InputDataWarning)\n"
     ]
    },
    {
     "name": "stdout",
     "output_type": "stream",
     "text": [
      "\n",
      "Batch 31: time = 4.55\n",
      " 1.0237129365887834\n"
     ]
    },
    {
     "name": "stderr",
     "output_type": "stream",
     "text": [
      "C:\\Users\\khcho\\anaconda3\\lib\\site-packages\\botorch\\models\\utils\\assorted.py:173: InputDataWarning: Input data is not contained to the unit cube. Please consider min-max scaling the input data.\n",
      "  warnings.warn(msg, InputDataWarning)\n"
     ]
    },
    {
     "name": "stdout",
     "output_type": "stream",
     "text": [
      "\n",
      "Batch 32: time = 4.97\n",
      " 1.0273406586079703\n"
     ]
    },
    {
     "name": "stderr",
     "output_type": "stream",
     "text": [
      "C:\\Users\\khcho\\anaconda3\\lib\\site-packages\\botorch\\models\\utils\\assorted.py:173: InputDataWarning: Input data is not contained to the unit cube. Please consider min-max scaling the input data.\n",
      "  warnings.warn(msg, InputDataWarning)\n"
     ]
    },
    {
     "name": "stdout",
     "output_type": "stream",
     "text": [
      "\n",
      "Batch 33: time = 4.56\n",
      " 1.0314866780284984\n"
     ]
    },
    {
     "name": "stderr",
     "output_type": "stream",
     "text": [
      "C:\\Users\\khcho\\anaconda3\\lib\\site-packages\\botorch\\models\\utils\\assorted.py:173: InputDataWarning: Input data is not contained to the unit cube. Please consider min-max scaling the input data.\n",
      "  warnings.warn(msg, InputDataWarning)\n"
     ]
    },
    {
     "name": "stdout",
     "output_type": "stream",
     "text": [
      "\n",
      "Batch 34: time = 4.72\n",
      " 1.0362132426807589\n"
     ]
    },
    {
     "name": "stderr",
     "output_type": "stream",
     "text": [
      "C:\\Users\\khcho\\anaconda3\\lib\\site-packages\\botorch\\models\\utils\\assorted.py:173: InputDataWarning: Input data is not contained to the unit cube. Please consider min-max scaling the input data.\n",
      "  warnings.warn(msg, InputDataWarning)\n"
     ]
    },
    {
     "name": "stdout",
     "output_type": "stream",
     "text": [
      "\n",
      "Batch 35: time = 25.75\n",
      " 1.0415863482469612\n"
     ]
    },
    {
     "name": "stderr",
     "output_type": "stream",
     "text": [
      "C:\\Users\\khcho\\anaconda3\\lib\\site-packages\\botorch\\models\\utils\\assorted.py:173: InputDataWarning: Input data is not contained to the unit cube. Please consider min-max scaling the input data.\n",
      "  warnings.warn(msg, InputDataWarning)\n"
     ]
    },
    {
     "name": "stdout",
     "output_type": "stream",
     "text": [
      "\n",
      "Batch 36: time = 4.84\n",
      " 1.0476747324495548\n"
     ]
    },
    {
     "name": "stderr",
     "output_type": "stream",
     "text": [
      "C:\\Users\\khcho\\anaconda3\\lib\\site-packages\\botorch\\models\\utils\\assorted.py:173: InputDataWarning: Input data is not contained to the unit cube. Please consider min-max scaling the input data.\n",
      "  warnings.warn(msg, InputDataWarning)\n"
     ]
    },
    {
     "name": "stdout",
     "output_type": "stream",
     "text": [
      "\n",
      "Batch 37: time = 26.08\n",
      " 1.0545484105978065\n"
     ]
    },
    {
     "name": "stderr",
     "output_type": "stream",
     "text": [
      "C:\\Users\\khcho\\anaconda3\\lib\\site-packages\\botorch\\models\\utils\\assorted.py:173: InputDataWarning: Input data is not contained to the unit cube. Please consider min-max scaling the input data.\n",
      "  warnings.warn(msg, InputDataWarning)\n"
     ]
    },
    {
     "name": "stdout",
     "output_type": "stream",
     "text": [
      "\n",
      "Batch 38: time = 28.14\n",
      " 1.0622766790937082\n"
     ]
    },
    {
     "name": "stderr",
     "output_type": "stream",
     "text": [
      "C:\\Users\\khcho\\anaconda3\\lib\\site-packages\\botorch\\models\\utils\\assorted.py:173: InputDataWarning: Input data is not contained to the unit cube. Please consider min-max scaling the input data.\n",
      "  warnings.warn(msg, InputDataWarning)\n"
     ]
    },
    {
     "name": "stdout",
     "output_type": "stream",
     "text": [
      "\n",
      "Batch 39: time = 5.30\n",
      " 1.0709255324502438\n"
     ]
    },
    {
     "name": "stderr",
     "output_type": "stream",
     "text": [
      "C:\\Users\\khcho\\anaconda3\\lib\\site-packages\\botorch\\models\\utils\\assorted.py:173: InputDataWarning: Input data is not contained to the unit cube. Please consider min-max scaling the input data.\n",
      "  warnings.warn(msg, InputDataWarning)\n"
     ]
    },
    {
     "name": "stdout",
     "output_type": "stream",
     "text": [
      "\n",
      "Batch 40: time = 5.58\n",
      " 1.0805544747882927\n"
     ]
    },
    {
     "name": "stderr",
     "output_type": "stream",
     "text": [
      "C:\\Users\\khcho\\anaconda3\\lib\\site-packages\\botorch\\models\\utils\\assorted.py:173: InputDataWarning: Input data is not contained to the unit cube. Please consider min-max scaling the input data.\n",
      "  warnings.warn(msg, InputDataWarning)\n"
     ]
    },
    {
     "name": "stdout",
     "output_type": "stream",
     "text": [
      "\n",
      "Batch 41: time = 4.84\n",
      " 1.0912127619031782\n"
     ]
    },
    {
     "name": "stderr",
     "output_type": "stream",
     "text": [
      "C:\\Users\\khcho\\anaconda3\\lib\\site-packages\\botorch\\models\\utils\\assorted.py:173: InputDataWarning: Input data is not contained to the unit cube. Please consider min-max scaling the input data.\n",
      "  warnings.warn(msg, InputDataWarning)\n"
     ]
    },
    {
     "name": "stdout",
     "output_type": "stream",
     "text": [
      "\n",
      "Batch 42: time = 5.51\n",
      " 1.1029351859004737\n"
     ]
    },
    {
     "name": "stderr",
     "output_type": "stream",
     "text": [
      "C:\\Users\\khcho\\anaconda3\\lib\\site-packages\\botorch\\models\\utils\\assorted.py:173: InputDataWarning: Input data is not contained to the unit cube. Please consider min-max scaling the input data.\n",
      "  warnings.warn(msg, InputDataWarning)\n"
     ]
    },
    {
     "name": "stdout",
     "output_type": "stream",
     "text": [
      "\n",
      "Batch 43: time = 5.11\n",
      " 1.1157376082504913\n"
     ]
    },
    {
     "name": "stderr",
     "output_type": "stream",
     "text": [
      "C:\\Users\\khcho\\anaconda3\\lib\\site-packages\\botorch\\models\\utils\\assorted.py:173: InputDataWarning: Input data is not contained to the unit cube. Please consider min-max scaling the input data.\n",
      "  warnings.warn(msg, InputDataWarning)\n"
     ]
    },
    {
     "name": "stdout",
     "output_type": "stream",
     "text": [
      "\n",
      "Batch 44: time = 5.17\n",
      " 1.129612550408923\n"
     ]
    },
    {
     "name": "stderr",
     "output_type": "stream",
     "text": [
      "C:\\Users\\khcho\\anaconda3\\lib\\site-packages\\botorch\\models\\utils\\assorted.py:173: InputDataWarning: Input data is not contained to the unit cube. Please consider min-max scaling the input data.\n",
      "  warnings.warn(msg, InputDataWarning)\n"
     ]
    },
    {
     "name": "stdout",
     "output_type": "stream",
     "text": [
      "\n",
      "Batch 45: time = 5.31\n",
      " 1.144525248687498\n"
     ]
    },
    {
     "name": "stderr",
     "output_type": "stream",
     "text": [
      "C:\\Users\\khcho\\anaconda3\\lib\\site-packages\\botorch\\models\\utils\\assorted.py:173: InputDataWarning: Input data is not contained to the unit cube. Please consider min-max scaling the input data.\n",
      "  warnings.warn(msg, InputDataWarning)\n"
     ]
    },
    {
     "name": "stdout",
     "output_type": "stream",
     "text": [
      "\n",
      "Batch 46: time = 5.34\n",
      " 1.1604106504123035\n"
     ]
    },
    {
     "name": "stderr",
     "output_type": "stream",
     "text": [
      "C:\\Users\\khcho\\anaconda3\\lib\\site-packages\\botorch\\models\\utils\\assorted.py:173: InputDataWarning: Input data is not contained to the unit cube. Please consider min-max scaling the input data.\n",
      "  warnings.warn(msg, InputDataWarning)\n"
     ]
    },
    {
     "name": "stdout",
     "output_type": "stream",
     "text": [
      "\n",
      "Batch 47: time = 5.34\n",
      " 1.1771718468871022\n"
     ]
    },
    {
     "name": "stderr",
     "output_type": "stream",
     "text": [
      "C:\\Users\\khcho\\anaconda3\\lib\\site-packages\\botorch\\models\\utils\\assorted.py:173: InputDataWarning: Input data is not contained to the unit cube. Please consider min-max scaling the input data.\n",
      "  warnings.warn(msg, InputDataWarning)\n"
     ]
    },
    {
     "name": "stdout",
     "output_type": "stream",
     "text": [
      "\n",
      "Batch 48: time = 23.69\n",
      " 1.194680383025389\n"
     ]
    },
    {
     "name": "stderr",
     "output_type": "stream",
     "text": [
      "C:\\Users\\khcho\\anaconda3\\lib\\site-packages\\botorch\\models\\utils\\assorted.py:173: InputDataWarning: Input data is not contained to the unit cube. Please consider min-max scaling the input data.\n",
      "  warnings.warn(msg, InputDataWarning)\n"
     ]
    },
    {
     "name": "stdout",
     "output_type": "stream",
     "text": [
      "\n",
      "Batch 49: time = 5.16\n",
      " 1.2127787415941704\n"
     ]
    },
    {
     "name": "stderr",
     "output_type": "stream",
     "text": [
      "C:\\Users\\khcho\\anaconda3\\lib\\site-packages\\botorch\\models\\utils\\assorted.py:173: InputDataWarning: Input data is not contained to the unit cube. Please consider min-max scaling the input data.\n",
      "  warnings.warn(msg, InputDataWarning)\n"
     ]
    },
    {
     "name": "stdout",
     "output_type": "stream",
     "text": [
      "\n",
      "Batch 50: time = 5.59\n",
      " 1.2312850773281252\n"
     ]
    },
    {
     "name": "stderr",
     "output_type": "stream",
     "text": [
      "C:\\Users\\khcho\\anaconda3\\lib\\site-packages\\botorch\\models\\utils\\assorted.py:173: InputDataWarning: Input data is not contained to the unit cube. Please consider min-max scaling the input data.\n",
      "  warnings.warn(msg, InputDataWarning)\n"
     ]
    },
    {
     "name": "stdout",
     "output_type": "stream",
     "text": [
      "\n",
      "Batch 51: time = 5.02\n",
      " 1.25\n"
     ]
    },
    {
     "name": "stderr",
     "output_type": "stream",
     "text": [
      "C:\\Users\\khcho\\anaconda3\\lib\\site-packages\\botorch\\models\\utils\\assorted.py:173: InputDataWarning: Input data is not contained to the unit cube. Please consider min-max scaling the input data.\n",
      "  warnings.warn(msg, InputDataWarning)\n"
     ]
    },
    {
     "name": "stdout",
     "output_type": "stream",
     "text": [
      "\n",
      "Batch 52: time = 5.31\n",
      " 1.2687149226718748\n"
     ]
    },
    {
     "name": "stderr",
     "output_type": "stream",
     "text": [
      "C:\\Users\\khcho\\anaconda3\\lib\\site-packages\\botorch\\models\\utils\\assorted.py:173: InputDataWarning: Input data is not contained to the unit cube. Please consider min-max scaling the input data.\n",
      "  warnings.warn(msg, InputDataWarning)\n"
     ]
    },
    {
     "name": "stdout",
     "output_type": "stream",
     "text": [
      "\n",
      "Batch 53: time = 4.83\n",
      " 1.2872212584058296\n"
     ]
    },
    {
     "name": "stderr",
     "output_type": "stream",
     "text": [
      "C:\\Users\\khcho\\anaconda3\\lib\\site-packages\\botorch\\models\\utils\\assorted.py:173: InputDataWarning: Input data is not contained to the unit cube. Please consider min-max scaling the input data.\n",
      "  warnings.warn(msg, InputDataWarning)\n"
     ]
    },
    {
     "name": "stdout",
     "output_type": "stream",
     "text": [
      "\n",
      "Batch 54: time = 4.83\n",
      " 1.305319616974611\n"
     ]
    },
    {
     "name": "stderr",
     "output_type": "stream",
     "text": [
      "C:\\Users\\khcho\\anaconda3\\lib\\site-packages\\botorch\\models\\utils\\assorted.py:173: InputDataWarning: Input data is not contained to the unit cube. Please consider min-max scaling the input data.\n",
      "  warnings.warn(msg, InputDataWarning)\n"
     ]
    },
    {
     "name": "stdout",
     "output_type": "stream",
     "text": [
      "\n",
      "Batch 55: time = 4.83\n",
      " 1.3228281531128978\n"
     ]
    },
    {
     "name": "stderr",
     "output_type": "stream",
     "text": [
      "C:\\Users\\khcho\\anaconda3\\lib\\site-packages\\botorch\\models\\utils\\assorted.py:173: InputDataWarning: Input data is not contained to the unit cube. Please consider min-max scaling the input data.\n",
      "  warnings.warn(msg, InputDataWarning)\n"
     ]
    },
    {
     "name": "stdout",
     "output_type": "stream",
     "text": [
      "\n",
      "Batch 56: time = 4.88\n",
      " 1.3395893495876965\n"
     ]
    },
    {
     "name": "stderr",
     "output_type": "stream",
     "text": [
      "C:\\Users\\khcho\\anaconda3\\lib\\site-packages\\botorch\\models\\utils\\assorted.py:173: InputDataWarning: Input data is not contained to the unit cube. Please consider min-max scaling the input data.\n",
      "  warnings.warn(msg, InputDataWarning)\n"
     ]
    },
    {
     "name": "stdout",
     "output_type": "stream",
     "text": [
      "\n",
      "Batch 57: time = 4.86\n",
      " 1.355474751312502\n"
     ]
    },
    {
     "name": "stderr",
     "output_type": "stream",
     "text": [
      "C:\\Users\\khcho\\anaconda3\\lib\\site-packages\\botorch\\models\\utils\\assorted.py:173: InputDataWarning: Input data is not contained to the unit cube. Please consider min-max scaling the input data.\n",
      "  warnings.warn(msg, InputDataWarning)\n"
     ]
    },
    {
     "name": "stdout",
     "output_type": "stream",
     "text": [
      "\n",
      "Batch 58: time = 4.75\n",
      " 1.370387449591077\n"
     ]
    },
    {
     "name": "stderr",
     "output_type": "stream",
     "text": [
      "C:\\Users\\khcho\\anaconda3\\lib\\site-packages\\botorch\\models\\utils\\assorted.py:173: InputDataWarning: Input data is not contained to the unit cube. Please consider min-max scaling the input data.\n",
      "  warnings.warn(msg, InputDataWarning)\n"
     ]
    },
    {
     "name": "stdout",
     "output_type": "stream",
     "text": [
      "\n",
      "Batch 59: time = 5.12\n",
      " 1.3842623917495087\n"
     ]
    },
    {
     "name": "stderr",
     "output_type": "stream",
     "text": [
      "C:\\Users\\khcho\\anaconda3\\lib\\site-packages\\botorch\\models\\utils\\assorted.py:173: InputDataWarning: Input data is not contained to the unit cube. Please consider min-max scaling the input data.\n",
      "  warnings.warn(msg, InputDataWarning)\n"
     ]
    },
    {
     "name": "stdout",
     "output_type": "stream",
     "text": [
      "\n",
      "Batch 60: time = 5.20\n",
      " 1.3970648140995263\n"
     ]
    },
    {
     "name": "stderr",
     "output_type": "stream",
     "text": [
      "C:\\Users\\khcho\\anaconda3\\lib\\site-packages\\botorch\\models\\utils\\assorted.py:173: InputDataWarning: Input data is not contained to the unit cube. Please consider min-max scaling the input data.\n",
      "  warnings.warn(msg, InputDataWarning)\n"
     ]
    },
    {
     "name": "stdout",
     "output_type": "stream",
     "text": [
      "\n",
      "Batch 61: time = 4.97\n",
      " 1.4087872380968218\n"
     ]
    },
    {
     "name": "stderr",
     "output_type": "stream",
     "text": [
      "C:\\Users\\khcho\\anaconda3\\lib\\site-packages\\botorch\\models\\utils\\assorted.py:173: InputDataWarning: Input data is not contained to the unit cube. Please consider min-max scaling the input data.\n",
      "  warnings.warn(msg, InputDataWarning)\n"
     ]
    },
    {
     "name": "stdout",
     "output_type": "stream",
     "text": [
      "\n",
      "Batch 62: time = 4.86\n",
      " 1.4194455252117073\n"
     ]
    },
    {
     "name": "stderr",
     "output_type": "stream",
     "text": [
      "C:\\Users\\khcho\\anaconda3\\lib\\site-packages\\botorch\\models\\utils\\assorted.py:173: InputDataWarning: Input data is not contained to the unit cube. Please consider min-max scaling the input data.\n",
      "  warnings.warn(msg, InputDataWarning)\n"
     ]
    },
    {
     "name": "stdout",
     "output_type": "stream",
     "text": [
      "\n",
      "Batch 63: time = 4.88\n",
      " 1.4290744675497562\n"
     ]
    },
    {
     "name": "stderr",
     "output_type": "stream",
     "text": [
      "C:\\Users\\khcho\\anaconda3\\lib\\site-packages\\botorch\\models\\utils\\assorted.py:173: InputDataWarning: Input data is not contained to the unit cube. Please consider min-max scaling the input data.\n",
      "  warnings.warn(msg, InputDataWarning)\n"
     ]
    },
    {
     "name": "stdout",
     "output_type": "stream",
     "text": [
      "\n",
      "Batch 64: time = 5.11\n",
      " 1.4377233209062918\n"
     ]
    },
    {
     "name": "stderr",
     "output_type": "stream",
     "text": [
      "C:\\Users\\khcho\\anaconda3\\lib\\site-packages\\botorch\\models\\utils\\assorted.py:173: InputDataWarning: Input data is not contained to the unit cube. Please consider min-max scaling the input data.\n",
      "  warnings.warn(msg, InputDataWarning)\n"
     ]
    },
    {
     "name": "stdout",
     "output_type": "stream",
     "text": [
      "\n",
      "Batch 65: time = 4.83\n",
      " 1.4454515894021935\n"
     ]
    },
    {
     "name": "stderr",
     "output_type": "stream",
     "text": [
      "C:\\Users\\khcho\\anaconda3\\lib\\site-packages\\botorch\\models\\utils\\assorted.py:173: InputDataWarning: Input data is not contained to the unit cube. Please consider min-max scaling the input data.\n",
      "  warnings.warn(msg, InputDataWarning)\n"
     ]
    },
    {
     "name": "stdout",
     "output_type": "stream",
     "text": [
      "\n",
      "Batch 66: time = 83.83\n",
      " 1.4523252675504452\n"
     ]
    },
    {
     "name": "stderr",
     "output_type": "stream",
     "text": [
      "C:\\Users\\khcho\\anaconda3\\lib\\site-packages\\botorch\\models\\utils\\assorted.py:173: InputDataWarning: Input data is not contained to the unit cube. Please consider min-max scaling the input data.\n",
      "  warnings.warn(msg, InputDataWarning)\n"
     ]
    },
    {
     "name": "stdout",
     "output_type": "stream",
     "text": [
      "\n",
      "Batch 67: time = 4.98\n",
      " 1.4584136517530388\n"
     ]
    },
    {
     "name": "stderr",
     "output_type": "stream",
     "text": [
      "C:\\Users\\khcho\\anaconda3\\lib\\site-packages\\botorch\\models\\utils\\assorted.py:173: InputDataWarning: Input data is not contained to the unit cube. Please consider min-max scaling the input data.\n",
      "  warnings.warn(msg, InputDataWarning)\n"
     ]
    },
    {
     "name": "stdout",
     "output_type": "stream",
     "text": [
      "\n",
      "Batch 68: time = 4.89\n",
      " 1.4637867573192411\n"
     ]
    },
    {
     "name": "stderr",
     "output_type": "stream",
     "text": [
      "C:\\Users\\khcho\\anaconda3\\lib\\site-packages\\botorch\\models\\utils\\assorted.py:173: InputDataWarning: Input data is not contained to the unit cube. Please consider min-max scaling the input data.\n",
      "  warnings.warn(msg, InputDataWarning)\n"
     ]
    },
    {
     "name": "stdout",
     "output_type": "stream",
     "text": [
      "\n",
      "Batch 69: time = 5.06\n",
      " 1.4685133219715016\n"
     ]
    },
    {
     "name": "stderr",
     "output_type": "stream",
     "text": [
      "C:\\Users\\khcho\\anaconda3\\lib\\site-packages\\botorch\\models\\utils\\assorted.py:173: InputDataWarning: Input data is not contained to the unit cube. Please consider min-max scaling the input data.\n",
      "  warnings.warn(msg, InputDataWarning)\n"
     ]
    },
    {
     "name": "stdout",
     "output_type": "stream",
     "text": [
      "\n",
      "Batch 70: time = 4.58\n",
      " 1.4726593413920295\n"
     ]
    },
    {
     "name": "stderr",
     "output_type": "stream",
     "text": [
      "C:\\Users\\khcho\\anaconda3\\lib\\site-packages\\botorch\\models\\utils\\assorted.py:173: InputDataWarning: Input data is not contained to the unit cube. Please consider min-max scaling the input data.\n",
      "  warnings.warn(msg, InputDataWarning)\n"
     ]
    },
    {
     "name": "stdout",
     "output_type": "stream",
     "text": [
      "\n",
      "Batch 71: time = 4.86\n",
      " 1.4762870634112166\n"
     ]
    },
    {
     "name": "stderr",
     "output_type": "stream",
     "text": [
      "C:\\Users\\khcho\\anaconda3\\lib\\site-packages\\botorch\\models\\utils\\assorted.py:173: InputDataWarning: Input data is not contained to the unit cube. Please consider min-max scaling the input data.\n",
      "  warnings.warn(msg, InputDataWarning)\n"
     ]
    },
    {
     "name": "stdout",
     "output_type": "stream",
     "text": [
      "\n",
      "Batch 72: time = 5.11\n",
      " 1.4794543608997675\n"
     ]
    },
    {
     "name": "stderr",
     "output_type": "stream",
     "text": [
      "C:\\Users\\khcho\\anaconda3\\lib\\site-packages\\botorch\\models\\utils\\assorted.py:173: InputDataWarning: Input data is not contained to the unit cube. Please consider min-max scaling the input data.\n",
      "  warnings.warn(msg, InputDataWarning)\n"
     ]
    },
    {
     "name": "stdout",
     "output_type": "stream",
     "text": [
      "\n",
      "Batch 73: time = 5.05\n",
      " 1.4822144053636819\n",
      "\n",
      "Batch 74: time = 5.03\n",
      " 1.4846155703214259\n"
     ]
    },
    {
     "name": "stderr",
     "output_type": "stream",
     "text": [
      "C:\\Users\\khcho\\anaconda3\\lib\\site-packages\\botorch\\models\\utils\\assorted.py:173: InputDataWarning: Input data is not contained to the unit cube. Please consider min-max scaling the input data.\n",
      "  warnings.warn(msg, InputDataWarning)\n",
      "C:\\Users\\khcho\\anaconda3\\lib\\site-packages\\botorch\\models\\utils\\assorted.py:173: InputDataWarning: Input data is not contained to the unit cube. Please consider min-max scaling the input data.\n",
      "  warnings.warn(msg, InputDataWarning)\n"
     ]
    },
    {
     "name": "stdout",
     "output_type": "stream",
     "text": [
      "\n",
      "Batch 75: time = 5.25\n",
      " 1.4867015032115671\n"
     ]
    },
    {
     "name": "stderr",
     "output_type": "stream",
     "text": [
      "C:\\Users\\khcho\\anaconda3\\lib\\site-packages\\botorch\\models\\utils\\assorted.py:173: InputDataWarning: Input data is not contained to the unit cube. Please consider min-max scaling the input data.\n",
      "  warnings.warn(msg, InputDataWarning)\n"
     ]
    },
    {
     "name": "stdout",
     "output_type": "stream",
     "text": [
      "\n",
      "Batch 76: time = 5.36\n",
      " 1.4885113150449871\n"
     ]
    },
    {
     "name": "stderr",
     "output_type": "stream",
     "text": [
      "C:\\Users\\khcho\\anaconda3\\lib\\site-packages\\botorch\\models\\utils\\assorted.py:173: InputDataWarning: Input data is not contained to the unit cube. Please consider min-max scaling the input data.\n",
      "  warnings.warn(msg, InputDataWarning)\n"
     ]
    },
    {
     "name": "stdout",
     "output_type": "stream",
     "text": [
      "\n",
      "Batch 77: time = 5.01\n",
      " 1.4900798471329613\n"
     ]
    },
    {
     "name": "stderr",
     "output_type": "stream",
     "text": [
      "C:\\Users\\khcho\\anaconda3\\lib\\site-packages\\botorch\\models\\utils\\assorted.py:173: InputDataWarning: Input data is not contained to the unit cube. Please consider min-max scaling the input data.\n",
      "  warnings.warn(msg, InputDataWarning)\n"
     ]
    },
    {
     "name": "stdout",
     "output_type": "stream",
     "text": [
      "\n",
      "Batch 78: time = 169.78\n",
      " 1.491437983342136\n"
     ]
    },
    {
     "name": "stderr",
     "output_type": "stream",
     "text": [
      "C:\\Users\\khcho\\anaconda3\\lib\\site-packages\\botorch\\models\\utils\\assorted.py:173: InputDataWarning: Input data is not contained to the unit cube. Please consider min-max scaling the input data.\n",
      "  warnings.warn(msg, InputDataWarning)\n"
     ]
    },
    {
     "name": "stdout",
     "output_type": "stream",
     "text": [
      "\n",
      "Batch 79: time = 4.62\n",
      " 1.4926129841533635\n"
     ]
    },
    {
     "name": "stderr",
     "output_type": "stream",
     "text": [
      "C:\\Users\\khcho\\anaconda3\\lib\\site-packages\\botorch\\models\\utils\\assorted.py:173: InputDataWarning: Input data is not contained to the unit cube. Please consider min-max scaling the input data.\n",
      "  warnings.warn(msg, InputDataWarning)\n"
     ]
    },
    {
     "name": "stdout",
     "output_type": "stream",
     "text": [
      "\n",
      "Batch 80: time = 5.16\n",
      " 1.4936288252679442\n"
     ]
    },
    {
     "name": "stderr",
     "output_type": "stream",
     "text": [
      "C:\\Users\\khcho\\anaconda3\\lib\\site-packages\\botorch\\models\\utils\\assorted.py:173: InputDataWarning: Input data is not contained to the unit cube. Please consider min-max scaling the input data.\n",
      "  warnings.warn(msg, InputDataWarning)\n"
     ]
    },
    {
     "name": "stdout",
     "output_type": "stream",
     "text": [
      "\n",
      "Batch 81: time = 4.92\n",
      " 1.4945065286847035\n"
     ]
    },
    {
     "name": "stderr",
     "output_type": "stream",
     "text": [
      "C:\\Users\\khcho\\anaconda3\\lib\\site-packages\\botorch\\models\\utils\\assorted.py:173: InputDataWarning: Input data is not contained to the unit cube. Please consider min-max scaling the input data.\n",
      "  warnings.warn(msg, InputDataWarning)\n"
     ]
    },
    {
     "name": "stdout",
     "output_type": "stream",
     "text": [
      "\n",
      "Batch 82: time = 4.75\n",
      " 1.495264478209027\n"
     ]
    },
    {
     "name": "stderr",
     "output_type": "stream",
     "text": [
      "C:\\Users\\khcho\\anaconda3\\lib\\site-packages\\botorch\\models\\utils\\assorted.py:173: InputDataWarning: Input data is not contained to the unit cube. Please consider min-max scaling the input data.\n",
      "  warnings.warn(msg, InputDataWarning)\n"
     ]
    },
    {
     "name": "stdout",
     "output_type": "stream",
     "text": [
      "\n",
      "Batch 83: time = 4.84\n",
      " 1.49591871442342\n"
     ]
    },
    {
     "name": "stderr",
     "output_type": "stream",
     "text": [
      "C:\\Users\\khcho\\anaconda3\\lib\\site-packages\\botorch\\models\\utils\\assorted.py:173: InputDataWarning: Input data is not contained to the unit cube. Please consider min-max scaling the input data.\n",
      "  warnings.warn(msg, InputDataWarning)\n"
     ]
    },
    {
     "name": "stdout",
     "output_type": "stream",
     "text": [
      "\n",
      "Batch 84: time = 89.44\n",
      " 1.4964832064225024\n"
     ]
    },
    {
     "name": "stderr",
     "output_type": "stream",
     "text": [
      "C:\\Users\\khcho\\anaconda3\\lib\\site-packages\\botorch\\models\\utils\\assorted.py:173: InputDataWarning: Input data is not contained to the unit cube. Please consider min-max scaling the input data.\n",
      "  warnings.warn(msg, InputDataWarning)\n"
     ]
    },
    {
     "name": "stdout",
     "output_type": "stream",
     "text": [
      "\n",
      "Batch 85: time = 5.23\n",
      " 1.4969700992542079\n"
     ]
    },
    {
     "name": "stderr",
     "output_type": "stream",
     "text": [
      "C:\\Users\\khcho\\anaconda3\\lib\\site-packages\\botorch\\models\\utils\\assorted.py:173: InputDataWarning: Input data is not contained to the unit cube. Please consider min-max scaling the input data.\n",
      "  warnings.warn(msg, InputDataWarning)\n"
     ]
    },
    {
     "name": "stdout",
     "output_type": "stream",
     "text": [
      "\n",
      "Batch 86: time = 5.22\n",
      " 1.4973899371532209\n"
     ]
    },
    {
     "name": "stderr",
     "output_type": "stream",
     "text": [
      "C:\\Users\\khcho\\anaconda3\\lib\\site-packages\\botorch\\models\\utils\\assorted.py:173: InputDataWarning: Input data is not contained to the unit cube. Please consider min-max scaling the input data.\n",
      "  warnings.warn(msg, InputDataWarning)\n"
     ]
    },
    {
     "name": "stdout",
     "output_type": "stream",
     "text": [
      "\n",
      "Batch 87: time = 5.16\n",
      " 1.4977518634195295\n"
     ]
    },
    {
     "name": "stderr",
     "output_type": "stream",
     "text": [
      "C:\\Users\\khcho\\anaconda3\\lib\\site-packages\\botorch\\models\\utils\\assorted.py:173: InputDataWarning: Input data is not contained to the unit cube. Please consider min-max scaling the input data.\n",
      "  warnings.warn(msg, InputDataWarning)\n"
     ]
    },
    {
     "name": "stdout",
     "output_type": "stream",
     "text": [
      "\n",
      "Batch 88: time = 4.98\n",
      " 1.4980637982796645\n"
     ]
    },
    {
     "name": "stderr",
     "output_type": "stream",
     "text": [
      "C:\\Users\\khcho\\anaconda3\\lib\\site-packages\\botorch\\models\\utils\\assorted.py:173: InputDataWarning: Input data is not contained to the unit cube. Please consider min-max scaling the input data.\n",
      "  warnings.warn(msg, InputDataWarning)\n"
     ]
    },
    {
     "name": "stdout",
     "output_type": "stream",
     "text": [
      "\n",
      "Batch 89: time = 5.59\n",
      " 1.4983325963462932\n"
     ]
    },
    {
     "name": "stderr",
     "output_type": "stream",
     "text": [
      "C:\\Users\\khcho\\anaconda3\\lib\\site-packages\\botorch\\models\\utils\\assorted.py:173: InputDataWarning: Input data is not contained to the unit cube. Please consider min-max scaling the input data.\n",
      "  warnings.warn(msg, InputDataWarning)\n"
     ]
    },
    {
     "name": "stdout",
     "output_type": "stream",
     "text": [
      "\n",
      "Batch 90: time = 5.19\n",
      " 1.4985641854221496\n"
     ]
    },
    {
     "name": "stderr",
     "output_type": "stream",
     "text": [
      "C:\\Users\\khcho\\anaconda3\\lib\\site-packages\\botorch\\models\\utils\\assorted.py:173: InputDataWarning: Input data is not contained to the unit cube. Please consider min-max scaling the input data.\n",
      "  warnings.warn(msg, InputDataWarning)\n"
     ]
    },
    {
     "name": "stdout",
     "output_type": "stream",
     "text": [
      "\n",
      "Batch 91: time = 4.95\n",
      " 1.4987636884216826\n"
     ]
    },
    {
     "name": "stderr",
     "output_type": "stream",
     "text": [
      "C:\\Users\\khcho\\anaconda3\\lib\\site-packages\\botorch\\models\\utils\\assorted.py:173: InputDataWarning: Input data is not contained to the unit cube. Please consider min-max scaling the input data.\n",
      "  warnings.warn(msg, InputDataWarning)\n"
     ]
    },
    {
     "name": "stdout",
     "output_type": "stream",
     "text": [
      "\n",
      "Batch 92: time = 5.61\n",
      " 1.4989355301420177\n"
     ]
    },
    {
     "name": "stderr",
     "output_type": "stream",
     "text": [
      "C:\\Users\\khcho\\anaconda3\\lib\\site-packages\\botorch\\models\\utils\\assorted.py:173: InputDataWarning: Input data is not contained to the unit cube. Please consider min-max scaling the input data.\n",
      "  warnings.warn(msg, InputDataWarning)\n"
     ]
    },
    {
     "name": "stdout",
     "output_type": "stream",
     "text": [
      "\n",
      "Batch 93: time = 5.05\n",
      " 1.4990835305287535\n"
     ]
    },
    {
     "name": "stderr",
     "output_type": "stream",
     "text": [
      "C:\\Users\\khcho\\anaconda3\\lib\\site-packages\\botorch\\models\\utils\\assorted.py:173: InputDataWarning: Input data is not contained to the unit cube. Please consider min-max scaling the input data.\n",
      "  warnings.warn(msg, InputDataWarning)\n"
     ]
    },
    {
     "name": "stdout",
     "output_type": "stream",
     "text": [
      "\n",
      "Batch 94: time = 5.08\n",
      " 1.499210985969798\n"
     ]
    },
    {
     "name": "stderr",
     "output_type": "stream",
     "text": [
      "C:\\Users\\khcho\\anaconda3\\lib\\site-packages\\botorch\\models\\utils\\assorted.py:173: InputDataWarning: Input data is not contained to the unit cube. Please consider min-max scaling the input data.\n",
      "  warnings.warn(msg, InputDataWarning)\n"
     ]
    },
    {
     "name": "stdout",
     "output_type": "stream",
     "text": [
      "\n",
      "Batch 95: time = 5.24\n",
      " 1.4993207400247854\n"
     ]
    },
    {
     "name": "stderr",
     "output_type": "stream",
     "text": [
      "C:\\Users\\khcho\\anaconda3\\lib\\site-packages\\botorch\\models\\utils\\assorted.py:173: InputDataWarning: Input data is not contained to the unit cube. Please consider min-max scaling the input data.\n",
      "  warnings.warn(msg, InputDataWarning)\n"
     ]
    },
    {
     "name": "stdout",
     "output_type": "stream",
     "text": [
      "\n",
      "Batch 96: time = 5.38\n",
      " 1.4994152448674722\n"
     ]
    },
    {
     "name": "stderr",
     "output_type": "stream",
     "text": [
      "C:\\Users\\khcho\\anaconda3\\lib\\site-packages\\botorch\\models\\utils\\assorted.py:173: InputDataWarning: Input data is not contained to the unit cube. Please consider min-max scaling the input data.\n",
      "  warnings.warn(msg, InputDataWarning)\n"
     ]
    },
    {
     "name": "stdout",
     "output_type": "stream",
     "text": [
      "\n",
      "Batch 97: time = 5.01\n",
      " 1.4994966145899573\n"
     ]
    },
    {
     "name": "stderr",
     "output_type": "stream",
     "text": [
      "C:\\Users\\khcho\\anaconda3\\lib\\site-packages\\botorch\\models\\utils\\assorted.py:173: InputDataWarning: Input data is not contained to the unit cube. Please consider min-max scaling the input data.\n",
      "  warnings.warn(msg, InputDataWarning)\n"
     ]
    },
    {
     "name": "stdout",
     "output_type": "stream",
     "text": [
      "\n",
      "Batch 98: time = 5.22\n",
      " 1.4995666713944604\n"
     ]
    },
    {
     "name": "stderr",
     "output_type": "stream",
     "text": [
      "C:\\Users\\khcho\\anaconda3\\lib\\site-packages\\botorch\\models\\utils\\assorted.py:173: InputDataWarning: Input data is not contained to the unit cube. Please consider min-max scaling the input data.\n",
      "  warnings.warn(msg, InputDataWarning)\n"
     ]
    },
    {
     "name": "stdout",
     "output_type": "stream",
     "text": [
      "\n",
      "Batch 99: time = 5.31\n",
      " 1.4996269855830817\n"
     ]
    },
    {
     "name": "stderr",
     "output_type": "stream",
     "text": [
      "C:\\Users\\khcho\\anaconda3\\lib\\site-packages\\botorch\\models\\utils\\assorted.py:173: InputDataWarning: Input data is not contained to the unit cube. Please consider min-max scaling the input data.\n",
      "  warnings.warn(msg, InputDataWarning)\n"
     ]
    },
    {
     "name": "stdout",
     "output_type": "stream",
     "text": [
      "\n",
      "Batch 100: time = 90.11\n",
      " 1.0002763893184619\n",
      "\n",
      "Batch  2: time = 32.99\n",
      " 1.000321089850293\n"
     ]
    },
    {
     "name": "stderr",
     "output_type": "stream",
     "text": [
      "C:\\Users\\khcho\\anaconda3\\lib\\site-packages\\botorch\\models\\utils\\assorted.py:173: InputDataWarning: Input data is not contained to the unit cube. Please consider min-max scaling the input data.\n",
      "  warnings.warn(msg, InputDataWarning)\n"
     ]
    },
    {
     "name": "stdout",
     "output_type": "stream",
     "text": [
      "\n",
      "Batch  3: time = 7.70\n",
      " 1.0003730144169183\n"
     ]
    },
    {
     "name": "stderr",
     "output_type": "stream",
     "text": [
      "C:\\Users\\khcho\\anaconda3\\lib\\site-packages\\botorch\\models\\utils\\assorted.py:173: InputDataWarning: Input data is not contained to the unit cube. Please consider min-max scaling the input data.\n",
      "  warnings.warn(msg, InputDataWarning)\n"
     ]
    },
    {
     "name": "stdout",
     "output_type": "stream",
     "text": [
      "\n",
      "Batch  4: time = 7.05\n",
      " 1.0004333286055396\n"
     ]
    },
    {
     "name": "stderr",
     "output_type": "stream",
     "text": [
      "C:\\Users\\khcho\\anaconda3\\lib\\site-packages\\botorch\\models\\utils\\assorted.py:173: InputDataWarning: Input data is not contained to the unit cube. Please consider min-max scaling the input data.\n",
      "  warnings.warn(msg, InputDataWarning)\n"
     ]
    },
    {
     "name": "stdout",
     "output_type": "stream",
     "text": [
      "\n",
      "Batch  5: time = 6.23\n",
      " 1.000503385410043\n"
     ]
    },
    {
     "name": "stderr",
     "output_type": "stream",
     "text": [
      "C:\\Users\\khcho\\anaconda3\\lib\\site-packages\\botorch\\models\\utils\\assorted.py:173: InputDataWarning: Input data is not contained to the unit cube. Please consider min-max scaling the input data.\n",
      "  warnings.warn(msg, InputDataWarning)\n"
     ]
    },
    {
     "name": "stdout",
     "output_type": "stream",
     "text": [
      "\n",
      "Batch  6: time = 7.31\n",
      " 1.0005847551325278\n"
     ]
    },
    {
     "name": "stderr",
     "output_type": "stream",
     "text": [
      "C:\\Users\\khcho\\anaconda3\\lib\\site-packages\\botorch\\models\\utils\\assorted.py:173: InputDataWarning: Input data is not contained to the unit cube. Please consider min-max scaling the input data.\n",
      "  warnings.warn(msg, InputDataWarning)\n"
     ]
    },
    {
     "name": "stdout",
     "output_type": "stream",
     "text": [
      "\n",
      "Batch  7: time = 7.00\n",
      " 1.0006792599752146\n"
     ]
    },
    {
     "name": "stderr",
     "output_type": "stream",
     "text": [
      "C:\\Users\\khcho\\anaconda3\\lib\\site-packages\\botorch\\models\\utils\\assorted.py:173: InputDataWarning: Input data is not contained to the unit cube. Please consider min-max scaling the input data.\n",
      "  warnings.warn(msg, InputDataWarning)\n"
     ]
    },
    {
     "name": "stdout",
     "output_type": "stream",
     "text": [
      "\n",
      "Batch  8: time = 7.78\n",
      " 1.000789014030202\n"
     ]
    },
    {
     "name": "stderr",
     "output_type": "stream",
     "text": [
      "C:\\Users\\khcho\\anaconda3\\lib\\site-packages\\botorch\\models\\utils\\assorted.py:173: InputDataWarning: Input data is not contained to the unit cube. Please consider min-max scaling the input data.\n",
      "  warnings.warn(msg, InputDataWarning)\n"
     ]
    },
    {
     "name": "stdout",
     "output_type": "stream",
     "text": [
      "\n",
      "Batch  9: time = 6.31\n",
      " 1.0009164694712465\n"
     ]
    },
    {
     "name": "stderr",
     "output_type": "stream",
     "text": [
      "C:\\Users\\khcho\\anaconda3\\lib\\site-packages\\botorch\\models\\utils\\assorted.py:173: InputDataWarning: Input data is not contained to the unit cube. Please consider min-max scaling the input data.\n",
      "  warnings.warn(msg, InputDataWarning)\n"
     ]
    },
    {
     "name": "stdout",
     "output_type": "stream",
     "text": [
      "\n",
      "Batch 10: time = 7.49\n",
      " 1.001064469857982\n"
     ]
    },
    {
     "name": "stderr",
     "output_type": "stream",
     "text": [
      "C:\\Users\\khcho\\anaconda3\\lib\\site-packages\\botorch\\models\\utils\\assorted.py:173: InputDataWarning: Input data is not contained to the unit cube. Please consider min-max scaling the input data.\n",
      "  warnings.warn(msg, InputDataWarning)\n"
     ]
    },
    {
     "name": "stdout",
     "output_type": "stream",
     "text": [
      "\n",
      "Batch 11: time = 7.64\n",
      " 1.0012363115783174\n"
     ]
    },
    {
     "name": "stderr",
     "output_type": "stream",
     "text": [
      "C:\\Users\\khcho\\anaconda3\\lib\\site-packages\\botorch\\models\\utils\\assorted.py:173: InputDataWarning: Input data is not contained to the unit cube. Please consider min-max scaling the input data.\n",
      "  warnings.warn(msg, InputDataWarning)\n"
     ]
    },
    {
     "name": "stdout",
     "output_type": "stream",
     "text": [
      "\n",
      "Batch 12: time = 7.77\n",
      " 1.0014358145778501\n"
     ]
    },
    {
     "name": "stderr",
     "output_type": "stream",
     "text": [
      "C:\\Users\\khcho\\anaconda3\\lib\\site-packages\\botorch\\models\\utils\\assorted.py:173: InputDataWarning: Input data is not contained to the unit cube. Please consider min-max scaling the input data.\n",
      "  warnings.warn(msg, InputDataWarning)\n"
     ]
    },
    {
     "name": "stdout",
     "output_type": "stream",
     "text": [
      "\n",
      "Batch 13: time = 6.77\n",
      " 1.0016674036537068\n"
     ]
    },
    {
     "name": "stderr",
     "output_type": "stream",
     "text": [
      "C:\\Users\\khcho\\anaconda3\\lib\\site-packages\\botorch\\models\\utils\\assorted.py:173: InputDataWarning: Input data is not contained to the unit cube. Please consider min-max scaling the input data.\n",
      "  warnings.warn(msg, InputDataWarning)\n"
     ]
    },
    {
     "name": "stdout",
     "output_type": "stream",
     "text": [
      "\n",
      "Batch 14: time = 7.45\n",
      " 1.0019362017203355\n"
     ]
    },
    {
     "name": "stderr",
     "output_type": "stream",
     "text": [
      "C:\\Users\\khcho\\anaconda3\\lib\\site-packages\\botorch\\models\\utils\\assorted.py:173: InputDataWarning: Input data is not contained to the unit cube. Please consider min-max scaling the input data.\n",
      "  warnings.warn(msg, InputDataWarning)\n"
     ]
    },
    {
     "name": "stdout",
     "output_type": "stream",
     "text": [
      "\n",
      "Batch 15: time = 7.70\n",
      " 1.0022481365804705\n"
     ]
    },
    {
     "name": "stderr",
     "output_type": "stream",
     "text": [
      "C:\\Users\\khcho\\anaconda3\\lib\\site-packages\\botorch\\models\\utils\\assorted.py:173: InputDataWarning: Input data is not contained to the unit cube. Please consider min-max scaling the input data.\n",
      "  warnings.warn(msg, InputDataWarning)\n"
     ]
    },
    {
     "name": "stdout",
     "output_type": "stream",
     "text": [
      "\n",
      "Batch 16: time = 7.98\n",
      " 1.0026100628467791\n"
     ]
    },
    {
     "name": "stderr",
     "output_type": "stream",
     "text": [
      "C:\\Users\\khcho\\anaconda3\\lib\\site-packages\\botorch\\models\\utils\\assorted.py:173: InputDataWarning: Input data is not contained to the unit cube. Please consider min-max scaling the input data.\n",
      "  warnings.warn(msg, InputDataWarning)\n"
     ]
    },
    {
     "name": "stdout",
     "output_type": "stream",
     "text": [
      "\n",
      "Batch 17: time = 7.44\n",
      " 1.0030299007457921\n"
     ]
    },
    {
     "name": "stderr",
     "output_type": "stream",
     "text": [
      "C:\\Users\\khcho\\anaconda3\\lib\\site-packages\\botorch\\models\\utils\\assorted.py:173: InputDataWarning: Input data is not contained to the unit cube. Please consider min-max scaling the input data.\n",
      "  warnings.warn(msg, InputDataWarning)\n"
     ]
    },
    {
     "name": "stdout",
     "output_type": "stream",
     "text": [
      "\n",
      "Batch 18: time = 8.11\n",
      " 1.0035167935774976\n"
     ]
    },
    {
     "name": "stderr",
     "output_type": "stream",
     "text": [
      "C:\\Users\\khcho\\anaconda3\\lib\\site-packages\\botorch\\models\\utils\\assorted.py:173: InputDataWarning: Input data is not contained to the unit cube. Please consider min-max scaling the input data.\n",
      "  warnings.warn(msg, InputDataWarning)\n"
     ]
    },
    {
     "name": "stdout",
     "output_type": "stream",
     "text": [
      "\n",
      "Batch 19: time = 7.52\n",
      " 1.00408128557658\n"
     ]
    },
    {
     "name": "stderr",
     "output_type": "stream",
     "text": [
      "C:\\Users\\khcho\\anaconda3\\lib\\site-packages\\botorch\\models\\utils\\assorted.py:173: InputDataWarning: Input data is not contained to the unit cube. Please consider min-max scaling the input data.\n",
      "  warnings.warn(msg, InputDataWarning)\n"
     ]
    },
    {
     "name": "stdout",
     "output_type": "stream",
     "text": [
      "\n",
      "Batch 20: time = 7.41\n",
      " 1.004735521790973\n"
     ]
    },
    {
     "name": "stderr",
     "output_type": "stream",
     "text": [
      "C:\\Users\\khcho\\anaconda3\\lib\\site-packages\\botorch\\models\\utils\\assorted.py:173: InputDataWarning: Input data is not contained to the unit cube. Please consider min-max scaling the input data.\n",
      "  warnings.warn(msg, InputDataWarning)\n"
     ]
    },
    {
     "name": "stdout",
     "output_type": "stream",
     "text": [
      "\n",
      "Batch 21: time = 7.64\n",
      " 1.0054934713152965\n"
     ]
    },
    {
     "name": "stderr",
     "output_type": "stream",
     "text": [
      "C:\\Users\\khcho\\anaconda3\\lib\\site-packages\\botorch\\models\\utils\\assorted.py:173: InputDataWarning: Input data is not contained to the unit cube. Please consider min-max scaling the input data.\n",
      "  warnings.warn(msg, InputDataWarning)\n"
     ]
    },
    {
     "name": "stdout",
     "output_type": "stream",
     "text": [
      "\n",
      "Batch 22: time = 7.38\n",
      " 1.0063711747320558\n"
     ]
    },
    {
     "name": "stderr",
     "output_type": "stream",
     "text": [
      "C:\\Users\\khcho\\anaconda3\\lib\\site-packages\\botorch\\models\\utils\\assorted.py:173: InputDataWarning: Input data is not contained to the unit cube. Please consider min-max scaling the input data.\n",
      "  warnings.warn(msg, InputDataWarning)\n"
     ]
    },
    {
     "name": "stdout",
     "output_type": "stream",
     "text": [
      "\n",
      "Batch 23: time = 7.94\n",
      " 1.0073870158466365\n"
     ]
    },
    {
     "name": "stderr",
     "output_type": "stream",
     "text": [
      "C:\\Users\\khcho\\anaconda3\\lib\\site-packages\\botorch\\models\\utils\\assorted.py:173: InputDataWarning: Input data is not contained to the unit cube. Please consider min-max scaling the input data.\n",
      "  warnings.warn(msg, InputDataWarning)\n"
     ]
    },
    {
     "name": "stdout",
     "output_type": "stream",
     "text": [
      "\n",
      "Batch 24: time = 7.66\n",
      " 1.008562016657864\n"
     ]
    },
    {
     "name": "stderr",
     "output_type": "stream",
     "text": [
      "C:\\Users\\khcho\\anaconda3\\lib\\site-packages\\botorch\\models\\utils\\assorted.py:173: InputDataWarning: Input data is not contained to the unit cube. Please consider min-max scaling the input data.\n",
      "  warnings.warn(msg, InputDataWarning)\n"
     ]
    },
    {
     "name": "stdout",
     "output_type": "stream",
     "text": [
      "\n",
      "Batch 25: time = 8.92\n",
      " 1.0099201528670387\n"
     ]
    },
    {
     "name": "stderr",
     "output_type": "stream",
     "text": [
      "C:\\Users\\khcho\\anaconda3\\lib\\site-packages\\botorch\\models\\utils\\assorted.py:173: InputDataWarning: Input data is not contained to the unit cube. Please consider min-max scaling the input data.\n",
      "  warnings.warn(msg, InputDataWarning)\n"
     ]
    },
    {
     "name": "stdout",
     "output_type": "stream",
     "text": [
      "\n",
      "Batch 26: time = 7.47\n",
      " 1.0114886849550129\n"
     ]
    },
    {
     "name": "stderr",
     "output_type": "stream",
     "text": [
      "C:\\Users\\khcho\\anaconda3\\lib\\site-packages\\botorch\\models\\utils\\assorted.py:173: InputDataWarning: Input data is not contained to the unit cube. Please consider min-max scaling the input data.\n",
      "  warnings.warn(msg, InputDataWarning)\n"
     ]
    },
    {
     "name": "stdout",
     "output_type": "stream",
     "text": [
      "\n",
      "Batch 27: time = 6.75\n",
      " 1.0132984967884329\n"
     ]
    },
    {
     "name": "stderr",
     "output_type": "stream",
     "text": [
      "C:\\Users\\khcho\\anaconda3\\lib\\site-packages\\botorch\\models\\utils\\assorted.py:173: InputDataWarning: Input data is not contained to the unit cube. Please consider min-max scaling the input data.\n",
      "  warnings.warn(msg, InputDataWarning)\n"
     ]
    },
    {
     "name": "stdout",
     "output_type": "stream",
     "text": [
      "\n",
      "Batch 28: time = 7.16\n",
      " 1.0153844296785741\n"
     ]
    },
    {
     "name": "stderr",
     "output_type": "stream",
     "text": [
      "C:\\Users\\khcho\\anaconda3\\lib\\site-packages\\botorch\\models\\utils\\assorted.py:173: InputDataWarning: Input data is not contained to the unit cube. Please consider min-max scaling the input data.\n",
      "  warnings.warn(msg, InputDataWarning)\n"
     ]
    },
    {
     "name": "stdout",
     "output_type": "stream",
     "text": [
      "\n",
      "Batch 29: time = 7.33\n",
      " 1.0177855946363181\n"
     ]
    },
    {
     "name": "stderr",
     "output_type": "stream",
     "text": [
      "C:\\Users\\khcho\\anaconda3\\lib\\site-packages\\botorch\\models\\utils\\assorted.py:173: InputDataWarning: Input data is not contained to the unit cube. Please consider min-max scaling the input data.\n",
      "  warnings.warn(msg, InputDataWarning)\n"
     ]
    },
    {
     "name": "stdout",
     "output_type": "stream",
     "text": [
      "\n",
      "Batch 30: time = 8.00\n",
      " 1.0205456391002325\n"
     ]
    },
    {
     "name": "stderr",
     "output_type": "stream",
     "text": [
      "C:\\Users\\khcho\\anaconda3\\lib\\site-packages\\botorch\\models\\utils\\assorted.py:173: InputDataWarning: Input data is not contained to the unit cube. Please consider min-max scaling the input data.\n",
      "  warnings.warn(msg, InputDataWarning)\n"
     ]
    },
    {
     "name": "stdout",
     "output_type": "stream",
     "text": [
      "\n",
      "Batch 31: time = 7.11\n",
      " 1.0237129365887834\n"
     ]
    },
    {
     "name": "stderr",
     "output_type": "stream",
     "text": [
      "C:\\Users\\khcho\\anaconda3\\lib\\site-packages\\botorch\\models\\utils\\assorted.py:173: InputDataWarning: Input data is not contained to the unit cube. Please consider min-max scaling the input data.\n",
      "  warnings.warn(msg, InputDataWarning)\n"
     ]
    },
    {
     "name": "stdout",
     "output_type": "stream",
     "text": [
      "\n",
      "Batch 32: time = 7.72\n",
      " 1.0273406586079703\n"
     ]
    },
    {
     "name": "stderr",
     "output_type": "stream",
     "text": [
      "C:\\Users\\khcho\\anaconda3\\lib\\site-packages\\botorch\\models\\utils\\assorted.py:173: InputDataWarning: Input data is not contained to the unit cube. Please consider min-max scaling the input data.\n",
      "  warnings.warn(msg, InputDataWarning)\n"
     ]
    },
    {
     "name": "stdout",
     "output_type": "stream",
     "text": [
      "\n",
      "Batch 33: time = 7.12\n",
      " 1.0314866780284984\n"
     ]
    },
    {
     "name": "stderr",
     "output_type": "stream",
     "text": [
      "C:\\Users\\khcho\\anaconda3\\lib\\site-packages\\botorch\\models\\utils\\assorted.py:173: InputDataWarning: Input data is not contained to the unit cube. Please consider min-max scaling the input data.\n",
      "  warnings.warn(msg, InputDataWarning)\n"
     ]
    },
    {
     "name": "stdout",
     "output_type": "stream",
     "text": [
      "\n",
      "Batch 34: time = 6.72\n",
      " 1.0362132426807589\n"
     ]
    },
    {
     "name": "stderr",
     "output_type": "stream",
     "text": [
      "C:\\Users\\khcho\\anaconda3\\lib\\site-packages\\botorch\\models\\utils\\assorted.py:173: InputDataWarning: Input data is not contained to the unit cube. Please consider min-max scaling the input data.\n",
      "  warnings.warn(msg, InputDataWarning)\n"
     ]
    },
    {
     "name": "stdout",
     "output_type": "stream",
     "text": [
      "\n",
      "Batch 35: time = 7.33\n",
      " 1.0415863482469612\n"
     ]
    },
    {
     "name": "stderr",
     "output_type": "stream",
     "text": [
      "C:\\Users\\khcho\\anaconda3\\lib\\site-packages\\botorch\\models\\utils\\assorted.py:173: InputDataWarning: Input data is not contained to the unit cube. Please consider min-max scaling the input data.\n",
      "  warnings.warn(msg, InputDataWarning)\n"
     ]
    },
    {
     "name": "stdout",
     "output_type": "stream",
     "text": [
      "\n",
      "Batch 36: time = 7.86\n",
      " 1.0476747324495548\n"
     ]
    },
    {
     "name": "stderr",
     "output_type": "stream",
     "text": [
      "C:\\Users\\khcho\\anaconda3\\lib\\site-packages\\botorch\\models\\utils\\assorted.py:173: InputDataWarning: Input data is not contained to the unit cube. Please consider min-max scaling the input data.\n",
      "  warnings.warn(msg, InputDataWarning)\n"
     ]
    },
    {
     "name": "stdout",
     "output_type": "stream",
     "text": [
      "\n",
      "Batch 37: time = 7.06\n",
      " 1.0545484105978065\n"
     ]
    },
    {
     "name": "stderr",
     "output_type": "stream",
     "text": [
      "C:\\Users\\khcho\\anaconda3\\lib\\site-packages\\botorch\\models\\utils\\assorted.py:173: InputDataWarning: Input data is not contained to the unit cube. Please consider min-max scaling the input data.\n",
      "  warnings.warn(msg, InputDataWarning)\n"
     ]
    },
    {
     "name": "stdout",
     "output_type": "stream",
     "text": [
      "\n",
      "Batch 38: time = 7.11\n",
      " 1.0622766790937082\n"
     ]
    },
    {
     "name": "stderr",
     "output_type": "stream",
     "text": [
      "C:\\Users\\khcho\\anaconda3\\lib\\site-packages\\botorch\\models\\utils\\assorted.py:173: InputDataWarning: Input data is not contained to the unit cube. Please consider min-max scaling the input data.\n",
      "  warnings.warn(msg, InputDataWarning)\n"
     ]
    },
    {
     "name": "stdout",
     "output_type": "stream",
     "text": [
      "\n",
      "Batch 39: time = 6.76\n",
      " 1.0709255324502438\n"
     ]
    },
    {
     "name": "stderr",
     "output_type": "stream",
     "text": [
      "C:\\Users\\khcho\\anaconda3\\lib\\site-packages\\botorch\\models\\utils\\assorted.py:173: InputDataWarning: Input data is not contained to the unit cube. Please consider min-max scaling the input data.\n",
      "  warnings.warn(msg, InputDataWarning)\n"
     ]
    },
    {
     "name": "stdout",
     "output_type": "stream",
     "text": [
      "\n",
      "Batch 40: time = 7.99\n",
      " 1.0805544747882927\n"
     ]
    },
    {
     "name": "stderr",
     "output_type": "stream",
     "text": [
      "C:\\Users\\khcho\\anaconda3\\lib\\site-packages\\botorch\\models\\utils\\assorted.py:173: InputDataWarning: Input data is not contained to the unit cube. Please consider min-max scaling the input data.\n",
      "  warnings.warn(msg, InputDataWarning)\n"
     ]
    },
    {
     "name": "stdout",
     "output_type": "stream",
     "text": [
      "\n",
      "Batch 41: time = 6.39\n",
      " 1.0912127619031782\n"
     ]
    },
    {
     "name": "stderr",
     "output_type": "stream",
     "text": [
      "C:\\Users\\khcho\\anaconda3\\lib\\site-packages\\botorch\\models\\utils\\assorted.py:173: InputDataWarning: Input data is not contained to the unit cube. Please consider min-max scaling the input data.\n",
      "  warnings.warn(msg, InputDataWarning)\n"
     ]
    },
    {
     "name": "stdout",
     "output_type": "stream",
     "text": [
      "\n",
      "Batch 42: time = 8.17\n",
      " 1.1029351859004737\n"
     ]
    },
    {
     "name": "stderr",
     "output_type": "stream",
     "text": [
      "C:\\Users\\khcho\\anaconda3\\lib\\site-packages\\botorch\\models\\utils\\assorted.py:173: InputDataWarning: Input data is not contained to the unit cube. Please consider min-max scaling the input data.\n",
      "  warnings.warn(msg, InputDataWarning)\n"
     ]
    },
    {
     "name": "stdout",
     "output_type": "stream",
     "text": [
      "\n",
      "Batch 43: time = 6.69\n",
      " 1.1157376082504913\n"
     ]
    },
    {
     "name": "stderr",
     "output_type": "stream",
     "text": [
      "C:\\Users\\khcho\\anaconda3\\lib\\site-packages\\botorch\\models\\utils\\assorted.py:173: InputDataWarning: Input data is not contained to the unit cube. Please consider min-max scaling the input data.\n",
      "  warnings.warn(msg, InputDataWarning)\n"
     ]
    },
    {
     "name": "stdout",
     "output_type": "stream",
     "text": [
      "\n",
      "Batch 44: time = 8.20\n",
      " 1.129612550408923\n"
     ]
    },
    {
     "name": "stderr",
     "output_type": "stream",
     "text": [
      "C:\\Users\\khcho\\anaconda3\\lib\\site-packages\\botorch\\models\\utils\\assorted.py:173: InputDataWarning: Input data is not contained to the unit cube. Please consider min-max scaling the input data.\n",
      "  warnings.warn(msg, InputDataWarning)\n"
     ]
    },
    {
     "name": "stdout",
     "output_type": "stream",
     "text": [
      "\n",
      "Batch 45: time = 8.09\n",
      " 1.144525248687498\n"
     ]
    },
    {
     "name": "stderr",
     "output_type": "stream",
     "text": [
      "C:\\Users\\khcho\\anaconda3\\lib\\site-packages\\botorch\\models\\utils\\assorted.py:173: InputDataWarning: Input data is not contained to the unit cube. Please consider min-max scaling the input data.\n",
      "  warnings.warn(msg, InputDataWarning)\n"
     ]
    },
    {
     "name": "stdout",
     "output_type": "stream",
     "text": [
      "\n",
      "Batch 46: time = 7.76\n",
      " 1.1604106504123035\n"
     ]
    },
    {
     "name": "stderr",
     "output_type": "stream",
     "text": [
      "C:\\Users\\khcho\\anaconda3\\lib\\site-packages\\botorch\\models\\utils\\assorted.py:173: InputDataWarning: Input data is not contained to the unit cube. Please consider min-max scaling the input data.\n",
      "  warnings.warn(msg, InputDataWarning)\n"
     ]
    },
    {
     "name": "stdout",
     "output_type": "stream",
     "text": [
      "\n",
      "Batch 47: time = 8.19\n",
      " 1.1771718468871022\n"
     ]
    },
    {
     "name": "stderr",
     "output_type": "stream",
     "text": [
      "C:\\Users\\khcho\\anaconda3\\lib\\site-packages\\botorch\\models\\utils\\assorted.py:173: InputDataWarning: Input data is not contained to the unit cube. Please consider min-max scaling the input data.\n",
      "  warnings.warn(msg, InputDataWarning)\n"
     ]
    },
    {
     "name": "stdout",
     "output_type": "stream",
     "text": [
      "\n",
      "Batch 48: time = 6.59\n",
      " 1.194680383025389\n"
     ]
    },
    {
     "name": "stderr",
     "output_type": "stream",
     "text": [
      "C:\\Users\\khcho\\anaconda3\\lib\\site-packages\\botorch\\models\\utils\\assorted.py:173: InputDataWarning: Input data is not contained to the unit cube. Please consider min-max scaling the input data.\n",
      "  warnings.warn(msg, InputDataWarning)\n"
     ]
    },
    {
     "name": "stdout",
     "output_type": "stream",
     "text": [
      "\n",
      "Batch 49: time = 8.77\n",
      " 1.2127787415941704\n"
     ]
    },
    {
     "name": "stderr",
     "output_type": "stream",
     "text": [
      "C:\\Users\\khcho\\anaconda3\\lib\\site-packages\\botorch\\models\\utils\\assorted.py:173: InputDataWarning: Input data is not contained to the unit cube. Please consider min-max scaling the input data.\n",
      "  warnings.warn(msg, InputDataWarning)\n"
     ]
    },
    {
     "name": "stdout",
     "output_type": "stream",
     "text": [
      "\n",
      "Batch 50: time = 4.97\n",
      " 1.2312850773281252\n"
     ]
    },
    {
     "name": "stderr",
     "output_type": "stream",
     "text": [
      "C:\\Users\\khcho\\anaconda3\\lib\\site-packages\\botorch\\models\\utils\\assorted.py:173: InputDataWarning: Input data is not contained to the unit cube. Please consider min-max scaling the input data.\n",
      "  warnings.warn(msg, InputDataWarning)\n"
     ]
    },
    {
     "name": "stdout",
     "output_type": "stream",
     "text": [
      "\n",
      "Batch 51: time = 5.00\n",
      " 1.25\n"
     ]
    },
    {
     "name": "stderr",
     "output_type": "stream",
     "text": [
      "C:\\Users\\khcho\\anaconda3\\lib\\site-packages\\botorch\\models\\utils\\assorted.py:173: InputDataWarning: Input data is not contained to the unit cube. Please consider min-max scaling the input data.\n",
      "  warnings.warn(msg, InputDataWarning)\n"
     ]
    },
    {
     "name": "stdout",
     "output_type": "stream",
     "text": [
      "\n",
      "Batch 52: time = 4.88\n",
      " 1.2687149226718748\n"
     ]
    },
    {
     "name": "stderr",
     "output_type": "stream",
     "text": [
      "C:\\Users\\khcho\\anaconda3\\lib\\site-packages\\botorch\\models\\utils\\assorted.py:173: InputDataWarning: Input data is not contained to the unit cube. Please consider min-max scaling the input data.\n",
      "  warnings.warn(msg, InputDataWarning)\n"
     ]
    },
    {
     "name": "stdout",
     "output_type": "stream",
     "text": [
      "\n",
      "Batch 53: time = 4.80\n",
      " 1.2872212584058296\n"
     ]
    },
    {
     "name": "stderr",
     "output_type": "stream",
     "text": [
      "C:\\Users\\khcho\\anaconda3\\lib\\site-packages\\botorch\\models\\utils\\assorted.py:173: InputDataWarning: Input data is not contained to the unit cube. Please consider min-max scaling the input data.\n",
      "  warnings.warn(msg, InputDataWarning)\n"
     ]
    },
    {
     "name": "stdout",
     "output_type": "stream",
     "text": [
      "\n",
      "Batch 54: time = 4.97\n",
      " 1.305319616974611\n"
     ]
    },
    {
     "name": "stderr",
     "output_type": "stream",
     "text": [
      "C:\\Users\\khcho\\anaconda3\\lib\\site-packages\\botorch\\models\\utils\\assorted.py:173: InputDataWarning: Input data is not contained to the unit cube. Please consider min-max scaling the input data.\n",
      "  warnings.warn(msg, InputDataWarning)\n"
     ]
    },
    {
     "name": "stdout",
     "output_type": "stream",
     "text": [
      "\n",
      "Batch 55: time = 4.77\n",
      " 1.3228281531128978\n"
     ]
    },
    {
     "name": "stderr",
     "output_type": "stream",
     "text": [
      "C:\\Users\\khcho\\anaconda3\\lib\\site-packages\\botorch\\models\\utils\\assorted.py:173: InputDataWarning: Input data is not contained to the unit cube. Please consider min-max scaling the input data.\n",
      "  warnings.warn(msg, InputDataWarning)\n"
     ]
    },
    {
     "name": "stdout",
     "output_type": "stream",
     "text": [
      "\n",
      "Batch 56: time = 5.08\n",
      " 1.3395893495876965\n"
     ]
    },
    {
     "name": "stderr",
     "output_type": "stream",
     "text": [
      "C:\\Users\\khcho\\anaconda3\\lib\\site-packages\\botorch\\models\\utils\\assorted.py:173: InputDataWarning: Input data is not contained to the unit cube. Please consider min-max scaling the input data.\n",
      "  warnings.warn(msg, InputDataWarning)\n"
     ]
    },
    {
     "name": "stdout",
     "output_type": "stream",
     "text": [
      "\n",
      "Batch 57: time = 5.05\n",
      " 1.355474751312502\n"
     ]
    },
    {
     "name": "stderr",
     "output_type": "stream",
     "text": [
      "C:\\Users\\khcho\\anaconda3\\lib\\site-packages\\botorch\\models\\utils\\assorted.py:173: InputDataWarning: Input data is not contained to the unit cube. Please consider min-max scaling the input data.\n",
      "  warnings.warn(msg, InputDataWarning)\n"
     ]
    },
    {
     "name": "stdout",
     "output_type": "stream",
     "text": [
      "\n",
      "Batch 58: time = 4.84\n",
      " 1.370387449591077\n"
     ]
    },
    {
     "name": "stderr",
     "output_type": "stream",
     "text": [
      "C:\\Users\\khcho\\anaconda3\\lib\\site-packages\\botorch\\models\\utils\\assorted.py:173: InputDataWarning: Input data is not contained to the unit cube. Please consider min-max scaling the input data.\n",
      "  warnings.warn(msg, InputDataWarning)\n"
     ]
    },
    {
     "name": "stdout",
     "output_type": "stream",
     "text": [
      "\n",
      "Batch 59: time = 5.06\n",
      " 1.3842623917495087\n"
     ]
    },
    {
     "name": "stderr",
     "output_type": "stream",
     "text": [
      "C:\\Users\\khcho\\anaconda3\\lib\\site-packages\\botorch\\models\\utils\\assorted.py:173: InputDataWarning: Input data is not contained to the unit cube. Please consider min-max scaling the input data.\n",
      "  warnings.warn(msg, InputDataWarning)\n"
     ]
    },
    {
     "name": "stdout",
     "output_type": "stream",
     "text": [
      "\n",
      "Batch 60: time = 5.12\n",
      " 1.3970648140995263\n"
     ]
    },
    {
     "name": "stderr",
     "output_type": "stream",
     "text": [
      "C:\\Users\\khcho\\anaconda3\\lib\\site-packages\\botorch\\models\\utils\\assorted.py:173: InputDataWarning: Input data is not contained to the unit cube. Please consider min-max scaling the input data.\n",
      "  warnings.warn(msg, InputDataWarning)\n"
     ]
    },
    {
     "name": "stdout",
     "output_type": "stream",
     "text": [
      "\n",
      "Batch 61: time = 5.02\n",
      " 1.4087872380968218\n"
     ]
    },
    {
     "name": "stderr",
     "output_type": "stream",
     "text": [
      "C:\\Users\\khcho\\anaconda3\\lib\\site-packages\\botorch\\models\\utils\\assorted.py:173: InputDataWarning: Input data is not contained to the unit cube. Please consider min-max scaling the input data.\n",
      "  warnings.warn(msg, InputDataWarning)\n"
     ]
    },
    {
     "name": "stdout",
     "output_type": "stream",
     "text": [
      "\n",
      "Batch 62: time = 5.02\n",
      " 1.4194455252117073\n"
     ]
    },
    {
     "name": "stderr",
     "output_type": "stream",
     "text": [
      "C:\\Users\\khcho\\anaconda3\\lib\\site-packages\\botorch\\models\\utils\\assorted.py:173: InputDataWarning: Input data is not contained to the unit cube. Please consider min-max scaling the input data.\n",
      "  warnings.warn(msg, InputDataWarning)\n"
     ]
    },
    {
     "name": "stdout",
     "output_type": "stream",
     "text": [
      "\n",
      "Batch 63: time = 5.01\n",
      " 1.4290744675497562\n"
     ]
    },
    {
     "name": "stderr",
     "output_type": "stream",
     "text": [
      "C:\\Users\\khcho\\anaconda3\\lib\\site-packages\\botorch\\models\\utils\\assorted.py:173: InputDataWarning: Input data is not contained to the unit cube. Please consider min-max scaling the input data.\n",
      "  warnings.warn(msg, InputDataWarning)\n"
     ]
    },
    {
     "name": "stdout",
     "output_type": "stream",
     "text": [
      "\n",
      "Batch 64: time = 5.28\n",
      " 1.4377233209062918\n"
     ]
    },
    {
     "name": "stderr",
     "output_type": "stream",
     "text": [
      "C:\\Users\\khcho\\anaconda3\\lib\\site-packages\\botorch\\models\\utils\\assorted.py:173: InputDataWarning: Input data is not contained to the unit cube. Please consider min-max scaling the input data.\n",
      "  warnings.warn(msg, InputDataWarning)\n"
     ]
    },
    {
     "name": "stdout",
     "output_type": "stream",
     "text": [
      "\n",
      "Batch 65: time = 9.20\n",
      " 1.4454515894021935\n"
     ]
    },
    {
     "name": "stderr",
     "output_type": "stream",
     "text": [
      "C:\\Users\\khcho\\anaconda3\\lib\\site-packages\\botorch\\models\\utils\\assorted.py:173: InputDataWarning: Input data is not contained to the unit cube. Please consider min-max scaling the input data.\n",
      "  warnings.warn(msg, InputDataWarning)\n"
     ]
    },
    {
     "name": "stdout",
     "output_type": "stream",
     "text": [
      "\n",
      "Batch 66: time = 4.81\n",
      " 1.4523252675504452\n"
     ]
    },
    {
     "name": "stderr",
     "output_type": "stream",
     "text": [
      "C:\\Users\\khcho\\anaconda3\\lib\\site-packages\\botorch\\models\\utils\\assorted.py:173: InputDataWarning: Input data is not contained to the unit cube. Please consider min-max scaling the input data.\n",
      "  warnings.warn(msg, InputDataWarning)\n"
     ]
    },
    {
     "name": "stdout",
     "output_type": "stream",
     "text": [
      "\n",
      "Batch 67: time = 4.80\n",
      " 1.4584136517530388\n"
     ]
    },
    {
     "name": "stderr",
     "output_type": "stream",
     "text": [
      "C:\\Users\\khcho\\anaconda3\\lib\\site-packages\\botorch\\models\\utils\\assorted.py:173: InputDataWarning: Input data is not contained to the unit cube. Please consider min-max scaling the input data.\n",
      "  warnings.warn(msg, InputDataWarning)\n"
     ]
    },
    {
     "name": "stdout",
     "output_type": "stream",
     "text": [
      "\n",
      "Batch 68: time = 4.73\n",
      " 1.4637867573192411\n"
     ]
    },
    {
     "name": "stderr",
     "output_type": "stream",
     "text": [
      "C:\\Users\\khcho\\anaconda3\\lib\\site-packages\\botorch\\models\\utils\\assorted.py:173: InputDataWarning: Input data is not contained to the unit cube. Please consider min-max scaling the input data.\n",
      "  warnings.warn(msg, InputDataWarning)\n"
     ]
    },
    {
     "name": "stdout",
     "output_type": "stream",
     "text": [
      "\n",
      "Batch 69: time = 4.86\n",
      " 1.4685133219715016\n"
     ]
    },
    {
     "name": "stderr",
     "output_type": "stream",
     "text": [
      "C:\\Users\\khcho\\anaconda3\\lib\\site-packages\\botorch\\models\\utils\\assorted.py:173: InputDataWarning: Input data is not contained to the unit cube. Please consider min-max scaling the input data.\n",
      "  warnings.warn(msg, InputDataWarning)\n"
     ]
    },
    {
     "name": "stdout",
     "output_type": "stream",
     "text": [
      "\n",
      "Batch 70: time = 4.73\n",
      " 1.4726593413920295\n"
     ]
    },
    {
     "name": "stderr",
     "output_type": "stream",
     "text": [
      "C:\\Users\\khcho\\anaconda3\\lib\\site-packages\\botorch\\models\\utils\\assorted.py:173: InputDataWarning: Input data is not contained to the unit cube. Please consider min-max scaling the input data.\n",
      "  warnings.warn(msg, InputDataWarning)\n"
     ]
    },
    {
     "name": "stdout",
     "output_type": "stream",
     "text": [
      "\n",
      "Batch 71: time = 77.12\n",
      " 1.4762870634112166\n"
     ]
    },
    {
     "name": "stderr",
     "output_type": "stream",
     "text": [
      "C:\\Users\\khcho\\anaconda3\\lib\\site-packages\\botorch\\models\\utils\\assorted.py:173: InputDataWarning: Input data is not contained to the unit cube. Please consider min-max scaling the input data.\n",
      "  warnings.warn(msg, InputDataWarning)\n"
     ]
    },
    {
     "name": "stdout",
     "output_type": "stream",
     "text": [
      "\n",
      "Batch 72: time = 5.08\n",
      " 1.4794543608997675\n"
     ]
    },
    {
     "name": "stderr",
     "output_type": "stream",
     "text": [
      "C:\\Users\\khcho\\anaconda3\\lib\\site-packages\\botorch\\models\\utils\\assorted.py:173: InputDataWarning: Input data is not contained to the unit cube. Please consider min-max scaling the input data.\n",
      "  warnings.warn(msg, InputDataWarning)\n"
     ]
    },
    {
     "name": "stdout",
     "output_type": "stream",
     "text": [
      "\n",
      "Batch 73: time = 4.64\n",
      " 1.4822144053636819\n"
     ]
    },
    {
     "name": "stderr",
     "output_type": "stream",
     "text": [
      "C:\\Users\\khcho\\anaconda3\\lib\\site-packages\\botorch\\models\\utils\\assorted.py:173: InputDataWarning: Input data is not contained to the unit cube. Please consider min-max scaling the input data.\n",
      "  warnings.warn(msg, InputDataWarning)\n"
     ]
    },
    {
     "name": "stdout",
     "output_type": "stream",
     "text": [
      "\n",
      "Batch 74: time = 5.09\n",
      " 1.4846155703214259\n"
     ]
    },
    {
     "name": "stderr",
     "output_type": "stream",
     "text": [
      "C:\\Users\\khcho\\anaconda3\\lib\\site-packages\\botorch\\models\\utils\\assorted.py:173: InputDataWarning: Input data is not contained to the unit cube. Please consider min-max scaling the input data.\n",
      "  warnings.warn(msg, InputDataWarning)\n"
     ]
    },
    {
     "name": "stdout",
     "output_type": "stream",
     "text": [
      "\n",
      "Batch 75: time = 4.80\n",
      " 1.4867015032115671\n"
     ]
    },
    {
     "name": "stderr",
     "output_type": "stream",
     "text": [
      "C:\\Users\\khcho\\anaconda3\\lib\\site-packages\\botorch\\models\\utils\\assorted.py:173: InputDataWarning: Input data is not contained to the unit cube. Please consider min-max scaling the input data.\n",
      "  warnings.warn(msg, InputDataWarning)\n"
     ]
    },
    {
     "name": "stdout",
     "output_type": "stream",
     "text": [
      "\n",
      "Batch 76: time = 4.52\n",
      " 1.4885113150449871\n"
     ]
    },
    {
     "name": "stderr",
     "output_type": "stream",
     "text": [
      "C:\\Users\\khcho\\anaconda3\\lib\\site-packages\\botorch\\models\\utils\\assorted.py:173: InputDataWarning: Input data is not contained to the unit cube. Please consider min-max scaling the input data.\n",
      "  warnings.warn(msg, InputDataWarning)\n"
     ]
    },
    {
     "name": "stdout",
     "output_type": "stream",
     "text": [
      "\n",
      "Batch 77: time = 4.97\n",
      " 1.4900798471329613\n"
     ]
    },
    {
     "name": "stderr",
     "output_type": "stream",
     "text": [
      "C:\\Users\\khcho\\anaconda3\\lib\\site-packages\\botorch\\models\\utils\\assorted.py:173: InputDataWarning: Input data is not contained to the unit cube. Please consider min-max scaling the input data.\n",
      "  warnings.warn(msg, InputDataWarning)\n"
     ]
    },
    {
     "name": "stdout",
     "output_type": "stream",
     "text": [
      "\n",
      "Batch 78: time = 98.48\n",
      " 1.491437983342136\n"
     ]
    },
    {
     "name": "stderr",
     "output_type": "stream",
     "text": [
      "C:\\Users\\khcho\\anaconda3\\lib\\site-packages\\botorch\\models\\utils\\assorted.py:173: InputDataWarning: Input data is not contained to the unit cube. Please consider min-max scaling the input data.\n",
      "  warnings.warn(msg, InputDataWarning)\n"
     ]
    },
    {
     "name": "stdout",
     "output_type": "stream",
     "text": [
      "\n",
      "Batch 79: time = 92.42\n",
      " 1.4926129841533635\n"
     ]
    },
    {
     "name": "stderr",
     "output_type": "stream",
     "text": [
      "C:\\Users\\khcho\\anaconda3\\lib\\site-packages\\botorch\\models\\utils\\assorted.py:173: InputDataWarning: Input data is not contained to the unit cube. Please consider min-max scaling the input data.\n",
      "  warnings.warn(msg, InputDataWarning)\n"
     ]
    },
    {
     "name": "stdout",
     "output_type": "stream",
     "text": [
      "\n",
      "Batch 80: time = 101.53\n",
      " 1.4936288252679442\n"
     ]
    },
    {
     "name": "stderr",
     "output_type": "stream",
     "text": [
      "C:\\Users\\khcho\\anaconda3\\lib\\site-packages\\botorch\\models\\utils\\assorted.py:173: InputDataWarning: Input data is not contained to the unit cube. Please consider min-max scaling the input data.\n",
      "  warnings.warn(msg, InputDataWarning)\n"
     ]
    },
    {
     "name": "stdout",
     "output_type": "stream",
     "text": [
      "\n",
      "Batch 81: time = 4.86\n",
      " 1.4945065286847035\n"
     ]
    },
    {
     "name": "stderr",
     "output_type": "stream",
     "text": [
      "C:\\Users\\khcho\\anaconda3\\lib\\site-packages\\botorch\\models\\utils\\assorted.py:173: InputDataWarning: Input data is not contained to the unit cube. Please consider min-max scaling the input data.\n",
      "  warnings.warn(msg, InputDataWarning)\n"
     ]
    },
    {
     "name": "stdout",
     "output_type": "stream",
     "text": [
      "\n",
      "Batch 82: time = 5.08\n",
      " 1.495264478209027\n"
     ]
    },
    {
     "name": "stderr",
     "output_type": "stream",
     "text": [
      "C:\\Users\\khcho\\anaconda3\\lib\\site-packages\\botorch\\models\\utils\\assorted.py:173: InputDataWarning: Input data is not contained to the unit cube. Please consider min-max scaling the input data.\n",
      "  warnings.warn(msg, InputDataWarning)\n"
     ]
    },
    {
     "name": "stdout",
     "output_type": "stream",
     "text": [
      "\n",
      "Batch 83: time = 4.98\n",
      " 1.49591871442342\n"
     ]
    },
    {
     "name": "stderr",
     "output_type": "stream",
     "text": [
      "C:\\Users\\khcho\\anaconda3\\lib\\site-packages\\botorch\\models\\utils\\assorted.py:173: InputDataWarning: Input data is not contained to the unit cube. Please consider min-max scaling the input data.\n",
      "  warnings.warn(msg, InputDataWarning)\n"
     ]
    },
    {
     "name": "stdout",
     "output_type": "stream",
     "text": [
      "\n",
      "Batch 84: time = 4.67\n",
      " 1.4964832064225024\n"
     ]
    },
    {
     "name": "stderr",
     "output_type": "stream",
     "text": [
      "C:\\Users\\khcho\\anaconda3\\lib\\site-packages\\botorch\\models\\utils\\assorted.py:173: InputDataWarning: Input data is not contained to the unit cube. Please consider min-max scaling the input data.\n",
      "  warnings.warn(msg, InputDataWarning)\n"
     ]
    },
    {
     "name": "stdout",
     "output_type": "stream",
     "text": [
      "\n",
      "Batch 85: time = 4.64\n",
      " 1.4969700992542079\n"
     ]
    },
    {
     "name": "stderr",
     "output_type": "stream",
     "text": [
      "C:\\Users\\khcho\\anaconda3\\lib\\site-packages\\botorch\\models\\utils\\assorted.py:173: InputDataWarning: Input data is not contained to the unit cube. Please consider min-max scaling the input data.\n",
      "  warnings.warn(msg, InputDataWarning)\n"
     ]
    },
    {
     "name": "stdout",
     "output_type": "stream",
     "text": [
      "\n",
      "Batch 86: time = 4.75\n",
      " 1.4973899371532209\n"
     ]
    },
    {
     "name": "stderr",
     "output_type": "stream",
     "text": [
      "C:\\Users\\khcho\\anaconda3\\lib\\site-packages\\botorch\\models\\utils\\assorted.py:173: InputDataWarning: Input data is not contained to the unit cube. Please consider min-max scaling the input data.\n",
      "  warnings.warn(msg, InputDataWarning)\n"
     ]
    },
    {
     "name": "stdout",
     "output_type": "stream",
     "text": [
      "\n",
      "Batch 87: time = 4.86\n",
      " 1.4977518634195295\n"
     ]
    },
    {
     "name": "stderr",
     "output_type": "stream",
     "text": [
      "C:\\Users\\khcho\\anaconda3\\lib\\site-packages\\botorch\\models\\utils\\assorted.py:173: InputDataWarning: Input data is not contained to the unit cube. Please consider min-max scaling the input data.\n",
      "  warnings.warn(msg, InputDataWarning)\n"
     ]
    },
    {
     "name": "stdout",
     "output_type": "stream",
     "text": [
      "\n",
      "Batch 88: time = 4.69\n",
      " 1.4980637982796645\n"
     ]
    },
    {
     "name": "stderr",
     "output_type": "stream",
     "text": [
      "C:\\Users\\khcho\\anaconda3\\lib\\site-packages\\botorch\\models\\utils\\assorted.py:173: InputDataWarning: Input data is not contained to the unit cube. Please consider min-max scaling the input data.\n",
      "  warnings.warn(msg, InputDataWarning)\n"
     ]
    },
    {
     "name": "stdout",
     "output_type": "stream",
     "text": [
      "\n",
      "Batch 89: time = 4.73\n",
      " 1.4983325963462932\n"
     ]
    },
    {
     "name": "stderr",
     "output_type": "stream",
     "text": [
      "C:\\Users\\khcho\\anaconda3\\lib\\site-packages\\botorch\\models\\utils\\assorted.py:173: InputDataWarning: Input data is not contained to the unit cube. Please consider min-max scaling the input data.\n",
      "  warnings.warn(msg, InputDataWarning)\n"
     ]
    },
    {
     "name": "stdout",
     "output_type": "stream",
     "text": [
      "\n",
      "Batch 90: time = 4.92\n",
      " 1.4985641854221496\n"
     ]
    },
    {
     "name": "stderr",
     "output_type": "stream",
     "text": [
      "C:\\Users\\khcho\\anaconda3\\lib\\site-packages\\botorch\\models\\utils\\assorted.py:173: InputDataWarning: Input data is not contained to the unit cube. Please consider min-max scaling the input data.\n",
      "  warnings.warn(msg, InputDataWarning)\n"
     ]
    },
    {
     "name": "stdout",
     "output_type": "stream",
     "text": [
      "\n",
      "Batch 91: time = 4.76\n",
      " 1.4987636884216826\n"
     ]
    },
    {
     "name": "stderr",
     "output_type": "stream",
     "text": [
      "C:\\Users\\khcho\\anaconda3\\lib\\site-packages\\botorch\\models\\utils\\assorted.py:173: InputDataWarning: Input data is not contained to the unit cube. Please consider min-max scaling the input data.\n",
      "  warnings.warn(msg, InputDataWarning)\n"
     ]
    },
    {
     "name": "stdout",
     "output_type": "stream",
     "text": [
      "\n",
      "Batch 92: time = 4.80\n",
      " 1.4989355301420177\n"
     ]
    },
    {
     "name": "stderr",
     "output_type": "stream",
     "text": [
      "C:\\Users\\khcho\\anaconda3\\lib\\site-packages\\botorch\\models\\utils\\assorted.py:173: InputDataWarning: Input data is not contained to the unit cube. Please consider min-max scaling the input data.\n",
      "  warnings.warn(msg, InputDataWarning)\n"
     ]
    },
    {
     "name": "stdout",
     "output_type": "stream",
     "text": [
      "\n",
      "Batch 93: time = 4.95\n",
      " 1.4990835305287535\n"
     ]
    },
    {
     "name": "stderr",
     "output_type": "stream",
     "text": [
      "C:\\Users\\khcho\\anaconda3\\lib\\site-packages\\botorch\\models\\utils\\assorted.py:173: InputDataWarning: Input data is not contained to the unit cube. Please consider min-max scaling the input data.\n",
      "  warnings.warn(msg, InputDataWarning)\n"
     ]
    },
    {
     "name": "stdout",
     "output_type": "stream",
     "text": [
      "\n",
      "Batch 94: time = 5.38\n",
      " 1.499210985969798\n"
     ]
    },
    {
     "name": "stderr",
     "output_type": "stream",
     "text": [
      "C:\\Users\\khcho\\anaconda3\\lib\\site-packages\\botorch\\models\\utils\\assorted.py:173: InputDataWarning: Input data is not contained to the unit cube. Please consider min-max scaling the input data.\n",
      "  warnings.warn(msg, InputDataWarning)\n"
     ]
    },
    {
     "name": "stdout",
     "output_type": "stream",
     "text": [
      "\n",
      "Batch 95: time = 4.86\n",
      " 1.4993207400247854\n"
     ]
    },
    {
     "name": "stderr",
     "output_type": "stream",
     "text": [
      "C:\\Users\\khcho\\anaconda3\\lib\\site-packages\\botorch\\models\\utils\\assorted.py:173: InputDataWarning: Input data is not contained to the unit cube. Please consider min-max scaling the input data.\n",
      "  warnings.warn(msg, InputDataWarning)\n"
     ]
    },
    {
     "name": "stdout",
     "output_type": "stream",
     "text": [
      "\n",
      "Batch 96: time = 84.26\n",
      " 1.4994152448674722\n"
     ]
    },
    {
     "name": "stderr",
     "output_type": "stream",
     "text": [
      "C:\\Users\\khcho\\anaconda3\\lib\\site-packages\\botorch\\models\\utils\\assorted.py:173: InputDataWarning: Input data is not contained to the unit cube. Please consider min-max scaling the input data.\n",
      "  warnings.warn(msg, InputDataWarning)\n"
     ]
    },
    {
     "name": "stdout",
     "output_type": "stream",
     "text": [
      "\n",
      "Batch 97: time = 94.00\n",
      " 1.4994966145899573\n"
     ]
    },
    {
     "name": "stderr",
     "output_type": "stream",
     "text": [
      "C:\\Users\\khcho\\anaconda3\\lib\\site-packages\\botorch\\models\\utils\\assorted.py:173: InputDataWarning: Input data is not contained to the unit cube. Please consider min-max scaling the input data.\n",
      "  warnings.warn(msg, InputDataWarning)\n"
     ]
    },
    {
     "name": "stdout",
     "output_type": "stream",
     "text": [
      "\n",
      "Batch 98: time = 4.94\n",
      " 1.4995666713944604\n"
     ]
    },
    {
     "name": "stderr",
     "output_type": "stream",
     "text": [
      "C:\\Users\\khcho\\anaconda3\\lib\\site-packages\\botorch\\models\\utils\\assorted.py:173: InputDataWarning: Input data is not contained to the unit cube. Please consider min-max scaling the input data.\n",
      "  warnings.warn(msg, InputDataWarning)\n"
     ]
    },
    {
     "name": "stdout",
     "output_type": "stream",
     "text": [
      "\n",
      "Batch 99: time = 5.08\n",
      " 1.4996269855830817\n"
     ]
    },
    {
     "name": "stderr",
     "output_type": "stream",
     "text": [
      "C:\\Users\\khcho\\anaconda3\\lib\\site-packages\\botorch\\models\\utils\\assorted.py:173: InputDataWarning: Input data is not contained to the unit cube. Please consider min-max scaling the input data.\n",
      "  warnings.warn(msg, InputDataWarning)\n"
     ]
    },
    {
     "name": "stdout",
     "output_type": "stream",
     "text": [
      "\n",
      "Batch 100: time = 5.09\n",
      " 1.0002763893184619\n",
      "\n",
      "Batch  2: time = 6.62\n",
      " 1.000321089850293\n"
     ]
    },
    {
     "name": "stderr",
     "output_type": "stream",
     "text": [
      "C:\\Users\\khcho\\anaconda3\\lib\\site-packages\\botorch\\models\\utils\\assorted.py:173: InputDataWarning: Input data is not contained to the unit cube. Please consider min-max scaling the input data.\n",
      "  warnings.warn(msg, InputDataWarning)\n"
     ]
    },
    {
     "name": "stdout",
     "output_type": "stream",
     "text": [
      "\n",
      "Batch  3: time = 7.25\n",
      " 1.0003730144169183\n"
     ]
    },
    {
     "name": "stderr",
     "output_type": "stream",
     "text": [
      "C:\\Users\\khcho\\anaconda3\\lib\\site-packages\\botorch\\models\\utils\\assorted.py:173: InputDataWarning: Input data is not contained to the unit cube. Please consider min-max scaling the input data.\n",
      "  warnings.warn(msg, InputDataWarning)\n"
     ]
    },
    {
     "name": "stdout",
     "output_type": "stream",
     "text": [
      "\n",
      "Batch  4: time = 7.00\n",
      " 1.0004333286055396\n"
     ]
    },
    {
     "name": "stderr",
     "output_type": "stream",
     "text": [
      "C:\\Users\\khcho\\anaconda3\\lib\\site-packages\\botorch\\models\\utils\\assorted.py:173: InputDataWarning: Input data is not contained to the unit cube. Please consider min-max scaling the input data.\n",
      "  warnings.warn(msg, InputDataWarning)\n"
     ]
    },
    {
     "name": "stdout",
     "output_type": "stream",
     "text": [
      "\n",
      "Batch  5: time = 7.36\n",
      " 1.000503385410043\n"
     ]
    },
    {
     "name": "stderr",
     "output_type": "stream",
     "text": [
      "C:\\Users\\khcho\\anaconda3\\lib\\site-packages\\botorch\\models\\utils\\assorted.py:173: InputDataWarning: Input data is not contained to the unit cube. Please consider min-max scaling the input data.\n",
      "  warnings.warn(msg, InputDataWarning)\n"
     ]
    },
    {
     "name": "stdout",
     "output_type": "stream",
     "text": [
      "\n",
      "Batch  6: time = 26.99\n",
      " 1.0005847551325278\n"
     ]
    },
    {
     "name": "stderr",
     "output_type": "stream",
     "text": [
      "C:\\Users\\khcho\\anaconda3\\lib\\site-packages\\botorch\\models\\utils\\assorted.py:173: InputDataWarning: Input data is not contained to the unit cube. Please consider min-max scaling the input data.\n",
      "  warnings.warn(msg, InputDataWarning)\n"
     ]
    },
    {
     "name": "stdout",
     "output_type": "stream",
     "text": [
      "\n",
      "Batch  7: time = 23.97\n",
      " 1.0006792599752146\n"
     ]
    },
    {
     "name": "stderr",
     "output_type": "stream",
     "text": [
      "C:\\Users\\khcho\\anaconda3\\lib\\site-packages\\botorch\\models\\utils\\assorted.py:173: InputDataWarning: Input data is not contained to the unit cube. Please consider min-max scaling the input data.\n",
      "  warnings.warn(msg, InputDataWarning)\n"
     ]
    },
    {
     "name": "stdout",
     "output_type": "stream",
     "text": [
      "\n",
      "Batch  8: time = 6.84\n",
      " 1.000789014030202\n"
     ]
    },
    {
     "name": "stderr",
     "output_type": "stream",
     "text": [
      "C:\\Users\\khcho\\anaconda3\\lib\\site-packages\\botorch\\models\\utils\\assorted.py:173: InputDataWarning: Input data is not contained to the unit cube. Please consider min-max scaling the input data.\n",
      "  warnings.warn(msg, InputDataWarning)\n"
     ]
    },
    {
     "name": "stdout",
     "output_type": "stream",
     "text": [
      "\n",
      "Batch  9: time = 7.00\n",
      " 1.0009164694712465\n"
     ]
    },
    {
     "name": "stderr",
     "output_type": "stream",
     "text": [
      "C:\\Users\\khcho\\anaconda3\\lib\\site-packages\\botorch\\models\\utils\\assorted.py:173: InputDataWarning: Input data is not contained to the unit cube. Please consider min-max scaling the input data.\n",
      "  warnings.warn(msg, InputDataWarning)\n"
     ]
    },
    {
     "name": "stdout",
     "output_type": "stream",
     "text": [
      "\n",
      "Batch 10: time = 6.86\n",
      " 1.001064469857982\n"
     ]
    },
    {
     "name": "stderr",
     "output_type": "stream",
     "text": [
      "C:\\Users\\khcho\\anaconda3\\lib\\site-packages\\botorch\\models\\utils\\assorted.py:173: InputDataWarning: Input data is not contained to the unit cube. Please consider min-max scaling the input data.\n",
      "  warnings.warn(msg, InputDataWarning)\n"
     ]
    },
    {
     "name": "stdout",
     "output_type": "stream",
     "text": [
      "\n",
      "Batch 11: time = 6.92\n",
      " 1.0012363115783174\n"
     ]
    },
    {
     "name": "stderr",
     "output_type": "stream",
     "text": [
      "C:\\Users\\khcho\\anaconda3\\lib\\site-packages\\botorch\\models\\utils\\assorted.py:173: InputDataWarning: Input data is not contained to the unit cube. Please consider min-max scaling the input data.\n",
      "  warnings.warn(msg, InputDataWarning)\n"
     ]
    },
    {
     "name": "stdout",
     "output_type": "stream",
     "text": [
      "\n",
      "Batch 12: time = 7.39\n",
      " 1.0014358145778501\n"
     ]
    },
    {
     "name": "stderr",
     "output_type": "stream",
     "text": [
      "C:\\Users\\khcho\\anaconda3\\lib\\site-packages\\botorch\\models\\utils\\assorted.py:173: InputDataWarning: Input data is not contained to the unit cube. Please consider min-max scaling the input data.\n",
      "  warnings.warn(msg, InputDataWarning)\n"
     ]
    },
    {
     "name": "stdout",
     "output_type": "stream",
     "text": [
      "\n",
      "Batch 13: time = 6.91\n",
      " 1.0016674036537068\n"
     ]
    },
    {
     "name": "stderr",
     "output_type": "stream",
     "text": [
      "C:\\Users\\khcho\\anaconda3\\lib\\site-packages\\botorch\\models\\utils\\assorted.py:173: InputDataWarning: Input data is not contained to the unit cube. Please consider min-max scaling the input data.\n",
      "  warnings.warn(msg, InputDataWarning)\n"
     ]
    },
    {
     "name": "stdout",
     "output_type": "stream",
     "text": [
      "\n",
      "Batch 14: time = 7.19\n",
      " 1.0019362017203355\n"
     ]
    },
    {
     "name": "stderr",
     "output_type": "stream",
     "text": [
      "C:\\Users\\khcho\\anaconda3\\lib\\site-packages\\botorch\\models\\utils\\assorted.py:173: InputDataWarning: Input data is not contained to the unit cube. Please consider min-max scaling the input data.\n",
      "  warnings.warn(msg, InputDataWarning)\n"
     ]
    },
    {
     "name": "stdout",
     "output_type": "stream",
     "text": [
      "\n",
      "Batch 15: time = 6.86\n",
      " 1.0022481365804705\n"
     ]
    },
    {
     "name": "stderr",
     "output_type": "stream",
     "text": [
      "C:\\Users\\khcho\\anaconda3\\lib\\site-packages\\botorch\\models\\utils\\assorted.py:173: InputDataWarning: Input data is not contained to the unit cube. Please consider min-max scaling the input data.\n",
      "  warnings.warn(msg, InputDataWarning)\n"
     ]
    },
    {
     "name": "stdout",
     "output_type": "stream",
     "text": [
      "\n",
      "Batch 16: time = 8.02\n",
      " 1.0026100628467791\n"
     ]
    },
    {
     "name": "stderr",
     "output_type": "stream",
     "text": [
      "C:\\Users\\khcho\\anaconda3\\lib\\site-packages\\botorch\\models\\utils\\assorted.py:173: InputDataWarning: Input data is not contained to the unit cube. Please consider min-max scaling the input data.\n",
      "  warnings.warn(msg, InputDataWarning)\n"
     ]
    },
    {
     "name": "stdout",
     "output_type": "stream",
     "text": [
      "\n",
      "Batch 17: time = 6.95\n",
      " 1.0030299007457921\n"
     ]
    },
    {
     "name": "stderr",
     "output_type": "stream",
     "text": [
      "C:\\Users\\khcho\\anaconda3\\lib\\site-packages\\botorch\\models\\utils\\assorted.py:173: InputDataWarning: Input data is not contained to the unit cube. Please consider min-max scaling the input data.\n",
      "  warnings.warn(msg, InputDataWarning)\n"
     ]
    },
    {
     "name": "stdout",
     "output_type": "stream",
     "text": [
      "\n",
      "Batch 18: time = 7.62\n",
      " 1.0035167935774976\n"
     ]
    },
    {
     "name": "stderr",
     "output_type": "stream",
     "text": [
      "C:\\Users\\khcho\\anaconda3\\lib\\site-packages\\botorch\\models\\utils\\assorted.py:173: InputDataWarning: Input data is not contained to the unit cube. Please consider min-max scaling the input data.\n",
      "  warnings.warn(msg, InputDataWarning)\n"
     ]
    },
    {
     "name": "stdout",
     "output_type": "stream",
     "text": [
      "\n",
      "Batch 19: time = 6.86\n",
      " 1.00408128557658\n"
     ]
    },
    {
     "name": "stderr",
     "output_type": "stream",
     "text": [
      "C:\\Users\\khcho\\anaconda3\\lib\\site-packages\\botorch\\models\\utils\\assorted.py:173: InputDataWarning: Input data is not contained to the unit cube. Please consider min-max scaling the input data.\n",
      "  warnings.warn(msg, InputDataWarning)\n"
     ]
    },
    {
     "name": "stdout",
     "output_type": "stream",
     "text": [
      "\n",
      "Batch 20: time = 7.89\n",
      " 1.004735521790973\n"
     ]
    },
    {
     "name": "stderr",
     "output_type": "stream",
     "text": [
      "C:\\Users\\khcho\\anaconda3\\lib\\site-packages\\botorch\\models\\utils\\assorted.py:173: InputDataWarning: Input data is not contained to the unit cube. Please consider min-max scaling the input data.\n",
      "  warnings.warn(msg, InputDataWarning)\n"
     ]
    },
    {
     "name": "stdout",
     "output_type": "stream",
     "text": [
      "\n",
      "Batch 21: time = 6.58\n",
      " 1.0054934713152965\n"
     ]
    },
    {
     "name": "stderr",
     "output_type": "stream",
     "text": [
      "C:\\Users\\khcho\\anaconda3\\lib\\site-packages\\botorch\\models\\utils\\assorted.py:173: InputDataWarning: Input data is not contained to the unit cube. Please consider min-max scaling the input data.\n",
      "  warnings.warn(msg, InputDataWarning)\n"
     ]
    },
    {
     "name": "stdout",
     "output_type": "stream",
     "text": [
      "\n",
      "Batch 22: time = 6.89\n",
      " 1.0063711747320558\n"
     ]
    },
    {
     "name": "stderr",
     "output_type": "stream",
     "text": [
      "C:\\Users\\khcho\\anaconda3\\lib\\site-packages\\botorch\\models\\utils\\assorted.py:173: InputDataWarning: Input data is not contained to the unit cube. Please consider min-max scaling the input data.\n",
      "  warnings.warn(msg, InputDataWarning)\n"
     ]
    },
    {
     "name": "stdout",
     "output_type": "stream",
     "text": [
      "\n",
      "Batch 23: time = 7.55\n",
      " 1.0073870158466365\n"
     ]
    },
    {
     "name": "stderr",
     "output_type": "stream",
     "text": [
      "C:\\Users\\khcho\\anaconda3\\lib\\site-packages\\botorch\\models\\utils\\assorted.py:173: InputDataWarning: Input data is not contained to the unit cube. Please consider min-max scaling the input data.\n",
      "  warnings.warn(msg, InputDataWarning)\n"
     ]
    },
    {
     "name": "stdout",
     "output_type": "stream",
     "text": [
      "\n",
      "Batch 24: time = 7.97\n",
      " 1.008562016657864\n"
     ]
    },
    {
     "name": "stderr",
     "output_type": "stream",
     "text": [
      "C:\\Users\\khcho\\anaconda3\\lib\\site-packages\\botorch\\models\\utils\\assorted.py:173: InputDataWarning: Input data is not contained to the unit cube. Please consider min-max scaling the input data.\n",
      "  warnings.warn(msg, InputDataWarning)\n"
     ]
    },
    {
     "name": "stdout",
     "output_type": "stream",
     "text": [
      "\n",
      "Batch 25: time = 6.55\n",
      " 1.0099201528670387\n"
     ]
    },
    {
     "name": "stderr",
     "output_type": "stream",
     "text": [
      "C:\\Users\\khcho\\anaconda3\\lib\\site-packages\\botorch\\models\\utils\\assorted.py:173: InputDataWarning: Input data is not contained to the unit cube. Please consider min-max scaling the input data.\n",
      "  warnings.warn(msg, InputDataWarning)\n"
     ]
    },
    {
     "name": "stdout",
     "output_type": "stream",
     "text": [
      "\n",
      "Batch 26: time = 7.56\n",
      " 1.0114886849550129\n"
     ]
    },
    {
     "name": "stderr",
     "output_type": "stream",
     "text": [
      "C:\\Users\\khcho\\anaconda3\\lib\\site-packages\\botorch\\models\\utils\\assorted.py:173: InputDataWarning: Input data is not contained to the unit cube. Please consider min-max scaling the input data.\n",
      "  warnings.warn(msg, InputDataWarning)\n"
     ]
    },
    {
     "name": "stdout",
     "output_type": "stream",
     "text": [
      "\n",
      "Batch 27: time = 7.73\n",
      " 1.0132984967884329\n"
     ]
    },
    {
     "name": "stderr",
     "output_type": "stream",
     "text": [
      "C:\\Users\\khcho\\anaconda3\\lib\\site-packages\\botorch\\models\\utils\\assorted.py:173: InputDataWarning: Input data is not contained to the unit cube. Please consider min-max scaling the input data.\n",
      "  warnings.warn(msg, InputDataWarning)\n"
     ]
    },
    {
     "name": "stdout",
     "output_type": "stream",
     "text": [
      "\n",
      "Batch 28: time = 7.77\n",
      " 1.0153844296785741\n"
     ]
    },
    {
     "name": "stderr",
     "output_type": "stream",
     "text": [
      "C:\\Users\\khcho\\anaconda3\\lib\\site-packages\\botorch\\models\\utils\\assorted.py:173: InputDataWarning: Input data is not contained to the unit cube. Please consider min-max scaling the input data.\n",
      "  warnings.warn(msg, InputDataWarning)\n"
     ]
    },
    {
     "name": "stdout",
     "output_type": "stream",
     "text": [
      "\n",
      "Batch 29: time = 7.66\n",
      " 1.0177855946363181\n"
     ]
    },
    {
     "name": "stderr",
     "output_type": "stream",
     "text": [
      "C:\\Users\\khcho\\anaconda3\\lib\\site-packages\\botorch\\models\\utils\\assorted.py:173: InputDataWarning: Input data is not contained to the unit cube. Please consider min-max scaling the input data.\n",
      "  warnings.warn(msg, InputDataWarning)\n"
     ]
    },
    {
     "name": "stdout",
     "output_type": "stream",
     "text": [
      "\n",
      "Batch 30: time = 5.92\n",
      " 1.0205456391002325\n"
     ]
    },
    {
     "name": "stderr",
     "output_type": "stream",
     "text": [
      "C:\\Users\\khcho\\anaconda3\\lib\\site-packages\\botorch\\models\\utils\\assorted.py:173: InputDataWarning: Input data is not contained to the unit cube. Please consider min-max scaling the input data.\n",
      "  warnings.warn(msg, InputDataWarning)\n"
     ]
    },
    {
     "name": "stdout",
     "output_type": "stream",
     "text": [
      "\n",
      "Batch 31: time = 8.00\n",
      " 1.0237129365887834\n"
     ]
    },
    {
     "name": "stderr",
     "output_type": "stream",
     "text": [
      "C:\\Users\\khcho\\anaconda3\\lib\\site-packages\\botorch\\models\\utils\\assorted.py:173: InputDataWarning: Input data is not contained to the unit cube. Please consider min-max scaling the input data.\n",
      "  warnings.warn(msg, InputDataWarning)\n"
     ]
    },
    {
     "name": "stdout",
     "output_type": "stream",
     "text": [
      "\n",
      "Batch 32: time = 7.36\n",
      " 1.0273406586079703\n"
     ]
    },
    {
     "name": "stderr",
     "output_type": "stream",
     "text": [
      "C:\\Users\\khcho\\anaconda3\\lib\\site-packages\\botorch\\models\\utils\\assorted.py:173: InputDataWarning: Input data is not contained to the unit cube. Please consider min-max scaling the input data.\n",
      "  warnings.warn(msg, InputDataWarning)\n"
     ]
    },
    {
     "name": "stdout",
     "output_type": "stream",
     "text": [
      "\n",
      "Batch 33: time = 7.44\n",
      " 1.0314866780284984\n"
     ]
    },
    {
     "name": "stderr",
     "output_type": "stream",
     "text": [
      "C:\\Users\\khcho\\anaconda3\\lib\\site-packages\\botorch\\models\\utils\\assorted.py:173: InputDataWarning: Input data is not contained to the unit cube. Please consider min-max scaling the input data.\n",
      "  warnings.warn(msg, InputDataWarning)\n"
     ]
    },
    {
     "name": "stdout",
     "output_type": "stream",
     "text": [
      "\n",
      "Batch 34: time = 6.84\n",
      " 1.0362132426807589\n"
     ]
    },
    {
     "name": "stderr",
     "output_type": "stream",
     "text": [
      "C:\\Users\\khcho\\anaconda3\\lib\\site-packages\\botorch\\models\\utils\\assorted.py:173: InputDataWarning: Input data is not contained to the unit cube. Please consider min-max scaling the input data.\n",
      "  warnings.warn(msg, InputDataWarning)\n"
     ]
    },
    {
     "name": "stdout",
     "output_type": "stream",
     "text": [
      "\n",
      "Batch 35: time = 7.59\n",
      " 1.0415863482469612\n"
     ]
    },
    {
     "name": "stderr",
     "output_type": "stream",
     "text": [
      "C:\\Users\\khcho\\anaconda3\\lib\\site-packages\\botorch\\models\\utils\\assorted.py:173: InputDataWarning: Input data is not contained to the unit cube. Please consider min-max scaling the input data.\n",
      "  warnings.warn(msg, InputDataWarning)\n"
     ]
    },
    {
     "name": "stdout",
     "output_type": "stream",
     "text": [
      "\n",
      "Batch 36: time = 6.06\n",
      " 1.0476747324495548\n"
     ]
    },
    {
     "name": "stderr",
     "output_type": "stream",
     "text": [
      "C:\\Users\\khcho\\anaconda3\\lib\\site-packages\\botorch\\models\\utils\\assorted.py:173: InputDataWarning: Input data is not contained to the unit cube. Please consider min-max scaling the input data.\n",
      "  warnings.warn(msg, InputDataWarning)\n"
     ]
    },
    {
     "name": "stdout",
     "output_type": "stream",
     "text": [
      "\n",
      "Batch 37: time = 7.94\n",
      " 1.0545484105978065\n"
     ]
    },
    {
     "name": "stderr",
     "output_type": "stream",
     "text": [
      "C:\\Users\\khcho\\anaconda3\\lib\\site-packages\\botorch\\models\\utils\\assorted.py:173: InputDataWarning: Input data is not contained to the unit cube. Please consider min-max scaling the input data.\n",
      "  warnings.warn(msg, InputDataWarning)\n"
     ]
    },
    {
     "name": "stdout",
     "output_type": "stream",
     "text": [
      "\n",
      "Batch 38: time = 6.91\n",
      " 1.0622766790937082\n"
     ]
    },
    {
     "name": "stderr",
     "output_type": "stream",
     "text": [
      "C:\\Users\\khcho\\anaconda3\\lib\\site-packages\\botorch\\models\\utils\\assorted.py:173: InputDataWarning: Input data is not contained to the unit cube. Please consider min-max scaling the input data.\n",
      "  warnings.warn(msg, InputDataWarning)\n"
     ]
    },
    {
     "name": "stdout",
     "output_type": "stream",
     "text": [
      "\n",
      "Batch 39: time = 6.25\n",
      " 1.0709255324502438\n"
     ]
    },
    {
     "name": "stderr",
     "output_type": "stream",
     "text": [
      "C:\\Users\\khcho\\anaconda3\\lib\\site-packages\\botorch\\models\\utils\\assorted.py:173: InputDataWarning: Input data is not contained to the unit cube. Please consider min-max scaling the input data.\n",
      "  warnings.warn(msg, InputDataWarning)\n"
     ]
    },
    {
     "name": "stdout",
     "output_type": "stream",
     "text": [
      "\n",
      "Batch 40: time = 6.81\n",
      " 1.0805544747882927\n"
     ]
    },
    {
     "name": "stderr",
     "output_type": "stream",
     "text": [
      "C:\\Users\\khcho\\anaconda3\\lib\\site-packages\\botorch\\models\\utils\\assorted.py:173: InputDataWarning: Input data is not contained to the unit cube. Please consider min-max scaling the input data.\n",
      "  warnings.warn(msg, InputDataWarning)\n"
     ]
    },
    {
     "name": "stdout",
     "output_type": "stream",
     "text": [
      "\n",
      "Batch 41: time = 6.89\n",
      " 1.0912127619031782\n"
     ]
    },
    {
     "name": "stderr",
     "output_type": "stream",
     "text": [
      "C:\\Users\\khcho\\anaconda3\\lib\\site-packages\\botorch\\models\\utils\\assorted.py:173: InputDataWarning: Input data is not contained to the unit cube. Please consider min-max scaling the input data.\n",
      "  warnings.warn(msg, InputDataWarning)\n"
     ]
    },
    {
     "name": "stdout",
     "output_type": "stream",
     "text": [
      "\n",
      "Batch 42: time = 6.31\n",
      " 1.1029351859004737\n"
     ]
    },
    {
     "name": "stderr",
     "output_type": "stream",
     "text": [
      "C:\\Users\\khcho\\anaconda3\\lib\\site-packages\\botorch\\models\\utils\\assorted.py:173: InputDataWarning: Input data is not contained to the unit cube. Please consider min-max scaling the input data.\n",
      "  warnings.warn(msg, InputDataWarning)\n"
     ]
    },
    {
     "name": "stdout",
     "output_type": "stream",
     "text": [
      "\n",
      "Batch 43: time = 7.52\n",
      " 1.1157376082504913\n"
     ]
    },
    {
     "name": "stderr",
     "output_type": "stream",
     "text": [
      "C:\\Users\\khcho\\anaconda3\\lib\\site-packages\\botorch\\models\\utils\\assorted.py:173: InputDataWarning: Input data is not contained to the unit cube. Please consider min-max scaling the input data.\n",
      "  warnings.warn(msg, InputDataWarning)\n"
     ]
    },
    {
     "name": "stdout",
     "output_type": "stream",
     "text": [
      "\n",
      "Batch 44: time = 7.89\n",
      " 1.129612550408923\n"
     ]
    },
    {
     "name": "stderr",
     "output_type": "stream",
     "text": [
      "C:\\Users\\khcho\\anaconda3\\lib\\site-packages\\botorch\\models\\utils\\assorted.py:173: InputDataWarning: Input data is not contained to the unit cube. Please consider min-max scaling the input data.\n",
      "  warnings.warn(msg, InputDataWarning)\n"
     ]
    },
    {
     "name": "stdout",
     "output_type": "stream",
     "text": [
      "\n",
      "Batch 45: time = 7.41\n",
      " 1.144525248687498\n"
     ]
    },
    {
     "name": "stderr",
     "output_type": "stream",
     "text": [
      "C:\\Users\\khcho\\anaconda3\\lib\\site-packages\\botorch\\models\\utils\\assorted.py:173: InputDataWarning: Input data is not contained to the unit cube. Please consider min-max scaling the input data.\n",
      "  warnings.warn(msg, InputDataWarning)\n"
     ]
    },
    {
     "name": "stdout",
     "output_type": "stream",
     "text": [
      "\n",
      "Batch 46: time = 8.00\n",
      " 1.1604106504123035\n"
     ]
    },
    {
     "name": "stderr",
     "output_type": "stream",
     "text": [
      "C:\\Users\\khcho\\anaconda3\\lib\\site-packages\\botorch\\models\\utils\\assorted.py:173: InputDataWarning: Input data is not contained to the unit cube. Please consider min-max scaling the input data.\n",
      "  warnings.warn(msg, InputDataWarning)\n"
     ]
    },
    {
     "name": "stdout",
     "output_type": "stream",
     "text": [
      "\n",
      "Batch 47: time = 8.88\n",
      " 1.1771718468871022\n"
     ]
    },
    {
     "name": "stderr",
     "output_type": "stream",
     "text": [
      "C:\\Users\\khcho\\anaconda3\\lib\\site-packages\\botorch\\models\\utils\\assorted.py:173: InputDataWarning: Input data is not contained to the unit cube. Please consider min-max scaling the input data.\n",
      "  warnings.warn(msg, InputDataWarning)\n"
     ]
    },
    {
     "name": "stdout",
     "output_type": "stream",
     "text": [
      "\n",
      "Batch 48: time = 6.81\n",
      " 1.194680383025389\n"
     ]
    },
    {
     "name": "stderr",
     "output_type": "stream",
     "text": [
      "C:\\Users\\khcho\\anaconda3\\lib\\site-packages\\botorch\\models\\utils\\assorted.py:173: InputDataWarning: Input data is not contained to the unit cube. Please consider min-max scaling the input data.\n",
      "  warnings.warn(msg, InputDataWarning)\n"
     ]
    },
    {
     "name": "stdout",
     "output_type": "stream",
     "text": [
      "\n",
      "Batch 49: time = 7.56\n",
      " 1.2127787415941704\n"
     ]
    },
    {
     "name": "stderr",
     "output_type": "stream",
     "text": [
      "C:\\Users\\khcho\\anaconda3\\lib\\site-packages\\botorch\\models\\utils\\assorted.py:173: InputDataWarning: Input data is not contained to the unit cube. Please consider min-max scaling the input data.\n",
      "  warnings.warn(msg, InputDataWarning)\n"
     ]
    },
    {
     "name": "stdout",
     "output_type": "stream",
     "text": [
      "\n",
      "Batch 50: time = 7.16\n",
      " 1.2312850773281252\n"
     ]
    },
    {
     "name": "stderr",
     "output_type": "stream",
     "text": [
      "C:\\Users\\khcho\\anaconda3\\lib\\site-packages\\botorch\\models\\utils\\assorted.py:173: InputDataWarning: Input data is not contained to the unit cube. Please consider min-max scaling the input data.\n",
      "  warnings.warn(msg, InputDataWarning)\n"
     ]
    },
    {
     "name": "stdout",
     "output_type": "stream",
     "text": [
      "\n",
      "Batch 51: time = 19.61\n",
      " 1.25\n"
     ]
    },
    {
     "name": "stderr",
     "output_type": "stream",
     "text": [
      "C:\\Users\\khcho\\anaconda3\\lib\\site-packages\\botorch\\models\\utils\\assorted.py:173: InputDataWarning: Input data is not contained to the unit cube. Please consider min-max scaling the input data.\n",
      "  warnings.warn(msg, InputDataWarning)\n"
     ]
    },
    {
     "name": "stdout",
     "output_type": "stream",
     "text": [
      "\n",
      "Batch 52: time = 4.91\n",
      " 1.2687149226718748\n"
     ]
    },
    {
     "name": "stderr",
     "output_type": "stream",
     "text": [
      "C:\\Users\\khcho\\anaconda3\\lib\\site-packages\\botorch\\models\\utils\\assorted.py:173: InputDataWarning: Input data is not contained to the unit cube. Please consider min-max scaling the input data.\n",
      "  warnings.warn(msg, InputDataWarning)\n"
     ]
    },
    {
     "name": "stdout",
     "output_type": "stream",
     "text": [
      "\n",
      "Batch 53: time = 4.53\n",
      " 1.2872212584058296\n"
     ]
    },
    {
     "name": "stderr",
     "output_type": "stream",
     "text": [
      "C:\\Users\\khcho\\anaconda3\\lib\\site-packages\\botorch\\models\\utils\\assorted.py:173: InputDataWarning: Input data is not contained to the unit cube. Please consider min-max scaling the input data.\n",
      "  warnings.warn(msg, InputDataWarning)\n"
     ]
    },
    {
     "name": "stdout",
     "output_type": "stream",
     "text": [
      "\n",
      "Batch 54: time = 4.59\n",
      " 1.305319616974611\n"
     ]
    },
    {
     "name": "stderr",
     "output_type": "stream",
     "text": [
      "C:\\Users\\khcho\\anaconda3\\lib\\site-packages\\botorch\\models\\utils\\assorted.py:173: InputDataWarning: Input data is not contained to the unit cube. Please consider min-max scaling the input data.\n",
      "  warnings.warn(msg, InputDataWarning)\n"
     ]
    },
    {
     "name": "stdout",
     "output_type": "stream",
     "text": [
      "\n",
      "Batch 55: time = 4.77\n",
      " 1.3228281531128978\n"
     ]
    },
    {
     "name": "stderr",
     "output_type": "stream",
     "text": [
      "C:\\Users\\khcho\\anaconda3\\lib\\site-packages\\botorch\\models\\utils\\assorted.py:173: InputDataWarning: Input data is not contained to the unit cube. Please consider min-max scaling the input data.\n",
      "  warnings.warn(msg, InputDataWarning)\n"
     ]
    },
    {
     "name": "stdout",
     "output_type": "stream",
     "text": [
      "\n",
      "Batch 56: time = 4.77\n",
      " 1.3395893495876965\n"
     ]
    },
    {
     "name": "stderr",
     "output_type": "stream",
     "text": [
      "C:\\Users\\khcho\\anaconda3\\lib\\site-packages\\botorch\\models\\utils\\assorted.py:173: InputDataWarning: Input data is not contained to the unit cube. Please consider min-max scaling the input data.\n",
      "  warnings.warn(msg, InputDataWarning)\n"
     ]
    },
    {
     "name": "stdout",
     "output_type": "stream",
     "text": [
      "\n",
      "Batch 57: time = 5.05\n",
      " 1.355474751312502\n"
     ]
    },
    {
     "name": "stderr",
     "output_type": "stream",
     "text": [
      "C:\\Users\\khcho\\anaconda3\\lib\\site-packages\\botorch\\models\\utils\\assorted.py:173: InputDataWarning: Input data is not contained to the unit cube. Please consider min-max scaling the input data.\n",
      "  warnings.warn(msg, InputDataWarning)\n"
     ]
    },
    {
     "name": "stdout",
     "output_type": "stream",
     "text": [
      "\n",
      "Batch 58: time = 4.89\n",
      " 1.370387449591077\n"
     ]
    },
    {
     "name": "stderr",
     "output_type": "stream",
     "text": [
      "C:\\Users\\khcho\\anaconda3\\lib\\site-packages\\botorch\\models\\utils\\assorted.py:173: InputDataWarning: Input data is not contained to the unit cube. Please consider min-max scaling the input data.\n",
      "  warnings.warn(msg, InputDataWarning)\n"
     ]
    },
    {
     "name": "stdout",
     "output_type": "stream",
     "text": [
      "\n",
      "Batch 59: time = 4.80\n",
      " 1.3842623917495087\n"
     ]
    },
    {
     "name": "stderr",
     "output_type": "stream",
     "text": [
      "C:\\Users\\khcho\\anaconda3\\lib\\site-packages\\botorch\\models\\utils\\assorted.py:173: InputDataWarning: Input data is not contained to the unit cube. Please consider min-max scaling the input data.\n",
      "  warnings.warn(msg, InputDataWarning)\n"
     ]
    },
    {
     "name": "stdout",
     "output_type": "stream",
     "text": [
      "\n",
      "Batch 60: time = 4.89\n",
      " 1.3970648140995263\n"
     ]
    },
    {
     "name": "stderr",
     "output_type": "stream",
     "text": [
      "C:\\Users\\khcho\\anaconda3\\lib\\site-packages\\botorch\\models\\utils\\assorted.py:173: InputDataWarning: Input data is not contained to the unit cube. Please consider min-max scaling the input data.\n",
      "  warnings.warn(msg, InputDataWarning)\n"
     ]
    },
    {
     "name": "stdout",
     "output_type": "stream",
     "text": [
      "\n",
      "Batch 61: time = 4.89\n",
      " 1.4087872380968218\n"
     ]
    },
    {
     "name": "stderr",
     "output_type": "stream",
     "text": [
      "C:\\Users\\khcho\\anaconda3\\lib\\site-packages\\botorch\\models\\utils\\assorted.py:173: InputDataWarning: Input data is not contained to the unit cube. Please consider min-max scaling the input data.\n",
      "  warnings.warn(msg, InputDataWarning)\n"
     ]
    },
    {
     "name": "stdout",
     "output_type": "stream",
     "text": [
      "\n",
      "Batch 62: time = 5.33\n",
      " 1.4194455252117073\n"
     ]
    },
    {
     "name": "stderr",
     "output_type": "stream",
     "text": [
      "C:\\Users\\khcho\\anaconda3\\lib\\site-packages\\botorch\\models\\utils\\assorted.py:173: InputDataWarning: Input data is not contained to the unit cube. Please consider min-max scaling the input data.\n",
      "  warnings.warn(msg, InputDataWarning)\n"
     ]
    },
    {
     "name": "stdout",
     "output_type": "stream",
     "text": [
      "\n",
      "Batch 63: time = 4.77\n",
      " 1.4290744675497562\n"
     ]
    },
    {
     "name": "stderr",
     "output_type": "stream",
     "text": [
      "C:\\Users\\khcho\\anaconda3\\lib\\site-packages\\botorch\\models\\utils\\assorted.py:173: InputDataWarning: Input data is not contained to the unit cube. Please consider min-max scaling the input data.\n",
      "  warnings.warn(msg, InputDataWarning)\n"
     ]
    },
    {
     "name": "stdout",
     "output_type": "stream",
     "text": [
      "\n",
      "Batch 64: time = 4.97\n",
      " 1.4377233209062918\n"
     ]
    },
    {
     "name": "stderr",
     "output_type": "stream",
     "text": [
      "C:\\Users\\khcho\\anaconda3\\lib\\site-packages\\botorch\\models\\utils\\assorted.py:173: InputDataWarning: Input data is not contained to the unit cube. Please consider min-max scaling the input data.\n",
      "  warnings.warn(msg, InputDataWarning)\n"
     ]
    },
    {
     "name": "stdout",
     "output_type": "stream",
     "text": [
      "\n",
      "Batch 65: time = 4.98\n",
      " 1.4454515894021935\n"
     ]
    },
    {
     "name": "stderr",
     "output_type": "stream",
     "text": [
      "C:\\Users\\khcho\\anaconda3\\lib\\site-packages\\botorch\\models\\utils\\assorted.py:173: InputDataWarning: Input data is not contained to the unit cube. Please consider min-max scaling the input data.\n",
      "  warnings.warn(msg, InputDataWarning)\n"
     ]
    },
    {
     "name": "stdout",
     "output_type": "stream",
     "text": [
      "\n",
      "Batch 66: time = 4.94\n",
      " 1.4523252675504452\n"
     ]
    },
    {
     "name": "stderr",
     "output_type": "stream",
     "text": [
      "C:\\Users\\khcho\\anaconda3\\lib\\site-packages\\botorch\\models\\utils\\assorted.py:173: InputDataWarning: Input data is not contained to the unit cube. Please consider min-max scaling the input data.\n",
      "  warnings.warn(msg, InputDataWarning)\n"
     ]
    },
    {
     "name": "stdout",
     "output_type": "stream",
     "text": [
      "\n",
      "Batch 67: time = 4.84\n",
      " 1.4584136517530388\n"
     ]
    },
    {
     "name": "stderr",
     "output_type": "stream",
     "text": [
      "C:\\Users\\khcho\\anaconda3\\lib\\site-packages\\botorch\\models\\utils\\assorted.py:173: InputDataWarning: Input data is not contained to the unit cube. Please consider min-max scaling the input data.\n",
      "  warnings.warn(msg, InputDataWarning)\n"
     ]
    },
    {
     "name": "stdout",
     "output_type": "stream",
     "text": [
      "\n",
      "Batch 68: time = 4.88\n",
      " 1.4637867573192411\n"
     ]
    },
    {
     "name": "stderr",
     "output_type": "stream",
     "text": [
      "C:\\Users\\khcho\\anaconda3\\lib\\site-packages\\botorch\\models\\utils\\assorted.py:173: InputDataWarning: Input data is not contained to the unit cube. Please consider min-max scaling the input data.\n",
      "  warnings.warn(msg, InputDataWarning)\n"
     ]
    },
    {
     "name": "stdout",
     "output_type": "stream",
     "text": [
      "\n",
      "Batch 69: time = 5.06\n",
      " 1.4685133219715016\n"
     ]
    },
    {
     "name": "stderr",
     "output_type": "stream",
     "text": [
      "C:\\Users\\khcho\\anaconda3\\lib\\site-packages\\botorch\\models\\utils\\assorted.py:173: InputDataWarning: Input data is not contained to the unit cube. Please consider min-max scaling the input data.\n",
      "  warnings.warn(msg, InputDataWarning)\n"
     ]
    },
    {
     "name": "stdout",
     "output_type": "stream",
     "text": [
      "\n",
      "Batch 70: time = 82.47\n",
      " 1.4726593413920295\n"
     ]
    },
    {
     "name": "stderr",
     "output_type": "stream",
     "text": [
      "C:\\Users\\khcho\\anaconda3\\lib\\site-packages\\botorch\\models\\utils\\assorted.py:173: InputDataWarning: Input data is not contained to the unit cube. Please consider min-max scaling the input data.\n",
      "  warnings.warn(msg, InputDataWarning)\n"
     ]
    },
    {
     "name": "stdout",
     "output_type": "stream",
     "text": [
      "\n",
      "Batch 71: time = 5.44\n",
      " 1.4762870634112166\n"
     ]
    },
    {
     "name": "stderr",
     "output_type": "stream",
     "text": [
      "C:\\Users\\khcho\\anaconda3\\lib\\site-packages\\botorch\\models\\utils\\assorted.py:173: InputDataWarning: Input data is not contained to the unit cube. Please consider min-max scaling the input data.\n",
      "  warnings.warn(msg, InputDataWarning)\n"
     ]
    },
    {
     "name": "stdout",
     "output_type": "stream",
     "text": [
      "\n",
      "Batch 72: time = 5.36\n",
      " 1.4794543608997675\n"
     ]
    },
    {
     "name": "stderr",
     "output_type": "stream",
     "text": [
      "C:\\Users\\khcho\\anaconda3\\lib\\site-packages\\botorch\\models\\utils\\assorted.py:173: InputDataWarning: Input data is not contained to the unit cube. Please consider min-max scaling the input data.\n",
      "  warnings.warn(msg, InputDataWarning)\n"
     ]
    },
    {
     "name": "stdout",
     "output_type": "stream",
     "text": [
      "\n",
      "Batch 73: time = 5.03\n",
      " 1.4822144053636819\n"
     ]
    },
    {
     "name": "stderr",
     "output_type": "stream",
     "text": [
      "C:\\Users\\khcho\\anaconda3\\lib\\site-packages\\botorch\\models\\utils\\assorted.py:173: InputDataWarning: Input data is not contained to the unit cube. Please consider min-max scaling the input data.\n",
      "  warnings.warn(msg, InputDataWarning)\n"
     ]
    },
    {
     "name": "stdout",
     "output_type": "stream",
     "text": [
      "\n",
      "Batch 74: time = 4.81\n",
      " 1.4846155703214259\n"
     ]
    },
    {
     "name": "stderr",
     "output_type": "stream",
     "text": [
      "C:\\Users\\khcho\\anaconda3\\lib\\site-packages\\botorch\\models\\utils\\assorted.py:173: InputDataWarning: Input data is not contained to the unit cube. Please consider min-max scaling the input data.\n",
      "  warnings.warn(msg, InputDataWarning)\n"
     ]
    },
    {
     "name": "stdout",
     "output_type": "stream",
     "text": [
      "\n",
      "Batch 75: time = 4.94\n",
      " 1.4867015032115671\n"
     ]
    },
    {
     "name": "stderr",
     "output_type": "stream",
     "text": [
      "C:\\Users\\khcho\\anaconda3\\lib\\site-packages\\botorch\\models\\utils\\assorted.py:173: InputDataWarning: Input data is not contained to the unit cube. Please consider min-max scaling the input data.\n",
      "  warnings.warn(msg, InputDataWarning)\n"
     ]
    },
    {
     "name": "stdout",
     "output_type": "stream",
     "text": [
      "\n",
      "Batch 76: time = 5.17\n",
      " 1.4885113150449871\n"
     ]
    },
    {
     "name": "stderr",
     "output_type": "stream",
     "text": [
      "C:\\Users\\khcho\\anaconda3\\lib\\site-packages\\botorch\\models\\utils\\assorted.py:173: InputDataWarning: Input data is not contained to the unit cube. Please consider min-max scaling the input data.\n",
      "  warnings.warn(msg, InputDataWarning)\n"
     ]
    },
    {
     "name": "stdout",
     "output_type": "stream",
     "text": [
      "\n",
      "Batch 77: time = 5.48\n",
      " 1.4900798471329613\n"
     ]
    },
    {
     "name": "stderr",
     "output_type": "stream",
     "text": [
      "C:\\Users\\khcho\\anaconda3\\lib\\site-packages\\botorch\\models\\utils\\assorted.py:173: InputDataWarning: Input data is not contained to the unit cube. Please consider min-max scaling the input data.\n",
      "  warnings.warn(msg, InputDataWarning)\n"
     ]
    },
    {
     "name": "stdout",
     "output_type": "stream",
     "text": [
      "\n",
      "Batch 78: time = 4.92\n",
      " 1.491437983342136\n"
     ]
    },
    {
     "name": "stderr",
     "output_type": "stream",
     "text": [
      "C:\\Users\\khcho\\anaconda3\\lib\\site-packages\\botorch\\models\\utils\\assorted.py:173: InputDataWarning: Input data is not contained to the unit cube. Please consider min-max scaling the input data.\n",
      "  warnings.warn(msg, InputDataWarning)\n"
     ]
    },
    {
     "name": "stdout",
     "output_type": "stream",
     "text": [
      "\n",
      "Batch 79: time = 4.76\n",
      " 1.4926129841533635\n"
     ]
    },
    {
     "name": "stderr",
     "output_type": "stream",
     "text": [
      "C:\\Users\\khcho\\anaconda3\\lib\\site-packages\\botorch\\models\\utils\\assorted.py:173: InputDataWarning: Input data is not contained to the unit cube. Please consider min-max scaling the input data.\n",
      "  warnings.warn(msg, InputDataWarning)\n"
     ]
    },
    {
     "name": "stdout",
     "output_type": "stream",
     "text": [
      "\n",
      "Batch 80: time = 4.91\n",
      " 1.4936288252679442\n"
     ]
    },
    {
     "name": "stderr",
     "output_type": "stream",
     "text": [
      "C:\\Users\\khcho\\anaconda3\\lib\\site-packages\\botorch\\models\\utils\\assorted.py:173: InputDataWarning: Input data is not contained to the unit cube. Please consider min-max scaling the input data.\n",
      "  warnings.warn(msg, InputDataWarning)\n"
     ]
    },
    {
     "name": "stdout",
     "output_type": "stream",
     "text": [
      "\n",
      "Batch 81: time = 60.17\n",
      " 1.4945065286847035\n"
     ]
    },
    {
     "name": "stderr",
     "output_type": "stream",
     "text": [
      "C:\\Users\\khcho\\anaconda3\\lib\\site-packages\\botorch\\models\\utils\\assorted.py:173: InputDataWarning: Input data is not contained to the unit cube. Please consider min-max scaling the input data.\n",
      "  warnings.warn(msg, InputDataWarning)\n"
     ]
    },
    {
     "name": "stdout",
     "output_type": "stream",
     "text": [
      "\n",
      "Batch 82: time = 5.17\n",
      " 1.495264478209027\n"
     ]
    },
    {
     "name": "stderr",
     "output_type": "stream",
     "text": [
      "C:\\Users\\khcho\\anaconda3\\lib\\site-packages\\botorch\\models\\utils\\assorted.py:173: InputDataWarning: Input data is not contained to the unit cube. Please consider min-max scaling the input data.\n",
      "  warnings.warn(msg, InputDataWarning)\n"
     ]
    },
    {
     "name": "stdout",
     "output_type": "stream",
     "text": [
      "\n",
      "Batch 83: time = 5.39\n",
      " 1.49591871442342\n"
     ]
    },
    {
     "name": "stderr",
     "output_type": "stream",
     "text": [
      "C:\\Users\\khcho\\anaconda3\\lib\\site-packages\\botorch\\models\\utils\\assorted.py:173: InputDataWarning: Input data is not contained to the unit cube. Please consider min-max scaling the input data.\n",
      "  warnings.warn(msg, InputDataWarning)\n"
     ]
    },
    {
     "name": "stdout",
     "output_type": "stream",
     "text": [
      "\n",
      "Batch 84: time = 5.30\n",
      " 1.4964832064225024\n"
     ]
    },
    {
     "name": "stderr",
     "output_type": "stream",
     "text": [
      "C:\\Users\\khcho\\anaconda3\\lib\\site-packages\\botorch\\models\\utils\\assorted.py:173: InputDataWarning: Input data is not contained to the unit cube. Please consider min-max scaling the input data.\n",
      "  warnings.warn(msg, InputDataWarning)\n"
     ]
    },
    {
     "name": "stdout",
     "output_type": "stream",
     "text": [
      "\n",
      "Batch 85: time = 5.48\n",
      " 1.4969700992542079\n"
     ]
    },
    {
     "name": "stderr",
     "output_type": "stream",
     "text": [
      "C:\\Users\\khcho\\anaconda3\\lib\\site-packages\\botorch\\models\\utils\\assorted.py:173: InputDataWarning: Input data is not contained to the unit cube. Please consider min-max scaling the input data.\n",
      "  warnings.warn(msg, InputDataWarning)\n"
     ]
    },
    {
     "name": "stdout",
     "output_type": "stream",
     "text": [
      "\n",
      "Batch 86: time = 5.41\n",
      " 1.4973899371532209\n"
     ]
    },
    {
     "name": "stderr",
     "output_type": "stream",
     "text": [
      "C:\\Users\\khcho\\anaconda3\\lib\\site-packages\\botorch\\models\\utils\\assorted.py:173: InputDataWarning: Input data is not contained to the unit cube. Please consider min-max scaling the input data.\n",
      "  warnings.warn(msg, InputDataWarning)\n"
     ]
    },
    {
     "name": "stdout",
     "output_type": "stream",
     "text": [
      "\n",
      "Batch 87: time = 5.00\n",
      " 1.4977518634195295\n"
     ]
    },
    {
     "name": "stderr",
     "output_type": "stream",
     "text": [
      "C:\\Users\\khcho\\anaconda3\\lib\\site-packages\\botorch\\models\\utils\\assorted.py:173: InputDataWarning: Input data is not contained to the unit cube. Please consider min-max scaling the input data.\n",
      "  warnings.warn(msg, InputDataWarning)\n"
     ]
    },
    {
     "name": "stdout",
     "output_type": "stream",
     "text": [
      "\n",
      "Batch 88: time = 5.03\n",
      " 1.4980637982796645\n"
     ]
    },
    {
     "name": "stderr",
     "output_type": "stream",
     "text": [
      "C:\\Users\\khcho\\anaconda3\\lib\\site-packages\\botorch\\models\\utils\\assorted.py:173: InputDataWarning: Input data is not contained to the unit cube. Please consider min-max scaling the input data.\n",
      "  warnings.warn(msg, InputDataWarning)\n"
     ]
    },
    {
     "name": "stdout",
     "output_type": "stream",
     "text": [
      "\n",
      "Batch 89: time = 5.06\n",
      " 1.4983325963462932\n"
     ]
    },
    {
     "name": "stderr",
     "output_type": "stream",
     "text": [
      "C:\\Users\\khcho\\anaconda3\\lib\\site-packages\\botorch\\models\\utils\\assorted.py:173: InputDataWarning: Input data is not contained to the unit cube. Please consider min-max scaling the input data.\n",
      "  warnings.warn(msg, InputDataWarning)\n"
     ]
    },
    {
     "name": "stdout",
     "output_type": "stream",
     "text": [
      "\n",
      "Batch 90: time = 5.30\n",
      " 1.4985641854221496\n"
     ]
    },
    {
     "name": "stderr",
     "output_type": "stream",
     "text": [
      "C:\\Users\\khcho\\anaconda3\\lib\\site-packages\\botorch\\models\\utils\\assorted.py:173: InputDataWarning: Input data is not contained to the unit cube. Please consider min-max scaling the input data.\n",
      "  warnings.warn(msg, InputDataWarning)\n"
     ]
    },
    {
     "name": "stdout",
     "output_type": "stream",
     "text": [
      "\n",
      "Batch 91: time = 5.11\n",
      " 1.4987636884216826\n"
     ]
    },
    {
     "name": "stderr",
     "output_type": "stream",
     "text": [
      "C:\\Users\\khcho\\anaconda3\\lib\\site-packages\\botorch\\models\\utils\\assorted.py:173: InputDataWarning: Input data is not contained to the unit cube. Please consider min-max scaling the input data.\n",
      "  warnings.warn(msg, InputDataWarning)\n"
     ]
    },
    {
     "name": "stdout",
     "output_type": "stream",
     "text": [
      "\n",
      "Batch 92: time = 5.01\n",
      " 1.4989355301420177\n"
     ]
    },
    {
     "name": "stderr",
     "output_type": "stream",
     "text": [
      "C:\\Users\\khcho\\anaconda3\\lib\\site-packages\\botorch\\models\\utils\\assorted.py:173: InputDataWarning: Input data is not contained to the unit cube. Please consider min-max scaling the input data.\n",
      "  warnings.warn(msg, InputDataWarning)\n"
     ]
    },
    {
     "name": "stdout",
     "output_type": "stream",
     "text": [
      "\n",
      "Batch 93: time = 349.59\n",
      " 1.4990835305287535\n"
     ]
    },
    {
     "name": "stderr",
     "output_type": "stream",
     "text": [
      "C:\\Users\\khcho\\anaconda3\\lib\\site-packages\\botorch\\models\\utils\\assorted.py:173: InputDataWarning: Input data is not contained to the unit cube. Please consider min-max scaling the input data.\n",
      "  warnings.warn(msg, InputDataWarning)\n"
     ]
    },
    {
     "name": "stdout",
     "output_type": "stream",
     "text": [
      "\n",
      "Batch 94: time = 83.45\n",
      " 1.499210985969798\n"
     ]
    },
    {
     "name": "stderr",
     "output_type": "stream",
     "text": [
      "C:\\Users\\khcho\\anaconda3\\lib\\site-packages\\botorch\\models\\utils\\assorted.py:173: InputDataWarning: Input data is not contained to the unit cube. Please consider min-max scaling the input data.\n",
      "  warnings.warn(msg, InputDataWarning)\n"
     ]
    },
    {
     "name": "stdout",
     "output_type": "stream",
     "text": [
      "\n",
      "Batch 95: time = 4.91\n",
      " 1.4993207400247854\n"
     ]
    },
    {
     "name": "stderr",
     "output_type": "stream",
     "text": [
      "C:\\Users\\khcho\\anaconda3\\lib\\site-packages\\botorch\\models\\utils\\assorted.py:173: InputDataWarning: Input data is not contained to the unit cube. Please consider min-max scaling the input data.\n",
      "  warnings.warn(msg, InputDataWarning)\n"
     ]
    },
    {
     "name": "stdout",
     "output_type": "stream",
     "text": [
      "\n",
      "Batch 96: time = 4.91\n",
      " 1.4994152448674722\n"
     ]
    },
    {
     "name": "stderr",
     "output_type": "stream",
     "text": [
      "C:\\Users\\khcho\\anaconda3\\lib\\site-packages\\botorch\\models\\utils\\assorted.py:173: InputDataWarning: Input data is not contained to the unit cube. Please consider min-max scaling the input data.\n",
      "  warnings.warn(msg, InputDataWarning)\n"
     ]
    },
    {
     "name": "stdout",
     "output_type": "stream",
     "text": [
      "\n",
      "Batch 97: time = 4.97\n",
      " 1.4994966145899573\n"
     ]
    },
    {
     "name": "stderr",
     "output_type": "stream",
     "text": [
      "C:\\Users\\khcho\\anaconda3\\lib\\site-packages\\botorch\\models\\utils\\assorted.py:173: InputDataWarning: Input data is not contained to the unit cube. Please consider min-max scaling the input data.\n",
      "  warnings.warn(msg, InputDataWarning)\n"
     ]
    },
    {
     "name": "stdout",
     "output_type": "stream",
     "text": [
      "\n",
      "Batch 98: time = 5.05\n",
      " 1.4995666713944604\n"
     ]
    },
    {
     "name": "stderr",
     "output_type": "stream",
     "text": [
      "C:\\Users\\khcho\\anaconda3\\lib\\site-packages\\botorch\\models\\utils\\assorted.py:173: InputDataWarning: Input data is not contained to the unit cube. Please consider min-max scaling the input data.\n",
      "  warnings.warn(msg, InputDataWarning)\n"
     ]
    },
    {
     "name": "stdout",
     "output_type": "stream",
     "text": [
      "\n",
      "Batch 99: time = 4.84\n",
      " 1.4996269855830817\n",
      "\n",
      "Batch 100: time = 4.83"
     ]
    },
    {
     "name": "stderr",
     "output_type": "stream",
     "text": [
      "C:\\Users\\khcho\\anaconda3\\lib\\site-packages\\botorch\\models\\utils\\assorted.py:173: InputDataWarning: Input data is not contained to the unit cube. Please consider min-max scaling the input data.\n",
      "  warnings.warn(msg, InputDataWarning)\n"
     ]
    }
   ],
   "source": [
    "plain_res = []\n",
    "for _ in range(5):\n",
    "    # plain_res.append(run_drift(None, False, 30, 'UI', 0.03))\n",
    "    # plain_res.append(run_drift(None, False, 100, 'UI', 0.03))\n",
    "    plain_res.append(run_drift(None, False, 100, 'UI_learning', 0.03))\n",
    "\n",
    "#pos_emb_res = []\n",
    "#for _ in range(1):\n",
    "    # pos_emb_res.append(run_drift(8, True, 30, 'UI', 0.03))\n",
    "    # pos_emb_res.append(run_drift(128, True, 30, 'UI', 0.03))\n",
    "    # pos_emb_res.append(run_drift(64, True, 30, 'UI', 0.03))\n",
    "#    pos_emb_res.append(run_drift(64, True, 100, 'UI_learning', 0.03))"
   ]
  },
  {
   "cell_type": "code",
   "execution_count": null,
   "metadata": {},
   "outputs": [],
   "source": [
    "# the first argument is the dimension of positional encoding, must be even\n",
    "# if None, then the index of the run will be used\n",
    "# the indices of all the initial data set are set as 0 (perfect environment)\n",
    "# the second is if we map the positional encoding dimension to 1\n",
    "# the third is the total number of runs, excluding the first 5 init runs.\n",
    "# the fourth is the method of TVBO (the temporal kernel)\n",
    "# the fifth is the parameter of the temporal kernel, the original paper used 0.03\n",
    "res = run_drift(None, False, 30, 'UI', 0.03)"
   ]
  },
  {
   "cell_type": "code",
   "execution_count": null,
   "metadata": {},
   "outputs": [],
   "source": [
    "import pickle\n",
    "with open('single_Pos_8_TVBO_UI_0.03.pkl','wb') as fp:\n",
    "    pickle.dump(res, fp)"
   ]
  },
  {
   "cell_type": "code",
   "execution_count": null,
   "metadata": {},
   "outputs": [],
   "source": [
    "#plain_res_array = torch.tensor([plain_res[_]['outcome_Y'].tolist() for _ in range(5)]).squeeze(-1)\n",
    "#pos_emb_res_array = torch.tensor([pos_emb_res[_]['outcome_Y'].tolist() for _ in range(5)]).squeeze(-1)"
   ]
  },
  {
   "cell_type": "code",
   "execution_count": 26,
   "metadata": {},
   "outputs": [],
   "source": [
    "plain_res_array= torch.tensor([plain_res[_]['outcome_X'].tolist() for _ in range(4,5)]).squeeze(-1)"
   ]
  },
  {
   "cell_type": "code",
   "execution_count": 27,
   "metadata": {},
   "outputs": [
    {
     "data": {
      "text/plain": [
       "tensor([[[ 4.1310e+01,  1.7684e+03,  1.1662e+00, -2.6165e+01,  2.1120e+01,\n",
       "           0.0000e+00],\n",
       "         [ 5.6959e+01,  2.4629e+03,  1.9138e+00, -1.1922e+01,  8.5739e+00,\n",
       "           0.0000e+00],\n",
       "         [ 6.3980e+01,  1.9233e+03,  1.4151e+00, -2.0756e+01,  1.4535e+01,\n",
       "           0.0000e+00],\n",
       "         [ 4.9291e+01,  2.6346e+03,  2.7859e+00, -1.7332e+01,  1.8543e+01,\n",
       "           0.0000e+00],\n",
       "         [ 4.4476e+01,  2.2490e+03,  2.2625e+00, -1.4920e+01,  1.5975e+01,\n",
       "           0.0000e+00],\n",
       "         [ 6.1062e+01,  2.9432e+03,  8.7497e-01, -2.2405e+01,  1.2555e+01,\n",
       "           0.0000e+00],\n",
       "         [ 5.2146e+01,  1.6533e+03,  2.4129e+00, -9.5118e+00,  1.0567e+01,\n",
       "           0.0000e+00],\n",
       "         [ 3.8394e+01,  2.3657e+03,  1.7142e+00, -2.7816e+01,  2.3702e+01,\n",
       "           0.0000e+00],\n",
       "         [ 3.5819e+01,  2.0412e+03,  2.4075e+00, -2.0798e+01,  6.6026e+00,\n",
       "           0.0000e+00],\n",
       "         [ 5.0970e+01,  2.7526e+03,  1.5287e+00, -1.3314e+01,  2.1795e+01,\n",
       "           0.0000e+00],\n",
       "         [ 5.4111e+01,  2.5914e+03,  1.5175e+00, -8.3748e+00,  1.9184e+01,\n",
       "           1.0000e+00],\n",
       "         [ 4.4212e+01,  2.2468e+03,  2.1854e+00, -1.6552e+01,  1.6979e+01,\n",
       "           2.0000e+00],\n",
       "         [ 4.9607e+01,  2.7511e+03,  1.4114e+00, -1.4215e+01,  2.1626e+01,\n",
       "           3.0000e+00],\n",
       "         [ 4.5779e+01,  2.4436e+03,  2.2369e+00, -1.3484e+01,  1.7309e+01,\n",
       "           4.0000e+00],\n",
       "         [ 5.2055e+01,  2.5870e+03,  1.6578e+00, -7.9858e+00,  1.9630e+01,\n",
       "           5.0000e+00],\n",
       "         [ 4.9194e+01,  2.8370e+03,  1.3292e+00, -1.2303e+01,  2.0163e+01,\n",
       "           6.0000e+00],\n",
       "         [ 4.9323e+01,  2.8560e+03,  1.4981e+00, -1.1792e+01,  1.8138e+01,\n",
       "           7.0000e+00],\n",
       "         [ 5.1505e+01,  2.7108e+03,  1.8213e+00, -8.8106e+00,  1.7336e+01,\n",
       "           8.0000e+00],\n",
       "         [ 5.3146e+01,  2.7384e+03,  1.5736e+00, -1.0096e+01,  1.6735e+01,\n",
       "           9.0000e+00],\n",
       "         [ 4.3901e+01,  2.3738e+03,  2.0870e+00, -1.5715e+01,  1.5283e+01,\n",
       "           1.0000e+01],\n",
       "         [ 4.9615e+01,  2.8150e+03,  1.2415e+00, -1.2351e+01,  2.0607e+01,\n",
       "           1.1000e+01],\n",
       "         [ 4.8578e+01,  2.8375e+03,  1.4426e+00, -1.4624e+01,  2.1474e+01,\n",
       "           1.2000e+01],\n",
       "         [ 4.9703e+01,  2.7470e+03,  1.2098e+00, -1.2756e+01,  2.3071e+01,\n",
       "           1.3000e+01],\n",
       "         [ 5.2749e+01,  2.7629e+03,  1.7979e+00, -9.1113e+00,  1.9125e+01,\n",
       "           1.4000e+01],\n",
       "         [ 5.0406e+01,  2.7708e+03,  1.1524e+00, -1.2148e+01,  2.3128e+01,\n",
       "           1.5000e+01],\n",
       "         [ 5.1812e+01,  2.8828e+03,  1.5602e+00, -1.2100e+01,  1.6684e+01,\n",
       "           1.6000e+01],\n",
       "         [ 5.3187e+01,  2.9210e+03,  1.3236e+00, -1.1190e+01,  1.7825e+01,\n",
       "           1.7000e+01],\n",
       "         [ 5.1646e+01,  2.9153e+03,  1.4718e+00, -1.2862e+01,  1.5684e+01,\n",
       "           1.8000e+01],\n",
       "         [ 4.7878e+01,  2.9651e+03,  1.6083e+00, -1.5660e+01,  1.6145e+01,\n",
       "           1.9000e+01],\n",
       "         [ 5.4886e+01,  2.7515e+03,  1.4959e+00, -1.3290e+01,  1.6514e+01,\n",
       "           2.0000e+01],\n",
       "         [ 5.2793e+01,  2.9101e+03,  1.4862e+00, -1.4344e+01,  1.7424e+01,\n",
       "           2.1000e+01],\n",
       "         [ 5.4289e+01,  2.9332e+03,  1.6153e+00, -1.4074e+01,  1.5371e+01,\n",
       "           2.2000e+01],\n",
       "         [ 5.3106e+01,  2.7666e+03,  1.8511e+00, -1.5485e+01,  1.3135e+01,\n",
       "           2.3000e+01],\n",
       "         [ 5.4064e+01,  2.8395e+03,  1.3810e+00, -1.1472e+01,  2.1643e+01,\n",
       "           2.4000e+01],\n",
       "         [ 5.1793e+01,  2.6519e+03,  1.9163e+00, -1.5105e+01,  1.5754e+01,\n",
       "           2.5000e+01],\n",
       "         [ 5.0464e+01,  2.9138e+03,  1.5480e+00, -1.4691e+01,  1.3853e+01,\n",
       "           2.6000e+01],\n",
       "         [ 5.1419e+01,  2.8869e+03,  1.4710e+00, -1.4342e+01,  1.2145e+01,\n",
       "           2.7000e+01],\n",
       "         [ 5.1967e+01,  2.8609e+03,  1.4693e+00, -1.4307e+01,  1.1496e+01,\n",
       "           2.8000e+01],\n",
       "         [ 5.0418e+01,  2.6785e+03,  1.3194e+00, -1.5178e+01,  1.3855e+01,\n",
       "           2.9000e+01],\n",
       "         [ 4.9081e+01,  2.9062e+03,  1.7817e+00, -1.5925e+01,  1.5391e+01,\n",
       "           3.0000e+01],\n",
       "         [ 5.2188e+01,  2.9542e+03,  1.6429e+00, -1.5209e+01,  1.2781e+01,\n",
       "           3.1000e+01],\n",
       "         [ 5.3215e+01,  2.8916e+03,  1.7710e+00, -1.5075e+01,  1.4562e+01,\n",
       "           3.2000e+01],\n",
       "         [ 5.3138e+01,  2.9708e+03,  1.8503e+00, -1.5219e+01,  1.0160e+01,\n",
       "           3.3000e+01],\n",
       "         [ 5.3698e+01,  2.9129e+03,  1.7430e+00, -1.5264e+01,  1.0386e+01,\n",
       "           3.4000e+01],\n",
       "         [ 5.2177e+01,  2.7735e+03,  2.1478e+00, -1.4443e+01,  1.2510e+01,\n",
       "           3.5000e+01],\n",
       "         [ 5.3945e+01,  2.7564e+03,  2.0679e+00, -1.3568e+01,  9.0723e+00,\n",
       "           3.6000e+01],\n",
       "         [ 5.4022e+01,  2.7709e+03,  1.9395e+00, -1.4093e+01,  9.0541e+00,\n",
       "           3.7000e+01],\n",
       "         [ 5.2380e+01,  2.8072e+03,  1.8793e+00, -1.5140e+01,  1.9337e+01,\n",
       "           3.8000e+01],\n",
       "         [ 5.3497e+01,  2.9322e+03,  1.6273e+00, -1.4127e+01,  1.1287e+01,\n",
       "           3.9000e+01],\n",
       "         [ 5.2484e+01,  2.8349e+03,  1.8893e+00, -1.4545e+01,  1.3901e+01,\n",
       "           4.0000e+01],\n",
       "         [ 5.5654e+01,  2.9250e+03,  1.5385e+00, -1.3956e+01,  9.9777e+00,\n",
       "           4.1000e+01],\n",
       "         [ 5.3685e+01,  2.8592e+03,  1.6534e+00, -1.4005e+01,  1.9264e+01,\n",
       "           4.2000e+01],\n",
       "         [ 5.3916e+01,  2.8538e+03,  1.6454e+00, -1.4001e+01,  1.8906e+01,\n",
       "           4.3000e+01],\n",
       "         [ 5.0381e+01,  2.7627e+03,  1.6030e+00, -1.4355e+01,  1.4029e+01,\n",
       "           4.4000e+01],\n",
       "         [ 5.0725e+01,  2.7493e+03,  1.6151e+00, -1.4234e+01,  1.3929e+01,\n",
       "           4.5000e+01],\n",
       "         [ 5.3175e+01,  2.8657e+03,  1.6742e+00, -1.4128e+01,  2.0929e+01,\n",
       "           4.6000e+01],\n",
       "         [ 5.2909e+01,  2.9123e+03,  1.7362e+00, -1.3206e+01,  1.5711e+01,\n",
       "           4.7000e+01],\n",
       "         [ 5.3254e+01,  2.8900e+03,  1.7151e+00, -1.3248e+01,  1.5638e+01,\n",
       "           4.8000e+01],\n",
       "         [ 5.3508e+01,  2.8828e+03,  1.6654e+00, -1.3524e+01,  1.9133e+01,\n",
       "           4.9000e+01],\n",
       "         [ 5.2741e+01,  2.8081e+03,  1.6998e+00, -1.2686e+01,  2.4389e+01,\n",
       "           5.0000e+01],\n",
       "         [ 5.7853e+01,  2.1487e+03,  7.8770e-01, -1.5065e+01,  2.1401e+01,\n",
       "           5.1000e+01],\n",
       "         [ 5.1769e+01,  2.6937e+03,  1.6016e+00, -1.2217e+01,  2.1497e+01,\n",
       "           5.2000e+01],\n",
       "         [ 5.4236e+01,  2.6921e+03,  2.1683e+00, -1.5322e+01,  8.3312e+00,\n",
       "           5.3000e+01],\n",
       "         [ 5.5822e+01,  2.9604e+03,  1.5027e+00, -1.3494e+01,  1.0417e+01,\n",
       "           5.4000e+01],\n",
       "         [ 5.5305e+01,  2.2950e+03,  2.3833e+00, -1.7118e+01,  6.8897e+00,\n",
       "           5.5000e+01],\n",
       "         [ 5.0951e+01,  2.6962e+03,  1.2021e+00, -1.3710e+01,  8.1714e+00,\n",
       "           5.6000e+01],\n",
       "         [ 5.2952e+01,  2.8246e+03,  1.8451e+00, -1.4283e+01,  1.8746e+01,\n",
       "           5.7000e+01],\n",
       "         [ 4.9352e+01,  2.1583e+03,  2.5445e+00, -2.3595e+01,  1.1814e+01,\n",
       "           5.8000e+01],\n",
       "         [ 5.1219e+01,  2.8411e+03,  1.6578e+00, -1.3675e+01,  1.7787e+01,\n",
       "           5.9000e+01],\n",
       "         [ 5.1560e+01,  2.1873e+03,  1.9350e+00, -2.1439e+01,  1.4079e+01,\n",
       "           6.0000e+01],\n",
       "         [ 5.2510e+01,  2.9570e+03,  7.3950e-01, -1.8577e+01,  1.9388e+01,\n",
       "           6.1000e+01],\n",
       "         [ 5.5403e+01,  2.7739e+03,  1.0353e+00, -1.5473e+01,  1.0089e+01,\n",
       "           6.2000e+01],\n",
       "         [ 4.8821e+01,  2.7088e+03,  1.2380e+00, -1.1660e+01,  1.5054e+01,\n",
       "           6.3000e+01],\n",
       "         [ 4.8926e+01,  2.8461e+03,  1.5296e+00, -1.4608e+01,  6.6362e+00,\n",
       "           6.4000e+01],\n",
       "         [ 5.1981e+01,  2.7869e+03,  1.9872e+00, -1.2166e+01,  8.6607e+00,\n",
       "           6.5000e+01],\n",
       "         [ 5.0993e+01,  2.7612e+03,  1.7576e+00, -1.2553e+01,  9.9447e+00,\n",
       "           6.6000e+01],\n",
       "         [ 5.1183e+01,  2.7895e+03,  1.6195e+00, -1.6139e+01,  1.2639e+01,\n",
       "           6.7000e+01],\n",
       "         [ 5.2655e+01,  2.7957e+03,  1.0152e+00, -1.4374e+01,  1.1812e+01,\n",
       "           6.8000e+01],\n",
       "         [ 5.2312e+01,  2.8600e+03,  1.5795e+00, -1.5680e+01,  1.2033e+01,\n",
       "           6.9000e+01],\n",
       "         [ 5.2167e+01,  2.7061e+03,  2.0628e+00, -9.5860e+00,  2.4134e+01,\n",
       "           7.0000e+01],\n",
       "         [ 4.8156e+01,  2.0797e+03,  2.4606e+00, -1.2567e+01,  7.0779e+00,\n",
       "           7.1000e+01],\n",
       "         [ 5.3228e+01,  2.9080e+03,  1.6096e+00, -1.2931e+01,  1.2879e+01,\n",
       "           7.2000e+01],\n",
       "         [ 5.5514e+01,  2.8221e+03,  1.6032e+00, -1.3893e+01,  1.2117e+01,\n",
       "           7.3000e+01],\n",
       "         [ 5.1699e+01,  2.9098e+03,  1.5227e+00, -1.6436e+01,  1.0377e+01,\n",
       "           7.4000e+01],\n",
       "         [ 5.4175e+01,  2.8225e+03,  1.3292e+00, -1.2447e+01,  1.3375e+01,\n",
       "           7.5000e+01],\n",
       "         [ 5.3648e+01,  2.8830e+03,  1.8166e+00, -1.2980e+01,  9.5901e+00,\n",
       "           7.6000e+01],\n",
       "         [ 4.9378e+01,  2.8253e+03,  2.0339e+00, -1.2530e+01,  7.3337e+00,\n",
       "           7.7000e+01],\n",
       "         [ 5.8174e+01,  2.7272e+03,  1.9934e+00, -2.0227e+01,  1.5052e+01,\n",
       "           7.8000e+01],\n",
       "         [ 5.0232e+01,  2.7357e+03,  2.5531e+00, -1.0517e+01,  1.0829e+01,\n",
       "           7.9000e+01],\n",
       "         [ 5.6173e+01,  2.5089e+03,  2.3794e+00, -2.3389e+01,  7.5534e+00,\n",
       "           8.0000e+01],\n",
       "         [ 5.4981e+01,  2.6864e+03,  1.9210e+00, -1.8033e+01,  1.3777e+01,\n",
       "           8.1000e+01],\n",
       "         [ 5.2352e+01,  2.7452e+03,  1.8485e+00, -1.6262e+01,  1.4237e+01,\n",
       "           8.2000e+01],\n",
       "         [ 5.7542e+01,  2.6936e+03,  1.7355e+00, -1.6717e+01,  8.5299e+00,\n",
       "           8.3000e+01],\n",
       "         [ 5.3522e+01,  2.7631e+03,  1.4439e+00, -1.1008e+01,  1.8739e+01,\n",
       "           8.4000e+01],\n",
       "         [ 5.4237e+01,  2.6904e+03,  1.5661e+00, -1.2469e+01,  2.3334e+01,\n",
       "           8.5000e+01],\n",
       "         [ 5.6977e+01,  2.7135e+03,  1.8615e+00, -1.3970e+01,  8.2787e+00,\n",
       "           8.6000e+01],\n",
       "         [ 5.6987e+01,  2.8754e+03,  2.7811e+00, -2.5113e+01,  2.2995e+01,\n",
       "           8.7000e+01],\n",
       "         [ 5.7102e+01,  2.5658e+03,  1.2432e+00, -1.7279e+01,  1.0440e+01,\n",
       "           8.8000e+01],\n",
       "         [ 5.3290e+01,  2.3625e+03,  1.7315e+00, -1.7113e+01,  1.8826e+01,\n",
       "           8.9000e+01],\n",
       "         [ 5.8658e+01,  2.7841e+03,  1.8484e+00, -9.5412e+00,  1.3195e+01,\n",
       "           9.0000e+01],\n",
       "         [ 4.9904e+01,  2.1562e+03,  1.4244e+00, -2.6571e+01,  7.9006e+00,\n",
       "           9.1000e+01],\n",
       "         [ 5.2309e+01,  1.9831e+03,  2.4064e+00, -1.3245e+01,  1.8177e+01,\n",
       "           9.2000e+01],\n",
       "         [ 3.5685e+01,  2.4381e+03,  1.6824e+00, -1.1564e+01,  2.0083e+01,\n",
       "           9.3000e+01],\n",
       "         [ 5.7868e+01,  2.7603e+03,  1.8193e+00, -1.8531e+01,  2.1786e+01,\n",
       "           9.4000e+01],\n",
       "         [ 5.9527e+01,  2.5458e+03,  2.4121e+00, -2.8585e+01,  8.1770e+00,\n",
       "           9.5000e+01],\n",
       "         [ 5.8120e+01,  2.9301e+03,  9.4833e-01, -1.1596e+01,  2.0098e+01,\n",
       "           9.6000e+01],\n",
       "         [ 4.5335e+01,  2.3312e+03,  1.8829e+00, -1.8396e+01,  2.2186e+01,\n",
       "           9.7000e+01],\n",
       "         [ 5.3122e+01,  2.4349e+03,  2.7722e+00, -2.7858e+01,  1.0881e+01,\n",
       "           9.8000e+01],\n",
       "         [ 5.8854e+01,  2.4209e+03,  1.7480e+00, -1.0031e+01,  2.3360e+01,\n",
       "           9.9000e+01]]])"
      ]
     },
     "execution_count": 27,
     "metadata": {},
     "output_type": "execute_result"
    }
   ],
   "source": [
    "plain_res_array"
   ]
  },
  {
   "cell_type": "code",
   "execution_count": 28,
   "metadata": {},
   "outputs": [],
   "source": [
    "plain_res_array = torch.tensor([plain_res[_]['outcome_Y'].tolist() for _ in range(5)]).squeeze(-1)"
   ]
  },
  {
   "cell_type": "code",
   "execution_count": 29,
   "metadata": {
    "scrolled": true
   },
   "outputs": [
    {
     "data": {
      "text/plain": [
       "tensor([[0.9590, 0.9742, 4.2024, 1.0093, 1.0163, 0.9044, 0.9191, 0.0740, 0.9700,\n",
       "         1.0448, 1.1128, 0.9787, 1.0428, 0.9687, 1.0419, 0.9411, 0.9890, 1.0232,\n",
       "         0.9117, 0.9825, 1.0064, 0.9975, 0.9724, 1.0157, 1.0261, 1.0161, 0.9765,\n",
       "         0.9403, 1.0142, 0.9986, 1.0118, 1.0320, 0.9756, 1.0097, 1.0341, 1.1822,\n",
       "         1.0736, 1.0025, 1.0270, 0.9904, 1.0008, 1.1397, 1.0707, 1.0440, 1.0030,\n",
       "         1.0392, 1.0712, 0.8927, 1.1042, 1.0878, 0.9639, 1.0377, 0.8899, 0.9808,\n",
       "         0.9974, 0.9889, 3.5621, 0.9685, 0.9435, 0.9392, 0.9725, 0.8745, 0.9720,\n",
       "         0.9672, 0.8959, 0.9357, 0.8319, 0.8902, 0.9306, 0.8780, 0.8310, 1.0249,\n",
       "         0.9677, 0.6663, 1.0381, 0.6863, 0.8070, 0.8169, 0.8771, 0.8786, 0.8512,\n",
       "         1.0427, 0.9819, 0.9711, 0.9606, 1.0771, 0.7879, 0.8623, 1.0933, 0.9090,\n",
       "         0.9785, 0.8076, 0.7371, 1.0377, 0.9778, 0.8129, 0.9004, 0.8700, 1.0031,\n",
       "         0.6698, 0.8478, 0.9546, 0.8749, 0.8814, 1.0539, 0.8303, 0.9590, 1.0259,\n",
       "         0.9715],\n",
       "        [0.9590, 0.9742, 4.2024, 1.0093, 1.0163, 0.9044, 0.9191, 0.0740, 0.9700,\n",
       "         1.0448, 0.8693, 1.0827, 0.9934, 0.9878, 1.1129, 0.8187, 0.9832, 0.9756,\n",
       "         0.9961, 0.9955, 0.9659, 1.0119, 0.9848, 1.0367, 1.0096, 1.0155, 1.0111,\n",
       "         0.9952, 1.0091, 1.0699, 0.8836, 0.9710, 0.9051, 1.0318, 0.8643, 0.9816,\n",
       "         0.9181, 0.9734, 0.9132, 0.9804, 0.8810, 0.9465, 0.9834, 0.9698, 1.0064,\n",
       "         1.0217, 0.8816, 0.9611, 0.9373, 1.0209, 0.9204, 1.0158, 0.9707, 1.0038,\n",
       "         0.9717, 0.9977, 0.9298, 0.9703, 0.8398, 0.8689, 0.9675, 0.9892, 0.9611,\n",
       "         0.8421, 0.8286, 0.9622, 0.9424, 0.9950, 0.9633, 0.9563, 0.9744, 0.9119,\n",
       "         0.9531, 0.9808, 0.8503, 0.9661, 0.9699, 0.9796, 0.9156, 0.9098, 0.9833,\n",
       "         0.9758, 0.9921, 0.9742, 0.9542, 0.9483, 0.9406, 0.9548, 0.9456, 0.9476,\n",
       "         0.9109, 0.9504, 0.9645, 0.9329, 0.9676, 0.9628, 0.8884, 0.9587, 0.9253,\n",
       "         0.9462, 0.9858, 0.9533, 0.9666, 0.9578, 0.9649, 0.9561, 0.9729, 0.9242,\n",
       "         0.9228],\n",
       "        [0.9590, 0.9742, 4.2024, 1.0093, 1.0163, 0.9044, 0.9191, 0.0740, 0.9700,\n",
       "         1.0448, 1.1860, 0.9830, 1.0895, 0.9988, 0.9222, 0.9322, 0.9492, 1.0690,\n",
       "         0.9347, 0.9276, 1.1127, 0.9790, 0.9604, 0.9067, 1.1704, 1.0090, 1.1226,\n",
       "         1.1193, 0.9759, 0.9245, 0.9440, 0.9900, 0.9906, 0.9779, 0.8822, 1.2232,\n",
       "         0.9253, 0.9582, 0.8953, 0.9667, 1.1366, 0.9640, 1.1732, 0.9330, 0.8994,\n",
       "         0.8684, 1.0025, 0.8302, 0.8368, 0.9394, 1.0650, 1.0418, 1.0024, 0.9489,\n",
       "         0.8791, 0.8639, 0.9189, 0.8900, 0.9295, 0.8846, 0.8244, 0.9474, 0.9008,\n",
       "         0.8905, 0.9918, 0.8704, 0.9408, 0.8929, 0.7249, 0.8007, 0.9274, 0.9983,\n",
       "         1.0342, 0.8526, 0.8809, 0.7239, 0.7921, 0.8083, 0.8825, 0.9408, 0.7333,\n",
       "         0.8104, 0.8703, 0.8314, 0.7449, 0.8639, 1.0043, 0.9076, 0.9236, 0.9263,\n",
       "         0.8738, 1.0394, 0.9293, 0.9299, 0.8354, 0.9063, 1.0321, 0.8082, 0.9652,\n",
       "         0.8695, 0.9366, 0.9279, 0.8024, 0.9287, 0.8369, 0.8229, 1.0330, 0.8830,\n",
       "         0.8109],\n",
       "        [0.9590, 0.9742, 4.2024, 1.0093, 1.0163, 0.9044, 0.9191, 0.0740, 0.9700,\n",
       "         1.0448, 1.0395, 0.9674, 0.9667, 1.0775, 0.9513, 1.1074, 1.0333, 1.0839,\n",
       "         1.1136, 1.0934, 1.1333, 1.1125, 1.0927, 1.0842, 1.1151, 1.0897, 1.0865,\n",
       "         1.1104, 1.1346, 1.1319, 1.0747, 1.0987, 1.1174, 1.1263, 1.1180, 1.1364,\n",
       "         1.1339, 1.0860, 1.1044, 1.0949, 1.0822, 1.0871, 1.0978, 1.0989, 1.0820,\n",
       "         1.0717, 1.0867, 1.0798, 1.0625, 1.0569, 1.0564, 1.0338, 1.0275, 1.0435,\n",
       "         1.0197, 1.0200, 1.0161, 1.0003, 0.9716, 0.9759, 0.8442, 0.9262, 0.8460,\n",
       "         0.9447, 0.9132, 0.9230, 0.8518, 0.9428, 0.9135, 0.8979, 0.7343, 0.6742,\n",
       "         0.8413, 1.0211, 0.8270, 0.8684, 0.8885, 0.8815, 0.9104, 0.8574, 0.8726,\n",
       "         0.8190, 0.9148, 0.8499, 0.8511, 0.8372, 0.8299, 0.7211, 0.9300, 1.0591,\n",
       "         0.9196, 0.8402, 0.8674, 0.8258, 0.8613, 0.9238, 0.7631, 1.0383, 0.8774,\n",
       "         0.8990, 1.0422, 0.8308, 0.8789, 0.9489, 0.9271, 0.8372, 0.8596, 0.9094,\n",
       "         0.8914],\n",
       "        [0.9590, 0.9742, 4.2024, 1.0093, 1.0163, 0.9044, 0.9191, 0.0740, 0.9700,\n",
       "         1.0448, 1.0172, 1.0998, 1.0748, 1.0991, 1.0372, 1.0848, 1.0845, 1.0520,\n",
       "         1.0382, 1.1121, 1.0791, 1.0875, 1.0736, 1.0435, 1.0680, 1.0610, 1.0528,\n",
       "         1.0647, 1.1037, 1.0223, 1.0531, 1.0410, 1.0391, 1.0357, 1.0420, 1.0731,\n",
       "         1.0621, 1.0549, 1.0548, 1.0815, 1.0571, 1.0435, 1.0487, 1.0396, 1.0396,\n",
       "         1.0239, 1.0235, 1.0360, 1.0364, 1.0332, 1.0214, 1.0245, 1.0210, 1.0245,\n",
       "         1.0177, 1.0165, 1.0174, 1.0120, 1.0081, 0.9984, 0.9368, 0.9788, 0.9817,\n",
       "         1.0071, 0.9418, 0.9544, 0.9765, 0.8809, 0.9612, 0.8913, 0.9713, 0.9799,\n",
       "         0.9197, 0.9304, 0.9485, 0.9357, 0.9383, 0.9597, 0.9527, 0.9369, 0.8241,\n",
       "         0.9638, 0.9795, 0.9479, 0.9645, 0.9647, 0.9175, 1.0013, 0.9173, 0.9575,\n",
       "         0.9606, 0.9376, 0.9909, 0.9509, 0.9520, 0.9858, 0.9997, 0.9738, 0.9070,\n",
       "         1.0121, 0.8456, 0.8467, 0.7593, 1.0005, 1.0027, 1.0289, 0.8208, 0.9143,\n",
       "         0.9823]])"
      ]
     },
     "execution_count": 29,
     "metadata": {},
     "output_type": "execute_result"
    }
   ],
   "source": [
    "plain_res_array"
   ]
  },
  {
   "cell_type": "code",
   "execution_count": 17,
   "metadata": {},
   "outputs": [
    {
     "data": {
      "image/png": "[encoded data removed]",
      "text/plain": [
       "<Figure size 2000x1200 with 1 Axes>"
      ]
     },
     "metadata": {},
     "output_type": "display_data"
    }
   ],
   "source": [
    "import matplotlib.pyplot as plt\n",
    "\n",
    "plt.rcParams['figure.dpi'] = 200\n",
    "plt.rcParams['figure.figsize'] = (10,6)\n",
    "fig, axs = plt.subplots(1, 1)\n",
    "dA_init = 1.0\n",
    "dA_final = 1.5\n",
    "No_run_max = 20\n",
    "w_change = [1.,1.,1.,1.,1.]*2\n",
    "#for _ in range(2, 31):\n",
    "#    if _ > 20:\n",
    "#        _ = 20\n",
    "#    dA = dA_init - (dA_init - dA_final)/(No_run_max-1)*(_-1)\n",
    "#    w_change.append(dA)\n",
    "\n",
    "for _ in range(2, 101):\n",
    "    #if _ > 20:\n",
    "    #    _ = 20\n",
    "    #dA = dA_init - (dA_init - dA_final)/(No_run_max-1)*(_-1)\n",
    "    #dA = 0.5 /(1 + math.exp(-0.15*(_-50-1)))+1\n",
    "    dA = 0.5 /(1 + math.exp(-0.10*(_-50-1)))+1\n",
    "    w_change.append(dA)\n",
    "\n",
    "\n",
    "axs.plot(range(1, 110), plain_res_array.mean(0))\n",
    "axs.fill_between(range(1, 110), \n",
    "                 plain_res_array.mean(0)-plain_res_array.std(0), \n",
    "                 plain_res_array.mean(0)+plain_res_array.std(0),\n",
    "                 alpha=0.2)\n",
    "axs.plot(range(1, 110), [1.]*109)\n",
    "axs.plot(range(1, 110), w_change, 'g--')\n",
    "#axs.set_ylabel('Thickness (mm)')\n",
    "axs.set_ylim([0,4])\n",
    "plt.show()"
   ]
  },
  {
   "cell_type": "code",
   "execution_count": null,
   "metadata": {},
   "outputs": [],
   "source": [
    "import matplotlib.pyplot as plt\n",
    "\n",
    "plt.rcParams['figure.dpi'] = 200\n",
    "plt.rcParams['figure.figsize'] = (10,6)\n",
    "fig, axs = plt.subplots(1, 1)\n",
    "#dA_init = 1.0\n",
    "#dA_final = 1.5\n",
    "#No_run_max = 20\n",
    "w_change = [1.,1.,1.,1.,1.]*2\n",
    "for _ in range(2, 101):\n",
    "    #if _ > 20:\n",
    "    #    _ = 20\n",
    "    #dA = dA_init - (dA_init - dA_final)/(No_run_max-1)*(_-1)\n",
    "    dA = 0.5 /(1 + math.exp(-0.15*(_-50-1)))+1\n",
    "    w_change.append(dA)\n",
    "    \n",
    "axs.plot(range(1, 110), pos_emb_res_array.mean(0))\n",
    "axs.fill_between(range(1, 110), \n",
    "                 pos_emb_res_array.mean(0)-pos_emb_res_array.std(0), \n",
    "                 pos_emb_res_array.mean(0)+pos_emb_res_array.std(0),\n",
    "                 alpha=0.2)\n",
    "axs.plot(range(1, 110), [1.]*109)\n",
    "axs.plot(range(1, 110), w_change, 'g--')\n",
    "axs.set_ylabel('Thickness (mm)')\n",
    "axs.set_ylim([0,4])\n",
    "plt.show()"
   ]
  },
  {
   "cell_type": "code",
   "execution_count": null,
   "metadata": {},
   "outputs": [],
   "source": [
    "import pickle \n",
    "wrong_res = pickle.load(open('all_run_correct.pkl', 'rb'))"
   ]
  },
  {
   "cell_type": "code",
   "execution_count": null,
   "metadata": {},
   "outputs": [],
   "source": [
    "from botorch.utils.multi_objective.box_decompositions.dominated import DominatedPartitioning\n",
    "bd = DominatedPartitioning(ref_point=torch.tensor([-5., -5.]), Y=obj_convert()(ans[\"outcome_Y\"]))\n",
    "volume = bd.compute_hypervolume().item()"
   ]
  },
  {
   "cell_type": "code",
   "execution_count": 30,
   "metadata": {},
   "outputs": [],
   "source": [
    "w_change.append(dA)"
   ]
  },
  {
   "cell_type": "code",
   "execution_count": 31,
   "metadata": {},
   "outputs": [
    {
     "data": {
      "text/plain": [
       "[1.0,\n",
       " 1.0,\n",
       " 1.0,\n",
       " 1.0,\n",
       " 1.0,\n",
       " 1.0,\n",
       " 1.0,\n",
       " 1.0,\n",
       " 1.0,\n",
       " 1.0,\n",
       " 1.000321089850293,\n",
       " 1.0003730144169183,\n",
       " 1.0004333286055396,\n",
       " 1.000503385410043,\n",
       " 1.0005847551325278,\n",
       " 1.0006792599752146,\n",
       " 1.000789014030202,\n",
       " 1.0009164694712465,\n",
       " 1.001064469857982,\n",
       " 1.0012363115783174,\n",
       " 1.0014358145778501,\n",
       " 1.0016674036537068,\n",
       " 1.0019362017203355,\n",
       " 1.0022481365804705,\n",
       " 1.0026100628467791,\n",
       " 1.0030299007457921,\n",
       " 1.0035167935774976,\n",
       " 1.00408128557658,\n",
       " 1.004735521790973,\n",
       " 1.0054934713152965,\n",
       " 1.0063711747320558,\n",
       " 1.0073870158466365,\n",
       " 1.008562016657864,\n",
       " 1.0099201528670387,\n",
       " 1.0114886849550129,\n",
       " 1.0132984967884329,\n",
       " 1.0153844296785741,\n",
       " 1.0177855946363181,\n",
       " 1.0205456391002325,\n",
       " 1.0237129365887834,\n",
       " 1.0273406586079703,\n",
       " 1.0314866780284984,\n",
       " 1.0362132426807589,\n",
       " 1.0415863482469612,\n",
       " 1.0476747324495548,\n",
       " 1.0545484105978065,\n",
       " 1.0622766790937082,\n",
       " 1.0709255324502438,\n",
       " 1.0805544747882927,\n",
       " 1.0912127619031782,\n",
       " 1.1029351859004737,\n",
       " 1.1157376082504913,\n",
       " 1.129612550408923,\n",
       " 1.144525248687498,\n",
       " 1.1604106504123035,\n",
       " 1.1771718468871022,\n",
       " 1.194680383025389,\n",
       " 1.2127787415941704,\n",
       " 1.2312850773281252,\n",
       " 1.25,\n",
       " 1.2687149226718748,\n",
       " 1.2872212584058296,\n",
       " 1.305319616974611,\n",
       " 1.3228281531128978,\n",
       " 1.3395893495876965,\n",
       " 1.355474751312502,\n",
       " 1.370387449591077,\n",
       " 1.3842623917495087,\n",
       " 1.3970648140995263,\n",
       " 1.4087872380968218,\n",
       " 1.4194455252117073,\n",
       " 1.4290744675497562,\n",
       " 1.4377233209062918,\n",
       " 1.4454515894021935,\n",
       " 1.4523252675504452,\n",
       " 1.4584136517530388,\n",
       " 1.4637867573192411,\n",
       " 1.4685133219715016,\n",
       " 1.4726593413920295,\n",
       " 1.4762870634112166,\n",
       " 1.4794543608997675,\n",
       " 1.4822144053636819,\n",
       " 1.4846155703214259,\n",
       " 1.4867015032115671,\n",
       " 1.4885113150449871,\n",
       " 1.4900798471329613,\n",
       " 1.491437983342136,\n",
       " 1.4926129841533635,\n",
       " 1.4936288252679442,\n",
       " 1.4945065286847035,\n",
       " 1.495264478209027,\n",
       " 1.49591871442342,\n",
       " 1.4964832064225024,\n",
       " 1.4969700992542079,\n",
       " 1.4973899371532209,\n",
       " 1.4977518634195295,\n",
       " 1.4980637982796645,\n",
       " 1.4983325963462932,\n",
       " 1.4985641854221496,\n",
       " 1.4987636884216826,\n",
       " 1.4989355301420177,\n",
       " 1.4990835305287535,\n",
       " 1.499210985969798,\n",
       " 1.4993207400247854,\n",
       " 1.4994152448674722,\n",
       " 1.4994966145899573,\n",
       " 1.4995666713944604,\n",
       " 1.4996269855830817,\n",
       " 1.499678910149707,\n",
       " 1.499678910149707]"
      ]
     },
     "execution_count": 31,
     "metadata": {},
     "output_type": "execute_result"
    }
   ],
   "source": [
    "w_change"
   ]
  },
  {
   "cell_type": "code",
   "execution_count": null,
   "metadata": {},
   "outputs": [],
   "source": []
  },
  {
   "cell_type": "code",
   "execution_count": null,
   "metadata": {},
   "outputs": [],
   "source": []
  }
 ],
 "metadata": {
  "kernelspec": {
   "display_name": "Python 3 (ipykernel)",
   "language": "python",
   "name": "python3"
  },
  "language_info": {
   "codemirror_mode": {
    "name": "ipython",
    "version": 3
   },
   "file_extension": ".py",
   "mimetype": "text/x-python",
   "name": "python",
   "nbconvert_exporter": "python",
   "pygments_lexer": "ipython3",
   "version": "3.9.13"
  }
 },
 "nbformat": 4,
 "nbformat_minor": 2
}
